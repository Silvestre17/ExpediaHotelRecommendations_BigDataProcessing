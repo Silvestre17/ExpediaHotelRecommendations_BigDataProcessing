{
 "cells": [
  {
   "cell_type": "markdown",
   "id": "2fe9b57e-7076-4492-8969-dd3b6ee663ab",
   "metadata": {},
   "source": [
    "<center><br> <img src=\"https://www.iscte-iul.pt/assets/images/logo_iscte_detailed.svg\" style=\"width: 300px;\"></center><br>"
   ]
  },
  {
   "cell_type": "markdown",
   "id": "2f2f4c93-416b-47ef-8be4-1b0231a5f07e",
   "metadata": {},
   "source": [
    "<img src=\"https://logos-world.net/wp-content/uploads/2021/02/Expedia-Emblem.png\" style=\"width: 300px;margin-top: 30px;\" align=\"right\">\n",
    "   <div><center><h1>Projeto: Expedia Hotel Recommendations</h1></center></div>\n",
    "   <div><center><h4>Processamento de Big Data  -   2º Semestre | 2022/23</h4></center></div>\n",
    "   <div><center><b>Docentes:</b> João Oliveira <b>|</b> Adriano Lopes</center>\n",
    " <br>\n",
    "    <div><center><h4>Grupo 17</h4></center>\n",
    "    <div><center> André Silvestre Nº104532 <b>|</b> Rita Matos Nº104936 <b>CDB1</b></center>\n",
    " <br>    \n",
    " <br>\n",
    " <br>\n",
    " <br>"
   ]
  },
  {
   "cell_type": "markdown",
   "id": "fd8e52eb-86f0-461a-9a78-fb2acd92e36b",
   "metadata": {},
   "source": [
    "<style>\n",
    "@import url('https://fonts.cdnfonts.com/css/avenir-next-lt-pro?styles=29974');\n",
    "</style>\n",
    "\n",
    "<div style=\"background: linear-gradient(to right, #075924, #067572, #0371B1, #001D45); \n",
    "            padding: 15px; color: white; border-radius: 30000px; text-align: center;\">\n",
    "    <center><h1 style=\"color: white;font-size: 30px; font-family: 'Avenir Next LT Pro', sans-serif;\"><b>4 | Modelos de ML</b></h1></center>\n",
    "</div>"
   ]
  },
  {
   "cell_type": "markdown",
   "id": "49dabe8d-cdc5-4c85-afbe-9323f46922a4",
   "metadata": {},
   "source": [
    "### PySpark Session"
   ]
  },
  {
   "cell_type": "code",
   "execution_count": 1,
   "id": "0e962c5d-be69-4ee9-95ce-ac1d8305b022",
   "metadata": {
    "tags": []
   },
   "outputs": [
    {
     "data": {
      "text/plain": [
       "Intitializing PySpark ..."
      ]
     },
     "metadata": {},
     "output_type": "display_data"
    },
    {
     "name": "stdout",
     "output_type": "stream",
     "text": [
      "23/04/07 13:43:11 WARN Utils: Your hostname, PCAndre resolves to a loopback address: 127.0.1.1; using 172.18.60.45 instead (on interface eth0)\n",
      "23/04/07 13:43:11 WARN Utils: Set SPARK_LOCAL_IP if you need to bind to another address\n",
      "23/04/07 13:43:12 WARN NativeCodeLoader: Unable to load native-hadoop library for your platform... using builtin-java classes where applicable\n",
      "23/04/07 13:43:13 WARN Utils: Service 'SparkUI' could not bind on port 4040. Attempting port 4041.\n",
      "23/04/07 13:43:13 WARN Utils: Service 'SparkUI' could not bind on port 4041. Attempting port 4042.\n"
     ]
    },
    {
     "data": {
      "text/plain": [
       "Spark Web UI available at http://172.18.60.45:4042\n",
       "SparkContext available as 'sc' (version = 3.3.2, master = local[*], app id = local-1680871393464)\n",
       "SparkSession available as 'spark'\n"
      ]
     },
     "metadata": {},
     "output_type": "display_data"
    },
    {
     "name": "stdout",
     "output_type": "stream",
     "text": [
      "23/04/07 13:43:14 WARN SparkSession: Using an existing Spark session; only runtime SQL configurations will take effect.\n"
     ]
    }
   ],
   "source": [
    "from pyspark.sql import SparkSession\n",
    "\n",
    "spark = SparkSession.builder.appName('Expedia Project') \\\n",
    "    .config(\"spark.driver.memory\", \"10g\") \\\n",
    "    .config(\"spark.executor.memory\", \"10g\") \\\n",
    "    .config(\"spark.driver.host\", \"127.0.0.1\") \\\n",
    "    .getOrCreate()"
   ]
  },
  {
   "cell_type": "markdown",
   "id": "d9415108-956c-4cd3-9939-150201137fc9",
   "metadata": {
    "tags": []
   },
   "source": [
    "# 📚 Import das Bibliotecas"
   ]
  },
  {
   "cell_type": "code",
   "execution_count": 2,
   "id": "83ec67cf-5140-4e63-9564-40efffeb6889",
   "metadata": {
    "tags": []
   },
   "outputs": [],
   "source": [
    "# Imports Gerais\n",
    "import os\n",
    "import sys\n",
    "\n",
    "# Imports Python\n",
    "import numpy as np\n",
    "import pandas as pd  \n",
    "import warnings\n",
    "warnings.filterwarnings(\"ignore\")\n",
    "\n",
    "# Imports PySpark\n",
    "import pyspark.sql.functions as F\n",
    "from pyspark.sql.types import *"
   ]
  },
  {
   "cell_type": "markdown",
   "id": "b55913e7-8a1f-4e53-a39e-6af051594973",
   "metadata": {},
   "source": [
    "# 🧮 Importar Bases de Dados (parquet)"
   ]
  },
  {
   "cell_type": "code",
   "execution_count": 3,
   "id": "954f9cd9-e008-4a8f-b3ba-7f72c60f6748",
   "metadata": {
    "tags": []
   },
   "outputs": [],
   "source": [
    "# Leitura da base de dados \"df-expedia-3\" guardada anteriormente\n",
    "df_expedia = spark.read.parquet('df-expedia-3')\n",
    "# df_expedia = spark.read.parquet('s3://pdb-grupo17-bucket-as/df-expedia-3')"
   ]
  },
  {
   "cell_type": "code",
   "execution_count": 4,
   "id": "45421c3f-7d52-44b4-a908-8ffa99bf167e",
   "metadata": {
    "tags": []
   },
   "outputs": [],
   "source": [
    "# Leitura da base de dados \"small-df-expedia\" guardada anteriormente\n",
    "small_df_expedia = spark.read.parquet('small-df-expedia')\n",
    "# small_df_expedia = spark.read.parquet('s3://pdb-grupo17-bucket-as/small-df-expedia')"
   ]
  },
  {
   "cell_type": "code",
   "execution_count": 5,
   "id": "d4da8e7d-df61-48c0-84af-a33e3ae8065c",
   "metadata": {
    "tags": []
   },
   "outputs": [
    {
     "name": "stdout",
     "output_type": "stream",
     "text": [
      "Nº de Observações: 37455577\n",
      "Nº de Observações: 11236477\n",
      "root\n",
      " |-- srch_destination_id: integer (nullable = true)\n",
      " |-- site_name: integer (nullable = true)\n",
      " |-- posa_continent: integer (nullable = true)\n",
      " |-- user_location_country: integer (nullable = true)\n",
      " |-- is_package: integer (nullable = true)\n",
      " |-- srch_adults_cnt: integer (nullable = true)\n",
      " |-- srch_children_cnt: integer (nullable = true)\n",
      " |-- srch_destination_type_id: integer (nullable = true)\n",
      " |-- is_booking: integer (nullable = true)\n",
      " |-- hotel_continent: integer (nullable = true)\n",
      " |-- hotel_country: integer (nullable = true)\n",
      " |-- hotel_market: integer (nullable = true)\n",
      " |-- pcaFeature_1: double (nullable = true)\n",
      " |-- pcaFeature_2: double (nullable = true)\n",
      " |-- pcaFeature_3: double (nullable = true)\n",
      " |-- tempo_estadia: integer (nullable = true)\n",
      " |-- hotel_cluster: integer (nullable = true)\n",
      "\n",
      "root\n",
      " |-- srch_destination_id: integer (nullable = true)\n",
      " |-- site_name: integer (nullable = true)\n",
      " |-- posa_continent: integer (nullable = true)\n",
      " |-- user_location_country: integer (nullable = true)\n",
      " |-- is_package: integer (nullable = true)\n",
      " |-- srch_adults_cnt: integer (nullable = true)\n",
      " |-- srch_children_cnt: integer (nullable = true)\n",
      " |-- srch_destination_type_id: integer (nullable = true)\n",
      " |-- is_booking: integer (nullable = true)\n",
      " |-- hotel_continent: integer (nullable = true)\n",
      " |-- hotel_country: integer (nullable = true)\n",
      " |-- hotel_market: integer (nullable = true)\n",
      " |-- pcaFeature_1: double (nullable = true)\n",
      " |-- pcaFeature_2: double (nullable = true)\n",
      " |-- pcaFeature_3: double (nullable = true)\n",
      " |-- tempo_estadia: integer (nullable = true)\n",
      " |-- hotel_cluster: integer (nullable = true)\n",
      "\n"
     ]
    }
   ],
   "source": [
    "# Confirmação do nº de observações e tipos de dados\n",
    "print(\"Nº de Observações:\", df_expedia.count())\n",
    "print(\"Nº de Observações:\", small_df_expedia.count())\n",
    "\n",
    "df_expedia.printSchema()\n",
    "small_df_expedia.printSchema()"
   ]
  },
  {
   "cell_type": "markdown",
   "id": "e12fe1a9-a0be-4a39-9e6c-c9df6ba7a782",
   "metadata": {},
   "source": [
    "---"
   ]
  },
  {
   "cell_type": "markdown",
   "id": "70e9154a-14a7-4e0e-98be-c54385524702",
   "metadata": {},
   "source": [
    "# ⚖️ Divisão em Conjunto Treino/Teste"
   ]
  },
  {
   "cell_type": "code",
   "execution_count": 8,
   "id": "0ecedb3f-0111-4496-afd6-c71dd6fb4306",
   "metadata": {
    "tags": []
   },
   "outputs": [
    {
     "data": {
      "application/vnd.jupyter.widget-view+json": {
       "model_id": "ceae3d58a50a4a0498e4d5faffffdd81",
       "version_major": 2,
       "version_minor": 0
      },
      "text/plain": [
       "VBox()"
      ]
     },
     "metadata": {},
     "output_type": "display_data"
    },
    {
     "data": {
      "application/vnd.jupyter.widget-view+json": {
       "model_id": "",
       "version_major": 2,
       "version_minor": 0
      },
      "text/plain": [
       "FloatProgress(value=0.0, bar_style='info', description='Progress:', layout=Layout(height='25px', width='50%'),…"
      ]
     },
     "metadata": {},
     "output_type": "display_data"
    },
    {
     "name": "stdout",
     "output_type": "stream",
     "text": [
      "Existem 10110707 observações no Conjunto de Treino e 1125432 no Conjunto de Teste.\n",
      "Existem 33708161 observações no Conjunto de Treino e 3747416 no Conjunto de Teste. (AWS)"
     ]
    }
   ],
   "source": [
    "# Divisão em Conjunto Treino/Teste\n",
    "df_train, df_test = small_df_expedia.randomSplit([0.9, 0.1], 42) # Computador Local\n",
    "df_train_aws, df_test_aws = df_expedia.randomSplit([0.9, 0.1], 42)     # AWS\n",
    "\n",
    "n_df_train = df_train.count()             # Conjunto Treino do Computador Local (90%)\n",
    "n_df_test = df_test.count()               # Conjunto Teste do Computador Local  (10%)\n",
    "\n",
    "n_df_train_aws = df_train_aws.count()   # Conjunto Treino do AWS   (90%)\n",
    "n_df_test_aws = df_test_aws.count()     # Conjunto Teste do AWS    (10%)\n",
    "\n",
    "# Nº de observações em cada parte\n",
    "print(f\"Existem {n_df_train} observações no Conjunto de Treino e {n_df_test} no Conjunto de Teste.\")\n",
    "print(f\"Existem {n_df_train_aws} observações no Conjunto de Treino e {n_df_test_aws} no Conjunto de Teste. (AWS)\")"
   ]
  },
  {
   "cell_type": "markdown",
   "id": "d5314fbb-8c75-43fc-83fc-162a1cb39c36",
   "metadata": {},
   "source": [
    "---"
   ]
  },
  {
   "cell_type": "markdown",
   "id": "173ce8bb-6db0-4eec-ab9c-3f2eea1b592b",
   "metadata": {
    "tags": []
   },
   "source": [
    "# 💡 Modelos do Spark ML\n",
    "\n",
    "- **Random Forest** - Algoritmo de ML que usa várias árvores de decisão para classificar dados.\n",
    "- **Decision Forest** (Árvore de Decisão) - Algoritmo de ML que usa uma estrutura de árvore para fazer previsões a partir de dados."
   ]
  },
  {
   "cell_type": "code",
   "execution_count": 7,
   "id": "22b5e98c-7108-4841-a2b3-37552a485951",
   "metadata": {
    "tags": []
   },
   "outputs": [],
   "source": [
    "# Lista das features a usar\n",
    "features_list = ['srch_destination_id', 'site_name', 'posa_continent','user_location_country', \n",
    "                 'is_package', 'srch_adults_cnt','srch_children_cnt', 'srch_destination_type_id', \n",
    "                 'is_booking','hotel_continent', 'hotel_country', 'hotel_market',\n",
    "                 'pcaFeature_1', 'pcaFeature_2', 'pcaFeature_3','tempo_estadia']"
   ]
  },
  {
   "cell_type": "markdown",
   "id": "005827c3-c151-40af-8088-f9dcacc8036a",
   "metadata": {},
   "source": [
    "## Random Forest [[1]](https://spark.apache.org/docs/3.1.3/api/python/reference/api/pyspark.ml.classification.RandomForestClassifier.html) [[3]](https://spark.apache.org/docs/latest/api/python/reference/api/pyspark.ml.evaluation.MulticlassClassificationEvaluator.html)"
   ]
  },
  {
   "cell_type": "markdown",
   "id": "0697c5a8-54f7-403f-983b-7fdb1d4ecf54",
   "metadata": {},
   "source": [
    "<div class=\"alert alert-block alert-warning\">\n",
    "Amostra do Dataset | <b>Computador</b></div>\n",
    "\n",
    "- Com o `small_df_expedia` (no **Computador Local**)"
   ]
  },
  {
   "cell_type": "code",
   "execution_count": 8,
   "id": "9024e428-3aee-46df-bdd9-5b8a4e1d5fc6",
   "metadata": {
    "tags": []
   },
   "outputs": [
    {
     "name": "stdout",
     "output_type": "stream",
     "text": [
      "23/04/06 20:46:30 WARN MemoryStore: Not enough space to cache rdd_54_15 in memory! (computed 8.5 MiB so far)\n",
      "23/04/06 20:46:30 WARN BlockManager: Persisting block rdd_54_15 to disk instead.\n",
      "23/04/06 20:46:32 WARN MemoryStore: Not enough space to cache rdd_54_13 in memory! (computed 3.6 MiB so far)\n",
      "23/04/06 20:46:32 WARN MemoryStore: Not enough space to cache rdd_54_14 in memory! (computed 3.6 MiB so far)\n",
      "23/04/06 20:46:32 WARN MemoryStore: Not enough space to cache rdd_54_4 in memory! (computed 8.5 MiB so far)\n",
      "23/04/06 20:46:32 WARN BlockManager: Persisting block rdd_54_14 to disk instead.\n",
      "23/04/06 20:46:32 WARN BlockManager: Persisting block rdd_54_13 to disk instead.\n",
      "23/04/06 20:46:32 WARN BlockManager: Persisting block rdd_54_4 to disk instead.\n",
      "23/04/06 20:46:32 WARN MemoryStore: Not enough space to cache rdd_54_0 in memory! (computed 8.5 MiB so far)\n",
      "23/04/06 20:46:32 WARN BlockManager: Persisting block rdd_54_0 to disk instead.\n",
      "23/04/06 20:46:32 WARN MemoryStore: Not enough space to cache rdd_54_5 in memory! (computed 5.4 MiB so far)\n",
      "23/04/06 20:46:32 WARN BlockManager: Persisting block rdd_54_5 to disk instead.\n",
      "23/04/06 20:46:32 WARN MemoryStore: Not enough space to cache rdd_54_10 in memory! (computed 5.4 MiB so far)\n",
      "23/04/06 20:46:32 WARN MemoryStore: Not enough space to cache rdd_54_12 in memory! (computed 5.4 MiB so far)\n",
      "23/04/06 20:46:32 WARN MemoryStore: Not enough space to cache rdd_54_7 in memory! (computed 5.4 MiB so far)\n",
      "23/04/06 20:46:32 WARN MemoryStore: Not enough space to cache rdd_54_11 in memory! (computed 5.4 MiB so far)\n",
      "23/04/06 20:46:32 WARN BlockManager: Persisting block rdd_54_11 to disk instead.\n",
      "23/04/06 20:46:32 WARN BlockManager: Persisting block rdd_54_7 to disk instead.\n",
      "23/04/06 20:46:32 WARN BlockManager: Persisting block rdd_54_12 to disk instead.\n",
      "23/04/06 20:46:32 WARN BlockManager: Persisting block rdd_54_10 to disk instead.\n",
      "23/04/06 20:46:32 WARN MemoryStore: Not enough space to cache rdd_54_1 in memory! (computed 8.5 MiB so far)\n",
      "23/04/06 20:46:32 WARN MemoryStore: Not enough space to cache rdd_54_8 in memory! (computed 8.5 MiB so far)\n",
      "23/04/06 20:46:32 WARN BlockManager: Persisting block rdd_54_1 to disk instead.\n",
      "23/04/06 20:46:32 WARN BlockManager: Persisting block rdd_54_8 to disk instead.\n",
      "23/04/06 20:46:33 WARN MemoryStore: Not enough space to cache rdd_54_2 in memory! (computed 12.8 MiB so far)\n",
      "23/04/06 20:46:33 WARN BlockManager: Persisting block rdd_54_2 to disk instead.\n",
      "23/04/06 20:46:33 WARN MemoryStore: Not enough space to cache rdd_54_6 in memory! (computed 12.8 MiB so far)\n",
      "23/04/06 20:46:33 WARN BlockManager: Persisting block rdd_54_6 to disk instead.\n",
      "23/04/06 20:46:33 WARN MemoryStore: Not enough space to cache rdd_54_3 in memory! (computed 28.9 MiB so far)\n",
      "23/04/06 20:46:33 WARN BlockManager: Persisting block rdd_54_3 to disk instead.\n",
      "23/04/06 20:46:34 WARN MemoryStore: Not enough space to cache rdd_54_9 in memory! (computed 43.6 MiB so far)\n",
      "23/04/06 20:46:34 WARN BlockManager: Persisting block rdd_54_9 to disk instead.\n",
      "23/04/06 20:46:41 WARN MemoryStore: Not enough space to cache rdd_54_0 in memory! (computed 28.9 MiB so far)\n",
      "23/04/06 20:46:41 WARN MemoryStore: Not enough space to cache rdd_54_1 in memory! (computed 19.3 MiB so far)\n",
      "23/04/06 20:46:41 WARN MemoryStore: Not enough space to cache rdd_54_12 in memory! (computed 19.3 MiB so far)\n",
      "23/04/06 20:46:41 WARN MemoryStore: Not enough space to cache rdd_54_7 in memory! (computed 19.3 MiB so far)\n",
      "23/04/06 20:46:41 WARN MemoryStore: Not enough space to cache rdd_54_8 in memory! (computed 19.3 MiB so far)\n",
      "23/04/06 20:46:41 WARN MemoryStore: Not enough space to cache rdd_54_9 in memory! (computed 28.9 MiB so far)\n",
      "23/04/06 20:46:41 WARN MemoryStore: Not enough space to cache rdd_54_5 in memory! (computed 28.9 MiB so far)\n",
      "23/04/06 20:46:41 WARN MemoryStore: Not enough space to cache rdd_54_4 in memory! (computed 28.9 MiB so far)\n",
      "23/04/06 20:46:41 WARN MemoryStore: Not enough space to cache rdd_54_13 in memory! (computed 19.3 MiB so far)\n",
      "23/04/06 20:46:41 WARN MemoryStore: Not enough space to cache rdd_54_3 in memory! (computed 12.8 MiB so far)\n",
      "23/04/06 20:46:41 WARN MemoryStore: Not enough space to cache rdd_54_10 in memory! (computed 28.9 MiB so far)\n",
      "23/04/06 20:46:41 WARN MemoryStore: Not enough space to cache rdd_54_6 in memory! (computed 19.3 MiB so far)\n",
      "23/04/06 20:46:41 WARN MemoryStore: Not enough space to cache rdd_54_2 in memory! (computed 43.6 MiB so far)\n",
      "23/04/06 20:46:41 WARN MemoryStore: Not enough space to cache rdd_54_11 in memory! (computed 43.6 MiB so far)\n",
      "23/04/06 20:46:41 WARN MemoryStore: Not enough space to cache rdd_54_14 in memory! (computed 43.6 MiB so far)\n",
      "23/04/06 20:46:46 WARN MemoryStore: Not enough space to cache rdd_54_8 in memory! (computed 19.3 MiB so far)\n",
      "23/04/06 20:46:46 WARN MemoryStore: Not enough space to cache rdd_54_2 in memory! (computed 19.3 MiB so far)\n",
      "23/04/06 20:46:46 WARN MemoryStore: Not enough space to cache rdd_54_12 in memory! (computed 19.3 MiB so far)\n",
      "23/04/06 20:46:46 WARN MemoryStore: Not enough space to cache rdd_54_13 in memory! (computed 28.9 MiB so far)\n",
      "23/04/06 20:46:46 WARN MemoryStore: Not enough space to cache rdd_54_7 in memory! (computed 28.9 MiB so far)\n",
      "23/04/06 20:46:46 WARN MemoryStore: Not enough space to cache rdd_54_9 in memory! (computed 28.9 MiB so far)\n",
      "23/04/06 20:46:46 WARN MemoryStore: Not enough space to cache rdd_54_4 in memory! (computed 28.9 MiB so far)\n",
      "23/04/06 20:46:46 WARN MemoryStore: Not enough space to cache rdd_54_11 in memory! (computed 28.9 MiB so far)\n",
      "23/04/06 20:46:46 WARN MemoryStore: Not enough space to cache rdd_54_10 in memory! (computed 28.9 MiB so far)\n",
      "23/04/06 20:46:46 WARN MemoryStore: Not enough space to cache rdd_54_1 in memory! (computed 28.9 MiB so far)\n",
      "23/04/06 20:46:46 WARN MemoryStore: Not enough space to cache rdd_54_3 in memory! (computed 28.9 MiB so far)\n",
      "23/04/06 20:46:46 WARN MemoryStore: Not enough space to cache rdd_54_5 in memory! (computed 28.9 MiB so far)\n",
      "23/04/06 20:46:46 WARN MemoryStore: Not enough space to cache rdd_54_6 in memory! (computed 28.9 MiB so far)\n",
      "23/04/06 20:46:46 WARN MemoryStore: Not enough space to cache rdd_54_0 in memory! (computed 28.9 MiB so far)\n",
      "23/04/06 20:46:46 WARN MemoryStore: Not enough space to cache rdd_54_14 in memory! (computed 28.9 MiB so far)\n",
      "23/04/06 20:46:54 WARN MemoryStore: Not enough space to cache rdd_54_13 in memory! (computed 19.3 MiB so far)\n",
      "23/04/06 20:46:54 WARN MemoryStore: Not enough space to cache rdd_54_2 in memory! (computed 19.3 MiB so far)\n",
      "23/04/06 20:46:54 WARN MemoryStore: Not enough space to cache rdd_54_14 in memory! (computed 19.3 MiB so far)\n",
      "23/04/06 20:46:54 WARN MemoryStore: Not enough space to cache rdd_54_9 in memory! (computed 28.9 MiB so far)\n",
      "23/04/06 20:46:54 WARN MemoryStore: Not enough space to cache rdd_54_10 in memory! (computed 28.9 MiB so far)\n",
      "23/04/06 20:46:54 WARN MemoryStore: Not enough space to cache rdd_54_4 in memory! (computed 28.9 MiB so far)\n",
      "23/04/06 20:46:54 WARN MemoryStore: Not enough space to cache rdd_54_0 in memory! (computed 28.9 MiB so far)\n",
      "23/04/06 20:46:54 WARN MemoryStore: Not enough space to cache rdd_54_7 in memory! (computed 28.9 MiB so far)\n",
      "23/04/06 20:46:54 WARN MemoryStore: Not enough space to cache rdd_54_6 in memory! (computed 28.9 MiB so far)\n",
      "23/04/06 20:46:54 WARN MemoryStore: Not enough space to cache rdd_54_12 in memory! (computed 28.9 MiB so far)\n",
      "23/04/06 20:46:54 WARN MemoryStore: Not enough space to cache rdd_54_3 in memory! (computed 28.9 MiB so far)\n",
      "23/04/06 20:46:54 WARN MemoryStore: Not enough space to cache rdd_54_8 in memory! (computed 28.9 MiB so far)\n",
      "23/04/06 20:46:54 WARN MemoryStore: Not enough space to cache rdd_54_11 in memory! (computed 28.9 MiB so far)\n",
      "23/04/06 20:46:54 WARN MemoryStore: Not enough space to cache rdd_54_1 in memory! (computed 28.9 MiB so far)\n",
      "23/04/06 20:46:54 WARN MemoryStore: Not enough space to cache rdd_54_5 in memory! (computed 28.9 MiB so far)\n",
      "23/04/06 20:46:59 WARN MemoryStore: Not enough space to cache rdd_54_6 in memory! (computed 19.3 MiB so far)\n",
      "23/04/06 20:46:59 WARN MemoryStore: Not enough space to cache rdd_54_13 in memory! (computed 28.9 MiB so far)\n",
      "23/04/06 20:46:59 WARN MemoryStore: Not enough space to cache rdd_54_3 in memory! (computed 28.9 MiB so far)\n",
      "23/04/06 20:46:59 WARN MemoryStore: Not enough space to cache rdd_54_4 in memory! (computed 19.3 MiB so far)\n",
      "23/04/06 20:46:59 WARN MemoryStore: Not enough space to cache rdd_54_11 in memory! (computed 28.9 MiB so far)\n",
      "23/04/06 20:46:59 WARN MemoryStore: Not enough space to cache rdd_54_2 in memory! (computed 28.9 MiB so far)\n",
      "23/04/06 20:46:59 WARN MemoryStore: Not enough space to cache rdd_54_7 in memory! (computed 28.9 MiB so far)\n",
      "23/04/06 20:46:59 WARN MemoryStore: Not enough space to cache rdd_54_10 in memory! (computed 28.9 MiB so far)\n",
      "23/04/06 20:46:59 WARN MemoryStore: Not enough space to cache rdd_54_9 in memory! (computed 19.3 MiB so far)\n",
      "23/04/06 20:46:59 WARN MemoryStore: Not enough space to cache rdd_54_0 in memory! (computed 28.9 MiB so far)\n",
      "23/04/06 20:46:59 WARN MemoryStore: Not enough space to cache rdd_54_14 in memory! (computed 28.9 MiB so far)\n",
      "23/04/06 20:46:59 WARN MemoryStore: Not enough space to cache rdd_54_5 in memory! (computed 28.9 MiB so far)\n",
      "23/04/06 20:46:59 WARN MemoryStore: Not enough space to cache rdd_54_8 in memory! (computed 28.9 MiB so far)\n",
      "23/04/06 20:46:59 WARN MemoryStore: Not enough space to cache rdd_54_12 in memory! (computed 28.9 MiB so far)\n",
      "23/04/06 20:46:59 WARN MemoryStore: Not enough space to cache rdd_54_1 in memory! (computed 28.9 MiB so far)\n",
      "23/04/06 20:47:03 WARN MemoryStore: Not enough space to cache rdd_54_0 in memory! (computed 28.9 MiB so far)\n",
      "23/04/06 20:47:03 WARN MemoryStore: Not enough space to cache rdd_54_4 in memory! (computed 19.3 MiB so far)\n",
      "23/04/06 20:47:03 WARN MemoryStore: Not enough space to cache rdd_54_14 in memory! (computed 19.3 MiB so far)\n",
      "23/04/06 20:47:03 WARN MemoryStore: Not enough space to cache rdd_54_5 in memory! (computed 28.9 MiB so far)\n",
      "23/04/06 20:47:03 WARN MemoryStore: Not enough space to cache rdd_54_6 in memory! (computed 28.9 MiB so far)\n",
      "23/04/06 20:47:03 WARN MemoryStore: Not enough space to cache rdd_54_11 in memory! (computed 28.9 MiB so far)\n",
      "23/04/06 20:47:03 WARN MemoryStore: Not enough space to cache rdd_54_8 in memory! (computed 28.9 MiB so far)\n",
      "23/04/06 20:47:03 WARN MemoryStore: Not enough space to cache rdd_54_9 in memory! (computed 28.9 MiB so far)\n",
      "23/04/06 20:47:03 WARN MemoryStore: Not enough space to cache rdd_54_3 in memory! (computed 28.9 MiB so far)\n",
      "23/04/06 20:47:03 WARN MemoryStore: Not enough space to cache rdd_54_15 in memory! (computed 19.3 MiB so far)\n",
      "23/04/06 20:47:03 WARN MemoryStore: Not enough space to cache rdd_54_7 in memory! (computed 28.9 MiB so far)\n",
      "23/04/06 20:47:03 WARN MemoryStore: Not enough space to cache rdd_54_1 in memory! (computed 19.3 MiB so far)\n",
      "23/04/06 20:47:03 WARN MemoryStore: Not enough space to cache rdd_54_12 in memory! (computed 28.9 MiB so far)\n",
      "23/04/06 20:47:03 WARN MemoryStore: Not enough space to cache rdd_54_10 in memory! (computed 28.9 MiB so far)\n",
      "23/04/06 20:47:03 WARN MemoryStore: Not enough space to cache rdd_54_13 in memory! (computed 28.9 MiB so far)\n",
      "23/04/06 20:47:03 WARN MemoryStore: Not enough space to cache rdd_54_2 in memory! (computed 28.9 MiB so far)\n"
     ]
    }
   ],
   "source": [
    "from pyspark.ml import Pipeline\n",
    "from pyspark.ml.linalg import Vectors\n",
    "from pyspark.ml.feature import VectorAssembler\n",
    "from pyspark.ml.classification import RandomForestClassifier\n",
    "\n",
    "# Criar um VectorAssembler para concatenar as colunas para o modelo\n",
    "assembler = VectorAssembler(inputCols=features_list, outputCol = 'features')\n",
    "\n",
    "# Criar um classificador RandomForest\n",
    "rndfr_sp = RandomForestClassifier(featuresCol='features', labelCol='hotel_cluster')\n",
    "\n",
    "# Pipeline com o VectorAssembler e o classificador OneVsRest\n",
    "pipeline = Pipeline(stages=[assembler, rndfr_sp])\n",
    "\n",
    "# Treinar o modelo e prever as classes do conjunto de teste\n",
    "model = pipeline.fit(df_train)\n",
    "df_pred1_cl = model.transform(df_test)                              # cl - Computador Locar"
   ]
  },
  {
   "cell_type": "code",
   "execution_count": 9,
   "id": "d0782697-dee8-4158-a1d0-5879de0d5649",
   "metadata": {
    "tags": []
   },
   "outputs": [
    {
     "name": "stdout",
     "output_type": "stream",
     "text": [
      "23/04/06 20:47:08 WARN package: Truncated the string representation of a plan since it was too large. This behavior can be adjusted by setting 'spark.sql.debug.maxToStringFields'.\n",
      "23/04/06 20:47:08 WARN DAGScheduler: Broadcasting large task binary with size 1005.1 KiB\n",
      "+--------------------+--------------------+----------+-------------+\n",
      "|            features|       rawPrediction|prediction|hotel_cluster|\n",
      "+--------------------+--------------------+----------+-------------+\n",
      "|[4.0,14.0,1.0,214...|[0.07917509549824...|      64.0|           58|\n",
      "|[4.0,14.0,1.0,214...|[0.07917509549824...|      64.0|           67|\n",
      "|[8.0,2.0,3.0,66.0...|[0.21679602593323...|      91.0|           77|\n",
      "|[8.0,2.0,3.0,66.0...|[0.28042538307994...|      91.0|            7|\n",
      "|[9.0,17.0,1.0,133...|[0.01357538439369...|      82.0|           20|\n",
      "|[16.0,2.0,3.0,66....|[0.24578025082366...|      91.0|           47|\n",
      "|[19.0,2.0,3.0,66....|[0.01558411013500...|      82.0|           64|\n",
      "|[19.0,2.0,3.0,66....|[0.01558411013500...|      82.0|           64|\n",
      "|[19.0,2.0,3.0,66....|[0.01558411013500...|      82.0|           53|\n",
      "|[19.0,23.0,1.0,1....|[0.01335921399186...|      82.0|           75|\n",
      "|[19.0,37.0,1.0,0....|[0.01309676089651...|      82.0|           64|\n",
      "|[21.0,2.0,3.0,62....|[0.10342756992391...|      64.0|           76|\n",
      "|[21.0,2.0,3.0,68....|[0.10342756992391...|      64.0|           36|\n",
      "|[21.0,13.0,1.0,63...|[0.09056101930710...|      63.0|           30|\n",
      "|[21.0,15.0,1.0,55...|[0.09024195474755...|      63.0|           63|\n",
      "|[21.0,15.0,1.0,55...|[0.09024195474755...|      63.0|           81|\n",
      "|[21.0,17.0,1.0,13...|[0.09024195474755...|      63.0|            3|\n",
      "|[21.0,23.0,1.0,1....|[0.09024195474755...|      63.0|            3|\n",
      "|[21.0,23.0,1.0,1....|[0.09024195474755...|      63.0|           53|\n",
      "|[21.0,23.0,1.0,1....|[0.09024195474755...|      63.0|           30|\n",
      "+--------------------+--------------------+----------+-------------+\n",
      "only showing top 20 rows\n",
      "\n"
     ]
    }
   ],
   "source": [
    "# Visualização dos Resultados\n",
    "df_pred1_cl.select('features', 'rawPrediction', 'prediction', 'hotel_cluster').show()"
   ]
  },
  {
   "cell_type": "code",
   "execution_count": 10,
   "id": "ab80d213-1b15-4372-bdd1-ed10962c5d13",
   "metadata": {
    "tags": []
   },
   "outputs": [
    {
     "name": "stdout",
     "output_type": "stream",
     "text": [
      "23/04/06 20:47:10 WARN DAGScheduler: Broadcasting large task binary with size 1014.6 KiB\n",
      "23/04/06 20:47:23 WARN DAGScheduler: Broadcasting large task binary with size 1014.6 KiB\n",
      "23/04/06 20:47:36 WARN DAGScheduler: Broadcasting large task binary with size 1014.6 KiB\n",
      "23/04/06 20:47:48 WARN DAGScheduler: Broadcasting large task binary with size 1014.6 KiB\n",
      "Accuracy =  0.0976365897830051\n",
      "Precision =  0.05974145978457034\n",
      "Recall =  0.09763658978300513\n",
      "F1-Score =  0.03901576881181476\n"
     ]
    }
   ],
   "source": [
    "from pyspark.ml.evaluation import MulticlassClassificationEvaluator\n",
    "\n",
    "# Define o Evaluator\n",
    "evaluator = MulticlassClassificationEvaluator(predictionCol='prediction', labelCol='hotel_cluster', metricName='accuracy')\n",
    "\n",
    "# Calcula a accuracy, precisão, recall e f1-score\n",
    "accuracy = evaluator.evaluate(df_pred1_cl)\n",
    "precision = evaluator.evaluate(df_pred1_cl, {evaluator.metricName: \"weightedPrecision\"})\n",
    "recall = evaluator.evaluate(df_pred1_cl, {evaluator.metricName: \"weightedRecall\"})\n",
    "f1_score = evaluator.evaluate(df_pred1_cl, {evaluator.metricName: \"f1\"})\n",
    "\n",
    "print(\"Accuracy = \", accuracy)\n",
    "print(\"Precision = \", precision)\n",
    "print(\"Recall = \", recall)\n",
    "print(\"F1-Score = \", f1_score)"
   ]
  },
  {
   "cell_type": "markdown",
   "id": "6a65be18-ddf5-4fcd-a46a-f3a519c4258e",
   "metadata": {},
   "source": [
    "---"
   ]
  },
  {
   "cell_type": "markdown",
   "id": "0d51751f-6b91-43f6-a445-4d3c70605c7c",
   "metadata": {},
   "source": [
    "<div class=\"alert alert-block alert-danger\">\n",
    "Dataset Completo | <b>AWS</b></div>\n",
    "\n",
    "- Com o `df_expedia` (no **AWS**)"
   ]
  },
  {
   "cell_type": "code",
   "execution_count": 36,
   "id": "44b4f09f-9f44-4651-ae4d-86a192653803",
   "metadata": {},
   "outputs": [
    {
     "data": {
      "application/vnd.jupyter.widget-view+json": {
       "model_id": "e025d850675544db879531f96455e7ef",
       "version_major": 2,
       "version_minor": 0
      },
      "text/plain": [
       "VBox()"
      ]
     },
     "metadata": {},
     "output_type": "display_data"
    },
    {
     "data": {
      "application/vnd.jupyter.widget-view+json": {
       "model_id": "",
       "version_major": 2,
       "version_minor": 0
      },
      "text/plain": [
       "FloatProgress(value=0.0, bar_style='info', description='Progress:', layout=Layout(height='25px', width='50%'),…"
      ]
     },
     "metadata": {},
     "output_type": "display_data"
    }
   ],
   "source": [
    "from pyspark.ml import Pipeline\n",
    "from pyspark.ml.linalg import Vectors\n",
    "from pyspark.ml.feature import VectorAssembler\n",
    "from pyspark.ml.classification import RandomForestClassifier\n",
    "\n",
    "# Criar um VectorAssembler para concatenar as colunas para o modelo\n",
    "assembler = VectorAssembler(inputCols=features_list, outputCol = 'features')\n",
    "\n",
    "# Criar um classificador RandomForest\n",
    "rndfr_sp = RandomForestClassifier(featuresCol='features', labelCol='hotel_cluster')\n",
    "\n",
    "# Pipeline com o VectorAssembler e o classificador OneVsRest\n",
    "pipeline = Pipeline(stages=[assembler, rndfr_sp])\n",
    "\n",
    "# Treinar o modelo e prever as classes do conjunto de teste\n",
    "model = pipeline.fit(df_train_aws)\n",
    "df_pred1_aws = model.transform(df_test_aws)"
   ]
  },
  {
   "cell_type": "code",
   "execution_count": 37,
   "id": "e6ea50d3-8411-42af-937a-0b7302170acd",
   "metadata": {},
   "outputs": [
    {
     "data": {
      "application/vnd.jupyter.widget-view+json": {
       "model_id": "15e82f82bdf04dda8dee6bb2081b8ffa",
       "version_major": 2,
       "version_minor": 0
      },
      "text/plain": [
       "VBox()"
      ]
     },
     "metadata": {},
     "output_type": "display_data"
    },
    {
     "data": {
      "application/vnd.jupyter.widget-view+json": {
       "model_id": "",
       "version_major": 2,
       "version_minor": 0
      },
      "text/plain": [
       "FloatProgress(value=0.0, bar_style='info', description='Progress:', layout=Layout(height='25px', width='50%'),…"
      ]
     },
     "metadata": {},
     "output_type": "display_data"
    },
    {
     "name": "stdout",
     "output_type": "stream",
     "text": [
      "+--------------------+--------------------+----------+-------------+\n",
      "|            features|       rawPrediction|prediction|hotel_cluster|\n",
      "+--------------------+--------------------+----------+-------------+\n",
      "|[4.0,2.0,3.0,66.0...|[0.05182137977682...|      64.0|           38|\n",
      "|[4.0,2.0,3.0,66.0...|[0.05182137977682...|      64.0|           78|\n",
      "|[4.0,23.0,1.0,1.0...|[0.05202319984521...|      64.0|           30|\n",
      "|[4.0,30.0,4.0,195...|[0.05074250869623...|      64.0|           25|\n",
      "|[8.0,2.0,3.0,66.0...|[0.24593577865111...|      91.0|           94|\n",
      "|[8.0,2.0,3.0,66.0...|[0.24593577865111...|      91.0|           43|\n",
      "|[8.0,2.0,3.0,66.0...|[0.24593577865111...|      91.0|            7|\n",
      "|[8.0,2.0,3.0,66.0...|[0.24593577865111...|      91.0|            7|\n",
      "|[8.0,2.0,3.0,66.0...|[0.24593577865111...|      91.0|           16|\n",
      "|[8.0,2.0,3.0,66.0...|[0.24593577865111...|      91.0|           48|\n",
      "|[8.0,2.0,3.0,66.0...|[0.24593577865111...|      91.0|           48|\n",
      "|[8.0,2.0,3.0,66.0...|[0.24593577865111...|      91.0|           77|\n",
      "|[8.0,2.0,3.0,66.0...|[0.24593577865111...|      91.0|           91|\n",
      "|[8.0,2.0,3.0,66.0...|[0.24593577865111...|      91.0|           42|\n",
      "|[8.0,2.0,3.0,66.0...|[0.26767027578386...|      91.0|           43|\n",
      "|[8.0,2.0,3.0,66.0...|[0.24593577865111...|      91.0|           16|\n",
      "|[8.0,2.0,3.0,66.0...|[0.24593577865111...|      91.0|           48|\n",
      "|[8.0,2.0,3.0,66.0...|[0.24593577865111...|      91.0|            7|\n",
      "|[8.0,2.0,3.0,66.0...|[0.26767027578386...|      91.0|            7|\n",
      "|[8.0,2.0,3.0,66.0...|[0.24593577865111...|      91.0|            7|\n",
      "+--------------------+--------------------+----------+-------------+\n",
      "only showing top 20 rows"
     ]
    }
   ],
   "source": [
    "# Visualização dos Resultados\n",
    "df_pred1_aws.select('features', 'rawPrediction', 'prediction', 'hotel_cluster').show()"
   ]
  },
  {
   "cell_type": "code",
   "execution_count": 38,
   "id": "784f7977-654f-4f77-9728-a5fa9e93a6f8",
   "metadata": {},
   "outputs": [
    {
     "data": {
      "application/vnd.jupyter.widget-view+json": {
       "model_id": "4028e8d5661946b7a111d75f51fb0f90",
       "version_major": 2,
       "version_minor": 0
      },
      "text/plain": [
       "VBox()"
      ]
     },
     "metadata": {},
     "output_type": "display_data"
    },
    {
     "data": {
      "application/vnd.jupyter.widget-view+json": {
       "model_id": "",
       "version_major": 2,
       "version_minor": 0
      },
      "text/plain": [
       "FloatProgress(value=0.0, bar_style='info', description='Progress:', layout=Layout(height='25px', width='50%'),…"
      ]
     },
     "metadata": {},
     "output_type": "display_data"
    },
    {
     "name": "stdout",
     "output_type": "stream",
     "text": [
      "Accuracy = 0.101351\n",
      "Precisão = 0.0573813\n",
      "Recall = 0.101351\n",
      "F1-Score = 0.0421619"
     ]
    }
   ],
   "source": [
    "from pyspark.ml.evaluation import MulticlassClassificationEvaluator\n",
    "\n",
    "# Define o Evaluator\n",
    "evaluator = MulticlassClassificationEvaluator(predictionCol='prediction', labelCol='hotel_cluster', metricName='accuracy')\n",
    "\n",
    "# Calcula a accuracy, precisão, recall e f1-score\n",
    "accuracy = evaluator.evaluate(df_pred1_aws)\n",
    "precision = evaluator.evaluate(df_pred1_aws, {evaluator.metricName: \"weightedPrecision\"})\n",
    "recall = evaluator.evaluate(df_pred1_aws, {evaluator.metricName: \"weightedRecall\"})\n",
    "f1_score = evaluator.evaluate(df_pred1_aws, {evaluator.metricName: \"f1\"})\n",
    "\n",
    "print(\"Accuracy = \", accuracy)\n",
    "print(\"Precision = \", precision)\n",
    "print(\"Recall = \", recall)\n",
    "print(\"F1-Score = \", f1_score)"
   ]
  },
  {
   "cell_type": "markdown",
   "id": "88063436-4cbd-4462-9877-4389648c1f9c",
   "metadata": {},
   "source": [
    "----"
   ]
  },
  {
   "cell_type": "markdown",
   "id": "4a98f07c-eb2c-456a-ae6d-28a2797106dc",
   "metadata": {},
   "source": [
    "## Decision Forest [[2]](https://spark.apache.org/docs/latest/api/python/reference/api/pyspark.ml.classification.DecisionTreeClassifier.html) [[3]](https://spark.apache.org/docs/latest/api/python/reference/api/pyspark.ml.evaluation.MulticlassClassificationEvaluator.html)"
   ]
  },
  {
   "cell_type": "markdown",
   "id": "9476b72e-43b1-4b45-8cad-f32f6c22cea7",
   "metadata": {},
   "source": [
    "<div class=\"alert alert-block alert-warning\">\n",
    "Amostra do Dataset | <b>Computador</b></div>\n",
    "\n",
    "- Com o `small_df_expedia` (no **Computador Local**)"
   ]
  },
  {
   "cell_type": "code",
   "execution_count": 11,
   "id": "048cfadb-d626-44d2-b1b1-bcc9b84aa173",
   "metadata": {
    "tags": []
   },
   "outputs": [
    {
     "name": "stdout",
     "output_type": "stream",
     "text": [
      "23/04/06 20:48:18 WARN MemoryStore: Not enough space to cache rdd_146_15 in memory! (computed 11.7 MiB so far)\n",
      "23/04/06 20:48:18 WARN BlockManager: Persisting block rdd_146_15 to disk instead.\n",
      "23/04/06 20:48:18 WARN MemoryStore: Not enough space to cache rdd_146_15 in memory! (computed 8.9 MiB so far)\n",
      "23/04/06 20:48:20 WARN MemoryStore: Not enough space to cache rdd_146_12 in memory! (computed 7.8 MiB so far)\n",
      "23/04/06 20:48:20 WARN BlockManager: Persisting block rdd_146_12 to disk instead.\n",
      "23/04/06 20:48:20 WARN MemoryStore: Not enough space to cache rdd_146_14 in memory! (computed 5.2 MiB so far)\n",
      "23/04/06 20:48:20 WARN BlockManager: Persisting block rdd_146_14 to disk instead.\n",
      "23/04/06 20:48:20 WARN MemoryStore: Not enough space to cache rdd_146_8 in memory! (computed 7.8 MiB so far)\n",
      "23/04/06 20:48:20 WARN MemoryStore: Not enough space to cache rdd_146_10 in memory! (computed 7.8 MiB so far)\n",
      "23/04/06 20:48:20 WARN MemoryStore: Not enough space to cache rdd_146_6 in memory! (computed 7.8 MiB so far)\n",
      "23/04/06 20:48:20 WARN MemoryStore: Not enough space to cache rdd_146_1 in memory! (computed 3.4 MiB so far)\n",
      "23/04/06 20:48:20 WARN MemoryStore: Not enough space to cache rdd_146_13 in memory! (computed 7.8 MiB so far)\n",
      "23/04/06 20:48:20 WARN BlockManager: Persisting block rdd_146_13 to disk instead.\n",
      "23/04/06 20:48:20 WARN BlockManager: Persisting block rdd_146_1 to disk instead.\n",
      "23/04/06 20:48:20 WARN BlockManager: Persisting block rdd_146_10 to disk instead.\n",
      "23/04/06 20:48:20 WARN BlockManager: Persisting block rdd_146_8 to disk instead.\n",
      "23/04/06 20:48:20 WARN BlockManager: Persisting block rdd_146_6 to disk instead.\n",
      "23/04/06 20:48:20 WARN MemoryStore: Not enough space to cache rdd_146_2 in memory! (computed 7.8 MiB so far)\n",
      "23/04/06 20:48:20 WARN BlockManager: Persisting block rdd_146_2 to disk instead.\n",
      "23/04/06 20:48:20 WARN MemoryStore: Not enough space to cache rdd_146_4 in memory! (computed 11.7 MiB so far)\n",
      "23/04/06 20:48:20 WARN BlockManager: Persisting block rdd_146_4 to disk instead.\n",
      "23/04/06 20:48:20 WARN MemoryStore: Not enough space to cache rdd_146_0 in memory! (computed 17.6 MiB so far)\n",
      "23/04/06 20:48:20 WARN BlockManager: Persisting block rdd_146_0 to disk instead.\n",
      "23/04/06 20:48:20 WARN MemoryStore: Not enough space to cache rdd_146_5 in memory! (computed 17.6 MiB so far)\n",
      "23/04/06 20:48:20 WARN BlockManager: Persisting block rdd_146_5 to disk instead.\n",
      "23/04/06 20:48:20 WARN MemoryStore: Not enough space to cache rdd_146_3 in memory! (computed 17.6 MiB so far)\n",
      "23/04/06 20:48:20 WARN BlockManager: Persisting block rdd_146_3 to disk instead.\n",
      "23/04/06 20:48:21 WARN MemoryStore: Not enough space to cache rdd_146_9 in memory! (computed 26.6 MiB so far)\n",
      "23/04/06 20:48:21 WARN MemoryStore: Not enough space to cache rdd_146_11 in memory! (computed 26.6 MiB so far)\n",
      "23/04/06 20:48:21 WARN BlockManager: Persisting block rdd_146_9 to disk instead.\n",
      "23/04/06 20:48:21 WARN BlockManager: Persisting block rdd_146_11 to disk instead.\n",
      "23/04/06 20:48:21 WARN MemoryStore: Not enough space to cache rdd_146_7 in memory! (computed 17.6 MiB so far)\n",
      "23/04/06 20:48:21 WARN BlockManager: Persisting block rdd_146_7 to disk instead.\n",
      "23/04/06 20:48:25 WARN MemoryStore: Not enough space to cache rdd_146_8 in memory! (computed 8.9 MiB so far)\n",
      "23/04/06 20:48:25 WARN MemoryStore: Not enough space to cache rdd_146_3 in memory! (computed 20.0 MiB so far)\n",
      "23/04/06 20:48:25 WARN MemoryStore: Not enough space to cache rdd_146_12 in memory! (computed 48.2 MiB so far)\n",
      "23/04/06 20:48:25 WARN MemoryStore: Not enough space to cache rdd_146_14 in memory! (computed 20.0 MiB so far)\n",
      "23/04/06 20:48:25 WARN MemoryStore: Not enough space to cache rdd_146_5 in memory! (computed 8.9 MiB so far)\n",
      "23/04/06 20:48:25 WARN MemoryStore: Not enough space to cache rdd_146_0 in memory! (computed 20.0 MiB so far)\n",
      "23/04/06 20:48:25 WARN MemoryStore: Not enough space to cache rdd_146_9 in memory! (computed 48.2 MiB so far)\n",
      "23/04/06 20:48:25 WARN MemoryStore: Not enough space to cache rdd_146_10 in memory! (computed 48.2 MiB so far)\n",
      "23/04/06 20:48:26 WARN MemoryStore: Not enough space to cache rdd_146_11 in memory! (computed 73.4 MiB so far)\n",
      "23/04/06 20:48:26 WARN MemoryStore: Not enough space to cache rdd_146_7 in memory! (computed 30.0 MiB so far)\n",
      "23/04/06 20:48:26 WARN MemoryStore: Not enough space to cache rdd_146_6 in memory! (computed 48.2 MiB so far)\n",
      "23/04/06 20:48:26 WARN MemoryStore: Not enough space to cache rdd_146_2 in memory! (computed 73.4 MiB so far)\n",
      "23/04/06 20:48:27 WARN MemoryStore: Not enough space to cache rdd_146_11 in memory! (computed 8.9 MiB so far)\n",
      "23/04/06 20:48:27 WARN MemoryStore: Not enough space to cache rdd_146_9 in memory! (computed 8.9 MiB so far)\n",
      "23/04/06 20:48:27 WARN MemoryStore: Not enough space to cache rdd_146_14 in memory! (computed 8.9 MiB so far)\n",
      "23/04/06 20:48:27 WARN MemoryStore: Not enough space to cache rdd_146_10 in memory! (computed 8.9 MiB so far)\n",
      "23/04/06 20:48:27 WARN MemoryStore: Not enough space to cache rdd_146_0 in memory! (computed 5.7 MiB so far)\n",
      "23/04/06 20:48:27 WARN MemoryStore: Not enough space to cache rdd_146_15 in memory! (computed 8.9 MiB so far)\n",
      "23/04/06 20:48:27 WARN MemoryStore: Not enough space to cache rdd_146_8 in memory! (computed 8.9 MiB so far)\n",
      "23/04/06 20:48:27 WARN MemoryStore: Not enough space to cache rdd_146_6 in memory! (computed 5.7 MiB so far)\n",
      "23/04/06 20:48:27 WARN MemoryStore: Not enough space to cache rdd_146_5 in memory! (computed 8.9 MiB so far)\n",
      "23/04/06 20:48:27 WARN MemoryStore: Not enough space to cache rdd_146_2 in memory! (computed 20.0 MiB so far)\n",
      "23/04/06 20:48:27 WARN MemoryStore: Not enough space to cache rdd_146_12 in memory! (computed 20.0 MiB so far)\n",
      "23/04/06 20:48:27 WARN MemoryStore: Not enough space to cache rdd_146_3 in memory! (computed 48.2 MiB so far)\n",
      "23/04/06 20:48:27 WARN MemoryStore: Not enough space to cache rdd_146_7 in memory! (computed 48.2 MiB so far)\n",
      "23/04/06 20:48:28 WARN MemoryStore: Not enough space to cache rdd_146_7 in memory! (computed 5.7 MiB so far)\n",
      "23/04/06 20:48:28 WARN MemoryStore: Not enough space to cache rdd_146_3 in memory! (computed 8.9 MiB so far)\n",
      "23/04/06 20:48:28 WARN MemoryStore: Not enough space to cache rdd_146_15 in memory! (computed 1546.5 KiB so far)\n",
      "23/04/06 20:48:28 WARN MemoryStore: Not enough space to cache rdd_146_10 in memory! (computed 8.9 MiB so far)\n",
      "23/04/06 20:48:28 WARN MemoryStore: Not enough space to cache rdd_146_6 in memory! (computed 5.7 MiB so far)\n",
      "23/04/06 20:48:28 WARN MemoryStore: Not enough space to cache rdd_146_11 in memory! (computed 8.9 MiB so far)\n",
      "23/04/06 20:48:28 WARN MemoryStore: Not enough space to cache rdd_146_14 in memory! (computed 13.3 MiB so far)\n",
      "23/04/06 20:48:28 WARN MemoryStore: Not enough space to cache rdd_146_0 in memory! (computed 20.0 MiB so far)\n",
      "23/04/06 20:48:28 WARN MemoryStore: Not enough space to cache rdd_146_8 in memory! (computed 13.3 MiB so far)\n",
      "23/04/06 20:48:28 WARN MemoryStore: Not enough space to cache rdd_146_9 in memory! (computed 20.0 MiB so far)\n",
      "23/04/06 20:48:28 WARN MemoryStore: Not enough space to cache rdd_146_5 in memory! (computed 30.0 MiB so far)\n",
      "23/04/06 20:48:28 WARN MemoryStore: Not enough space to cache rdd_146_2 in memory! (computed 30.0 MiB so far)\n",
      "23/04/06 20:48:29 WARN MemoryStore: Not enough space to cache rdd_146_12 in memory! (computed 73.4 MiB so far)\n",
      "23/04/06 20:48:29 WARN MemoryStore: Not enough space to cache rdd_146_11 in memory! (computed 5.7 MiB so far)\n",
      "23/04/06 20:48:29 WARN MemoryStore: Not enough space to cache rdd_146_14 in memory! (computed 8.9 MiB so far)\n",
      "23/04/06 20:48:29 WARN MemoryStore: Not enough space to cache rdd_146_15 in memory! (computed 5.7 MiB so far)\n",
      "23/04/06 20:48:29 WARN MemoryStore: Not enough space to cache rdd_146_9 in memory! (computed 3.4 MiB so far)\n",
      "23/04/06 20:48:29 WARN MemoryStore: Not enough space to cache rdd_146_2 in memory! (computed 8.9 MiB so far)\n",
      "23/04/06 20:48:29 WARN MemoryStore: Not enough space to cache rdd_146_7 in memory! (computed 5.7 MiB so far)\n",
      "23/04/06 20:48:29 WARN MemoryStore: Not enough space to cache rdd_146_6 in memory! (computed 8.9 MiB so far)\n",
      "23/04/06 20:48:29 WARN MemoryStore: Not enough space to cache rdd_146_0 in memory! (computed 8.9 MiB so far)\n",
      "23/04/06 20:48:29 WARN MemoryStore: Not enough space to cache rdd_146_3 in memory! (computed 20.0 MiB so far)\n",
      "23/04/06 20:48:29 WARN MemoryStore: Not enough space to cache rdd_146_10 in memory! (computed 13.3 MiB so far)\n",
      "23/04/06 20:48:29 WARN MemoryStore: Not enough space to cache rdd_146_5 in memory! (computed 13.3 MiB so far)\n",
      "23/04/06 20:48:30 WARN MemoryStore: Not enough space to cache rdd_146_8 in memory! (computed 48.2 MiB so far)\n",
      "23/04/06 20:48:30 WARN MemoryStore: Not enough space to cache rdd_146_12 in memory! (computed 48.2 MiB so far)\n",
      "23/04/06 20:48:30 WARN MemoryStore: Not enough space to cache rdd_146_6 in memory! (computed 5.7 MiB so far)\n",
      "23/04/06 20:48:30 WARN MemoryStore: Not enough space to cache rdd_146_8 in memory! (computed 8.9 MiB so far)\n",
      "23/04/06 20:48:30 WARN MemoryStore: Not enough space to cache rdd_146_15 in memory! (computed 8.9 MiB so far)\n",
      "23/04/06 20:48:30 WARN MemoryStore: Not enough space to cache rdd_146_14 in memory! (computed 8.9 MiB so far)\n",
      "23/04/06 20:48:30 WARN MemoryStore: Not enough space to cache rdd_146_10 in memory! (computed 8.9 MiB so far)\n",
      "23/04/06 20:48:30 WARN MemoryStore: Not enough space to cache rdd_146_5 in memory! (computed 5.7 MiB so far)\n",
      "23/04/06 20:48:30 WARN MemoryStore: Not enough space to cache rdd_146_3 in memory! (computed 8.9 MiB so far)\n",
      "23/04/06 20:48:30 WARN MemoryStore: Not enough space to cache rdd_146_12 in memory! (computed 8.9 MiB so far)\n",
      "23/04/06 20:48:30 WARN MemoryStore: Not enough space to cache rdd_146_7 in memory! (computed 5.7 MiB so far)\n",
      "23/04/06 20:48:31 WARN MemoryStore: Not enough space to cache rdd_146_0 in memory! (computed 20.0 MiB so far)\n",
      "23/04/06 20:48:31 WARN MemoryStore: Not enough space to cache rdd_146_2 in memory! (computed 20.0 MiB so far)\n",
      "23/04/06 20:48:31 WARN MemoryStore: Not enough space to cache rdd_146_9 in memory! (computed 48.2 MiB so far)\n",
      "23/04/06 20:48:31 WARN MemoryStore: Not enough space to cache rdd_146_11 in memory! (computed 48.2 MiB so far)\n"
     ]
    }
   ],
   "source": [
    "from pyspark.ml.classification import DecisionTreeClassifier\n",
    "\n",
    "# Criar um VectorAssembler para concatenar as colunas para o modelo\n",
    "assembler = VectorAssembler(inputCols=features_list, outputCol='features')\n",
    "\n",
    "# Criar um classificador Decision Tree\n",
    "dt = DecisionTreeClassifier(featuresCol='features', labelCol='hotel_cluster')\n",
    "\n",
    "# Pipeline com o VectorAssembler e o classificador Decision Tree\n",
    "pipeline = Pipeline(stages=[assembler, dt])\n",
    "\n",
    "# Treinar o modelo e prever as classes do conjunto de teste\n",
    "model = pipeline.fit(df_train)\n",
    "df_pred2_cl = model.transform(df_test)"
   ]
  },
  {
   "cell_type": "code",
   "execution_count": 12,
   "id": "62668658-03cf-4349-a07c-74ab2a0deac0",
   "metadata": {
    "tags": []
   },
   "outputs": [
    {
     "name": "stdout",
     "output_type": "stream",
     "text": [
      "+--------------------+--------------------+----------+-------------+\n",
      "|            features|       rawPrediction|prediction|hotel_cluster|\n",
      "+--------------------+--------------------+----------+-------------+\n",
      "|[4.0,14.0,1.0,214...|[0.0,0.0,10048.0,...|      82.0|           58|\n",
      "|[4.0,14.0,1.0,214...|[0.0,0.0,10048.0,...|      82.0|           67|\n",
      "|[8.0,2.0,3.0,66.0...|[69638.0,577.0,34...|      91.0|           77|\n",
      "|[8.0,2.0,3.0,66.0...|[69638.0,577.0,34...|      91.0|            7|\n",
      "|[9.0,17.0,1.0,133...|[0.0,0.0,10048.0,...|      82.0|           20|\n",
      "|[16.0,2.0,3.0,66....|[69638.0,577.0,34...|      91.0|           47|\n",
      "|[19.0,2.0,3.0,66....|[0.0,0.0,10048.0,...|      82.0|           64|\n",
      "|[19.0,2.0,3.0,66....|[0.0,0.0,10048.0,...|      82.0|           64|\n",
      "|[19.0,2.0,3.0,66....|[0.0,0.0,10048.0,...|      82.0|           53|\n",
      "|[19.0,23.0,1.0,1....|[0.0,0.0,10048.0,...|      82.0|           75|\n",
      "|[19.0,37.0,1.0,0....|[0.0,0.0,10048.0,...|      82.0|           64|\n",
      "|[21.0,2.0,3.0,62....|[16386.0,0.0,269....|      65.0|           76|\n",
      "|[21.0,2.0,3.0,68....|[16386.0,0.0,269....|      65.0|           36|\n",
      "|[21.0,13.0,1.0,63...|[16386.0,0.0,269....|      65.0|           30|\n",
      "|[21.0,15.0,1.0,55...|[16386.0,0.0,269....|      65.0|           63|\n",
      "|[21.0,15.0,1.0,55...|[16386.0,0.0,269....|      65.0|           81|\n",
      "|[21.0,17.0,1.0,13...|[16386.0,0.0,269....|      65.0|            3|\n",
      "|[21.0,23.0,1.0,1....|[16386.0,0.0,269....|      65.0|            3|\n",
      "|[21.0,23.0,1.0,1....|[16386.0,0.0,269....|      65.0|           53|\n",
      "|[21.0,23.0,1.0,1....|[16386.0,0.0,269....|      65.0|           30|\n",
      "+--------------------+--------------------+----------+-------------+\n",
      "only showing top 20 rows\n",
      "\n"
     ]
    }
   ],
   "source": [
    "# Visualização dos Resultados\n",
    "df_pred2_cl.select('features', 'rawPrediction', 'prediction', 'hotel_cluster').show()"
   ]
  },
  {
   "cell_type": "code",
   "execution_count": 13,
   "id": "7fe88764-e7cf-4287-8202-418f99dbe6d4",
   "metadata": {
    "tags": []
   },
   "outputs": [
    {
     "name": "stdout",
     "output_type": "stream",
     "text": [
      "Accuracy =  0.09258846007149887\n",
      "Precision =  0.03283159520980287\n",
      "Recall =  0.09258846007149886\n",
      "F1-Score =  0.0320767333617374\n"
     ]
    }
   ],
   "source": [
    "# Define o Evaluator\n",
    "evaluator = MulticlassClassificationEvaluator(predictionCol='prediction', labelCol='hotel_cluster', metricName='accuracy')\n",
    "\n",
    "# Calcula a Accuracy, Precision, Recall e F1-Score\n",
    "accuracy = evaluator.evaluate(df_pred2_cl)\n",
    "precision = evaluator.evaluate(df_pred2_cl, {evaluator.metricName: \"weightedPrecision\"})\n",
    "recall = evaluator.evaluate(df_pred2_cl, {evaluator.metricName: \"weightedRecall\"})\n",
    "f1_score = evaluator.evaluate(df_pred2_cl, {evaluator.metricName: \"f1\"})\n",
    "\n",
    "print(\"Accuracy = \", accuracy)\n",
    "print(\"Precision = \", precision)\n",
    "print(\"Recall = \", recall)\n",
    "print(\"F1-Score = \", f1_score)"
   ]
  },
  {
   "cell_type": "markdown",
   "id": "01af95a9-e824-4818-8907-3513b89bea8f",
   "metadata": {},
   "source": [
    "---"
   ]
  },
  {
   "cell_type": "markdown",
   "id": "c0c07b48-9a96-4ba3-8c05-3c595b0d79b9",
   "metadata": {},
   "source": [
    "<div class=\"alert alert-block alert-danger\">\n",
    "Dataset Completo | <b>AWS</b></div>\n",
    "\n",
    "- Com o `df_expedia` (no **AWS**)"
   ]
  },
  {
   "cell_type": "code",
   "execution_count": 39,
   "id": "51f1a256-8e26-4a20-a061-11a0f1917046",
   "metadata": {},
   "outputs": [
    {
     "data": {
      "application/vnd.jupyter.widget-view+json": {
       "model_id": "629a8e4c269b43b8847520045c66ad0f",
       "version_major": 2,
       "version_minor": 0
      },
      "text/plain": [
       "VBox()"
      ]
     },
     "metadata": {},
     "output_type": "display_data"
    },
    {
     "data": {
      "application/vnd.jupyter.widget-view+json": {
       "model_id": "",
       "version_major": 2,
       "version_minor": 0
      },
      "text/plain": [
       "FloatProgress(value=0.0, bar_style='info', description='Progress:', layout=Layout(height='25px', width='50%'),…"
      ]
     },
     "metadata": {},
     "output_type": "display_data"
    }
   ],
   "source": [
    "from pyspark.ml.classification import DecisionTreeClassifier\n",
    "\n",
    "# Criar um VectorAssembler para concatenar as colunas para o modelo\n",
    "assembler = VectorAssembler(inputCols=features_list, outputCol='features')\n",
    "\n",
    "# Criar um classificador Decision Tree\n",
    "dt = DecisionTreeClassifier(featuresCol='features', labelCol='hotel_cluster')\n",
    "\n",
    "# Pipeline com o VectorAssembler e o classificador Decision Tree\n",
    "pipeline = Pipeline(stages=[assembler, dt])\n",
    "\n",
    "# Treinar o modelo e prever as classes do conjunto de teste\n",
    "model = pipeline.fit(df_train_aws)\n",
    "df_pred2_aws = model.transform(df_test_aws)"
   ]
  },
  {
   "cell_type": "code",
   "execution_count": 40,
   "id": "d100f9e1-eb4e-457a-ad42-0e0581fdaebf",
   "metadata": {},
   "outputs": [
    {
     "data": {
      "application/vnd.jupyter.widget-view+json": {
       "model_id": "49495c3d45724453b6f5955c920d1344",
       "version_major": 2,
       "version_minor": 0
      },
      "text/plain": [
       "VBox()"
      ]
     },
     "metadata": {},
     "output_type": "display_data"
    },
    {
     "data": {
      "application/vnd.jupyter.widget-view+json": {
       "model_id": "",
       "version_major": 2,
       "version_minor": 0
      },
      "text/plain": [
       "FloatProgress(value=0.0, bar_style='info', description='Progress:', layout=Layout(height='25px', width='50%'),…"
      ]
     },
     "metadata": {},
     "output_type": "display_data"
    },
    {
     "name": "stdout",
     "output_type": "stream",
     "text": [
      "+--------------------+--------------------+----------+-------------+\n",
      "|            features|       rawPrediction|prediction|hotel_cluster|\n",
      "+--------------------+--------------------+----------+-------------+\n",
      "|[4.0,2.0,3.0,66.0...|[526.0,0.0,55200....|      82.0|           38|\n",
      "|[4.0,2.0,3.0,66.0...|[526.0,0.0,55200....|      82.0|           78|\n",
      "|[4.0,23.0,1.0,1.0...|[526.0,0.0,55200....|      82.0|           30|\n",
      "|[4.0,30.0,4.0,195...|[526.0,0.0,55200....|      82.0|           25|\n",
      "|[8.0,2.0,3.0,66.0...|[12225.0,0.0,2409...|      91.0|           94|\n",
      "|[8.0,2.0,3.0,66.0...|[12225.0,0.0,2409...|      91.0|           43|\n",
      "|[8.0,2.0,3.0,66.0...|[12225.0,0.0,2409...|      91.0|            7|\n",
      "|[8.0,2.0,3.0,66.0...|[12225.0,0.0,2409...|      91.0|            7|\n",
      "|[8.0,2.0,3.0,66.0...|[12225.0,0.0,2409...|      91.0|           16|\n",
      "|[8.0,2.0,3.0,66.0...|[12225.0,0.0,2409...|      91.0|           48|\n",
      "|[8.0,2.0,3.0,66.0...|[12225.0,0.0,2409...|      91.0|           48|\n",
      "|[8.0,2.0,3.0,66.0...|[12225.0,0.0,2409...|      91.0|           77|\n",
      "|[8.0,2.0,3.0,66.0...|[12225.0,0.0,2409...|      91.0|           91|\n",
      "|[8.0,2.0,3.0,66.0...|[12225.0,0.0,2409...|      91.0|           42|\n",
      "|[8.0,2.0,3.0,66.0...|[12225.0,0.0,2409...|      91.0|           43|\n",
      "|[8.0,2.0,3.0,66.0...|[12225.0,0.0,2409...|      91.0|           16|\n",
      "|[8.0,2.0,3.0,66.0...|[12225.0,0.0,2409...|      91.0|           48|\n",
      "|[8.0,2.0,3.0,66.0...|[12225.0,0.0,2409...|      91.0|            7|\n",
      "|[8.0,2.0,3.0,66.0...|[12225.0,0.0,2409...|      91.0|            7|\n",
      "|[8.0,2.0,3.0,66.0...|[12225.0,0.0,2409...|      91.0|            7|\n",
      "+--------------------+--------------------+----------+-------------+\n",
      "only showing top 20 rows"
     ]
    }
   ],
   "source": [
    "# Visualização dos Resultados\n",
    "df_pred2_aws.select('features', 'rawPrediction', 'prediction', 'hotel_cluster').show()"
   ]
  },
  {
   "cell_type": "code",
   "execution_count": 41,
   "id": "fb478c05-7f18-404b-a2d8-00bfc868559a",
   "metadata": {},
   "outputs": [
    {
     "data": {
      "application/vnd.jupyter.widget-view+json": {
       "model_id": "7391e33bd46a44fd9b47c2fe7c52e932",
       "version_major": 2,
       "version_minor": 0
      },
      "text/plain": [
       "VBox()"
      ]
     },
     "metadata": {},
     "output_type": "display_data"
    },
    {
     "data": {
      "application/vnd.jupyter.widget-view+json": {
       "model_id": "",
       "version_major": 2,
       "version_minor": 0
      },
      "text/plain": [
       "FloatProgress(value=0.0, bar_style='info', description='Progress:', layout=Layout(height='25px', width='50%'),…"
      ]
     },
     "metadata": {},
     "output_type": "display_data"
    },
    {
     "name": "stdout",
     "output_type": "stream",
     "text": [
      "Accuracy = 0.0958517\n",
      "Precisão = 0.0319509\n",
      "Recall = 0.0958517\n",
      "F1-Score = 0.0360443"
     ]
    }
   ],
   "source": [
    "# Define o Evaluator\n",
    "evaluator = MulticlassClassificationEvaluator(predictionCol='prediction', labelCol='hotel_cluster', metricName='accuracy')\n",
    "\n",
    "# Calcula a Accuracy, Precision, Recall e F1-Score\n",
    "accuracy = evaluator.evaluate(df_pred2_aws)\n",
    "precision = evaluator.evaluate(df_pred2_aws, {evaluator.metricName: \"weightedPrecision\"})\n",
    "recall = evaluator.evaluate(df_pred2_aws, {evaluator.metricName: \"weightedRecall\"})\n",
    "f1_score = evaluator.evaluate(df_pred2_aws, {evaluator.metricName: \"f1\"})\n",
    "\n",
    "print(\"Accuracy = \", accuracy)\n",
    "print(\"Precision = \", precision)\n",
    "print(\"Recall = \", recall)\n",
    "print(\"F1-Score = \", f1_score)"
   ]
  },
  {
   "cell_type": "markdown",
   "id": "c396d342-9410-4c78-ae49-e8a2d288e7a2",
   "metadata": {},
   "source": [
    "---"
   ]
  },
  {
   "cell_type": "markdown",
   "id": "6276ffb7-78cf-4abd-a0e7-40cf9764dc42",
   "metadata": {},
   "source": [
    "### Conclusão dos Modelos\n",
    "\n",
    "> Tanto com o *dataset* completo como com parte deste ($30\\%$), os resultados dos modelos foram semelhantes, não tendo obtido um desempenho satisfatório para a tarefa de classificação do target `hotel_cluster`."
   ]
  },
  {
   "cell_type": "markdown",
   "id": "5588bde2-19a4-45be-897b-52f133b696d7",
   "metadata": {},
   "source": [
    "---"
   ]
  },
  {
   "cell_type": "markdown",
   "id": "1edd0294-5ef5-4041-bc43-8c7201572dc1",
   "metadata": {},
   "source": [
    "# 🛠️ Tunning do Modelo (Apenas no AWS)"
   ]
  },
  {
   "cell_type": "markdown",
   "id": "ccc46307-5f55-4dfb-a09c-39d2cd8d552e",
   "metadata": {},
   "source": [
    "> Como aconselhado pelo docente, efetuamos ***tunning*** ao modelo com melhor performance (de entre os dois modelos testados) de forma a tentar melhorá-lo com diferentes parametrizações.\n",
    "\n",
    "Assim, fomos procurar formas de o fazer e codificar. [[4]](https://spark.apache.org/docs/latest/api/python/reference/api/pyspark.ml.tuning.ParamGridBuilder.html) [[5]](https://gist.github.com/colbyford/7758088502211daa90dbc1b51c408762)"
   ]
  },
  {
   "cell_type": "code",
   "execution_count": 44,
   "id": "a29d7587-a68a-4bf3-a2af-b6f6e852e453",
   "metadata": {},
   "outputs": [
    {
     "data": {
      "application/vnd.jupyter.widget-view+json": {
       "model_id": "2f5078b40f2a4cb09ed9ae1244f07589",
       "version_major": 2,
       "version_minor": 0
      },
      "text/plain": [
       "VBox()"
      ]
     },
     "metadata": {},
     "output_type": "display_data"
    },
    {
     "data": {
      "application/vnd.jupyter.widget-view+json": {
       "model_id": "",
       "version_major": 2,
       "version_minor": 0
      },
      "text/plain": [
       "FloatProgress(value=0.0, bar_style='info', description='Progress:', layout=Layout(height='25px', width='50%'),…"
      ]
     },
     "metadata": {},
     "output_type": "display_data"
    },
    {
     "name": "stdout",
     "output_type": "stream",
     "text": [
      "Accuracy = 0.132363\n",
      "Precisão = 0.181692\n",
      "Recall = 0.132363\n",
      "F1-Score = 0.0846135"
     ]
    }
   ],
   "source": [
    "from pyspark.ml.tuning import ParamGridBuilder, CrossValidator\n",
    "from pyspark.ml.evaluation import MulticlassClassificationEvaluator\n",
    "\n",
    "# Criar um VectorAssembler para concatenar as colunas para o modelo\n",
    "assembler = VectorAssembler(inputCols=features_list, outputCol='features')\n",
    "\n",
    "# Criar um classificador Decision Tree\n",
    "dt = DecisionTreeClassifier(featuresCol='features', labelCol='hotel_cluster')\n",
    "\n",
    "# Pipeline com o VectorAssembler e o classificador Decision Tree\n",
    "pipeline = Pipeline(stages=[assembler, dt])\n",
    "\n",
    "# Definir a grade de parâmetros para testar   | \n",
    "#      maxDepth -> define o nº máximo de níveis que a árvore pode ter                  \n",
    "#      minInstancesPerNode -> define o nº mínimo de amostras necessárias para dividir um nó interno da árvore em dois filhos.\n",
    "paramGrid = ParamGridBuilder() \\\n",
    "    .addGrid(dt.maxDepth, [2, 5, 10]) \\\n",
    "    .addGrid(dt.minInstancesPerNode, [1, 5, 10]) \\\n",
    "    .build()\n",
    "\n",
    "# Usar CrossValidator para ajustar o modelo com diferentes combinações de parâmetros\n",
    "crossval = CrossValidator(estimator=pipeline,\n",
    "                          estimatorParamMaps=paramGrid,\n",
    "                          evaluator=MulticlassClassificationEvaluator(labelCol='hotel_cluster'),\n",
    "                          numFolds=5)\n",
    "\n",
    "# Ajustar o modelo com os dados de treino\n",
    "cvModel = crossval.fit(df_train_aws)\n",
    "\n",
    "# Prever as classes do conjunto de teste usando o modelo ajustado\n",
    "df_pred2_tunning = cvModel.transform(df_test_aws)\n",
    "\n",
    "# Avaliar a precisão do modelo usando a métrica 'accuracy'\n",
    "evaluator = MulticlassClassificationEvaluator(labelCol='hotel_cluster', metricName='accuracy')\n",
    "accuracy = evaluator.evaluate(df_pred2_tunning)\n",
    "precision = evaluator.evaluate(df_pred2_tunning, {evaluator.metricName: \"weightedPrecision\"})\n",
    "recall = evaluator.evaluate(df_pred2_tunning, {evaluator.metricName: \"weightedRecall\"})\n",
    "f1_score = evaluator.evaluate(df_pred2_tunning, {evaluator.metricName: \"f1\"})\n",
    "\n",
    "print(\"Accuracy = \", accuracy)\n",
    "print(\"Precision = \", precision)\n",
    "print(\"Recall = \", recall)\n",
    "print(\"F1-Score = \", f1_score)"
   ]
  },
  {
   "cell_type": "markdown",
   "id": "92c49842-2ae5-493d-99b3-c456a66b8fb8",
   "metadata": {},
   "source": [
    "---"
   ]
  },
  {
   "cell_type": "markdown",
   "id": "b9c3075e-140c-4303-8a7b-ef0dee2b15ba",
   "metadata": {},
   "source": [
    "# 🔗 Referencias Bibliográficas\n",
    "\n",
    "**[1]** Apache Spark. (n.d.-g). RandomForestClassifier — PySpark 3.3.2 documentation. Spark.apache.org. https://spark.apache.org/docs/latest/api/python/reference/api/pyspark.ml.classification.RandomForestClassifier.html?highlight=randomforestclassifier\n",
    "\n",
    "**[2]** Apache Spark. (n.d.-a). DecisionTreeClassifier — PySpark 3.3.2 documentation. Spark.apache.org. https://spark.apache.org/docs/latest/api/python/reference/api/pyspark.ml.classification.DecisionTreeClassifier.html\n",
    "\n",
    "**[3]** Apache Spark. (n.d.-b). MulticlassClassificationEvaluator — PySpark 3.3.2 documentation. Spark.apache.org. https://spark.apache.org/docs/latest/api/python/reference/api/pyspark.ml.evaluation.MulticlassClassificationEvaluator.html\n",
    "\n",
    "**[4]** Apache Spark. (n.d.-a). ParamGridBuilder — PySpark 3.3.2 documentation. Spark.apache.org. https://spark.apache.org/docs/latest/api/python/reference/api/pyspark.ml.tuning.ParamGridBuilder.html\n",
    "\n",
    "**[5]** Ford, Colby T. (n.d.). SparkML Decision Tree Classification Script with Cross-Validation and Parameter Sweep. Gist. https://gist.github.com/colbyford/7758088502211daa90dbc1b51c408762\n"
   ]
  }
 ],
 "metadata": {
  "kernelspec": {
   "display_name": "Python 3 (ipykernel)",
   "language": "python",
   "name": "python3"
  },
  "language_info": {
   "codemirror_mode": {
    "name": "ipython",
    "version": 3
   },
   "file_extension": ".py",
   "mimetype": "text/x-python",
   "name": "python",
   "nbconvert_exporter": "python",
   "pygments_lexer": "ipython3",
   "version": "3.9.13"
  }
 },
 "nbformat": 4,
 "nbformat_minor": 5
}
