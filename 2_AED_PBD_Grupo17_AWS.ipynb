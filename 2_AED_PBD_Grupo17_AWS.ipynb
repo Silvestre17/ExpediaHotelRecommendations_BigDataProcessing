{
 "cells": [
  {
   "cell_type": "markdown",
   "id": "be66a2a9-85a4-4600-bb40-4ac57b440aee",
   "metadata": {},
   "source": [
    "<center><br> <img src=\"https://www.iscte-iul.pt/assets/images/logo_iscte_detailed.svg\" style=\"width: 300px;\"></center><br>"
   ]
  },
  {
   "cell_type": "markdown",
   "id": "fb054b1b-89d2-4816-b0ba-720eb5ea9f69",
   "metadata": {},
   "source": [
    "<img src=\"https://logos-world.net/wp-content/uploads/2021/02/Expedia-Emblem.png\" style=\"width: 300px;margin-top: 30px;\" align=\"right\">\n",
    "   <div><center><h1>Projeto: Expedia Hotel Recommendations</h1></center></div>\n",
    "   <div><center><h4>Processamento de Big Data  -   2º Semestre | 2022/23</h4></center></div>\n",
    "   <div><center><b>Docentes:</b> João Oliveira <b>|</b> Adriano Lopes</center>\n",
    " <br>\n",
    "    <div><center><h4>Grupo 17</h4></center>\n",
    "    <div><center> André Silvestre Nº104532 <b>|</b> Rita Matos Nº104936 <b>CDB1</b></center>\n",
    " <br>    \n",
    " <br>\n",
    " <br>\n",
    " <br>"
   ]
  },
  {
   "cell_type": "markdown",
   "id": "2c09c637-a9cc-4826-a4cb-da442985e048",
   "metadata": {},
   "source": [
    "<style>\n",
    "@import url('https://fonts.cdnfonts.com/css/avenir-next-lt-pro?styles=29974');\n",
    "</style>\n",
    "\n",
    "<div style=\"background: linear-gradient(to right, #075924, #067572, #0371B1, #001D45); \n",
    "            padding: 15px; color: white; border-radius: 30000px; text-align: center;\">\n",
    "    <center><h1 style=\"color: white;font-size: 30px; font-family: 'Avenir Next LT Pro', sans-serif;\"><b>2 | Análise Exploratória de Dados</b></h1></center>\n",
    "</div>"
   ]
  },
  {
   "cell_type": "markdown",
   "id": "59916f1e-ffa4-4f20-a17f-e013d93b2e78",
   "metadata": {},
   "source": [
    "### PySpark Session"
   ]
  },
  {
   "cell_type": "code",
   "execution_count": 1,
   "id": "39a11b5b-274b-44c2-a0af-66dd17e8a128",
   "metadata": {
    "tags": []
   },
   "outputs": [
    {
     "data": {
      "application/vnd.jupyter.widget-view+json": {
       "model_id": "4961460b2bd2462f8abf7c0f4bb06cce",
       "version_major": 2,
       "version_minor": 0
      },
      "text/plain": [
       "VBox()"
      ]
     },
     "metadata": {},
     "output_type": "display_data"
    },
    {
     "name": "stdout",
     "output_type": "stream",
     "text": [
      "Starting Spark application\n"
     ]
    },
    {
     "data": {
      "text/html": [
       "<table>\n",
       "<tr><th>ID</th><th>YARN Application ID</th><th>Kind</th><th>State</th><th>Spark UI</th><th>Driver log</th><th>Current session?</th></tr><tr><td>1</td><td>application_1680809728276_0002</td><td>pyspark</td><td>idle</td><td><a target=\"_blank\" href=\"http://ip-172-31-55-147.ec2.internal:20888/proxy/application_1680809728276_0002/\" class=\"emr-proxy-link\" emr-resource=\"j-1V45SU2H96K6S\n",
       "\" application-id=\"application_1680809728276_0002\">Link</a></td><td><a target=\"_blank\" href=\"http://ip-172-31-61-45.ec2.internal:8042/node/containerlogs/container_1680809728276_0002_01_000001/livy\" >Link</a></td><td>✔</td></tr></table>"
      ],
      "text/plain": [
       "<IPython.core.display.HTML object>"
      ]
     },
     "metadata": {},
     "output_type": "display_data"
    },
    {
     "data": {
      "application/vnd.jupyter.widget-view+json": {
       "model_id": "",
       "version_major": 2,
       "version_minor": 0
      },
      "text/plain": [
       "FloatProgress(value=0.0, bar_style='info', description='Progress:', layout=Layout(height='25px', width='50%'),…"
      ]
     },
     "metadata": {},
     "output_type": "display_data"
    },
    {
     "name": "stdout",
     "output_type": "stream",
     "text": [
      "SparkSession available as 'spark'.\n"
     ]
    },
    {
     "data": {
      "application/vnd.jupyter.widget-view+json": {
       "model_id": "",
       "version_major": 2,
       "version_minor": 0
      },
      "text/plain": [
       "FloatProgress(value=0.0, bar_style='info', description='Progress:', layout=Layout(height='25px', width='50%'),…"
      ]
     },
     "metadata": {},
     "output_type": "display_data"
    }
   ],
   "source": [
    "from pyspark.sql import SparkSession\n",
    "\n",
    "spark = SparkSession.builder.appName('Expedia Project') \\\n",
    "    .config(\"spark.driver.memory\", \"10g\") \\\n",
    "    .config(\"spark.executor.memory\", \"10g\") \\\n",
    "    .config(\"spark.driver.host\", \"127.0.0.1\") \\\n",
    "    .getOrCreate()"
   ]
  },
  {
   "cell_type": "markdown",
   "id": "5e171993-8e4a-484c-ac82-387dece5a539",
   "metadata": {
    "tags": []
   },
   "source": [
    "# 📚 Import das Bibliotecas"
   ]
  },
  {
   "cell_type": "code",
   "execution_count": 42,
   "id": "0e7c0db5-b1b6-424f-a8fe-903133d52b11",
   "metadata": {
    "tags": []
   },
   "outputs": [
    {
     "data": {
      "application/vnd.jupyter.widget-view+json": {
       "model_id": "c1f1275a2aa44fc49c77f179dfdafab7",
       "version_major": 2,
       "version_minor": 0
      },
      "text/plain": [
       "VBox()"
      ]
     },
     "metadata": {},
     "output_type": "display_data"
    },
    {
     "data": {
      "application/vnd.jupyter.widget-view+json": {
       "model_id": "",
       "version_major": 2,
       "version_minor": 0
      },
      "text/plain": [
       "FloatProgress(value=0.0, bar_style='info', description='Progress:', layout=Layout(height='25px', width='50%'),…"
      ]
     },
     "metadata": {},
     "output_type": "display_data"
    }
   ],
   "source": [
    "# Imports Gerais\n",
    "import os\n",
    "import sys\n",
    "\n",
    "# Imports Python\n",
    "import numpy as np\n",
    "import pandas as pd  \n",
    "# import matplotlib.pyplot as plt\n",
    "# %matplotlib inline\n",
    "# import seaborn as sns\n",
    "import warnings\n",
    "warnings.filterwarnings(\"ignore\")\n",
    "\n",
    "# Imports PySpark\n",
    "import pyspark.sql.functions as F\n",
    "from pyspark.sql.types import *"
   ]
  },
  {
   "cell_type": "markdown",
   "id": "192adc0a-4c5c-48a6-a0c8-63f30367ae4c",
   "metadata": {},
   "source": [
    "### Função Útil para Gráficos"
   ]
  },
  {
   "cell_type": "code",
   "execution_count": 43,
   "id": "69977e60-39f1-4501-b949-98a6c003120d",
   "metadata": {
    "tags": []
   },
   "outputs": [
    {
     "data": {
      "application/vnd.jupyter.widget-view+json": {
       "model_id": "e7510c0c89284cf8a7b0c0ed96a0a6ec",
       "version_major": 2,
       "version_minor": 0
      },
      "text/plain": [
       "VBox()"
      ]
     },
     "metadata": {},
     "output_type": "display_data"
    },
    {
     "data": {
      "application/vnd.jupyter.widget-view+json": {
       "model_id": "",
       "version_major": 2,
       "version_minor": 0
      },
      "text/plain": [
       "FloatProgress(value=0.0, bar_style='info', description='Progress:', layout=Layout(height='25px', width='50%'),…"
      ]
     },
     "metadata": {},
     "output_type": "display_data"
    },
    {
     "name": "stderr",
     "output_type": "stream",
     "text": [
      "An error was encountered:\n",
      "name 'sns' is not defined\n",
      "Traceback (most recent call last):\n",
      "NameError: name 'sns' is not defined\n",
      "\n"
     ]
    }
   ],
   "source": [
    "# Definir a Pallete de Cores\n",
    "sns.color_palette(\"crest\", as_cmap=True)"
   ]
  },
  {
   "cell_type": "code",
   "execution_count": 44,
   "id": "c0fdf2b9-c6a7-4919-be97-d2eede1b2996",
   "metadata": {},
   "outputs": [
    {
     "data": {
      "application/vnd.jupyter.widget-view+json": {
       "model_id": "a57a53b093344597a9346e176b58eb79",
       "version_major": 2,
       "version_minor": 0
      },
      "text/plain": [
       "VBox()"
      ]
     },
     "metadata": {},
     "output_type": "display_data"
    },
    {
     "data": {
      "application/vnd.jupyter.widget-view+json": {
       "model_id": "",
       "version_major": 2,
       "version_minor": 0
      },
      "text/plain": [
       "FloatProgress(value=0.0, bar_style='info', description='Progress:', layout=Layout(height='25px', width='50%'),…"
      ]
     },
     "metadata": {},
     "output_type": "display_data"
    }
   ],
   "source": [
    "def plotCorrelationMatrix(df, cmap=\"crest\", annot=False):\n",
    "    corr = df.corr()                                      # Compute the correlation matrix\n",
    "    mask = np.triu(np.ones_like(corr, dtype=bool))        # Generate a mask for the upper triangle\n",
    "    f, ax = plt.subplots(figsize=(11, 9))                 # Set up the matplotlib figure\n",
    "    sns.heatmap(corr, mask=mask, cmap=cmap,               # Draw the heatmap with the mask and correct aspect ratio\n",
    "                center=0, annot=annot,\n",
    "                square=True, linewidths=.5, \n",
    "                cbar_kws={\"shrink\": .5})"
   ]
  },
  {
   "cell_type": "markdown",
   "id": "cd150b0f-465d-4a43-8a47-cca657de3c9d",
   "metadata": {
    "tags": []
   },
   "source": [
    "# 🧮 Importar Bases de Dados (parquet)"
   ]
  },
  {
   "cell_type": "code",
   "execution_count": 51,
   "id": "0a2c8eaf-1afc-46f2-8e72-b5d4fc8676be",
   "metadata": {
    "tags": []
   },
   "outputs": [
    {
     "data": {
      "application/vnd.jupyter.widget-view+json": {
       "model_id": "6395e5a27ab84b63879227a8100f16a5",
       "version_major": 2,
       "version_minor": 0
      },
      "text/plain": [
       "VBox()"
      ]
     },
     "metadata": {},
     "output_type": "display_data"
    },
    {
     "data": {
      "application/vnd.jupyter.widget-view+json": {
       "model_id": "",
       "version_major": 2,
       "version_minor": 0
      },
      "text/plain": [
       "FloatProgress(value=0.0, bar_style='info', description='Progress:', layout=Layout(height='25px', width='50%'),…"
      ]
     },
     "metadata": {},
     "output_type": "display_data"
    }
   ],
   "source": [
    "# Leitura da base de dados \"df-expedia-1\" guardada anteriormente\n",
    "#df_expedia = spark.read.parquet('df-expedia-1')\n",
    "df_expedia = spark.read.parquet('s3://pdb-grupo17-bucket-as/df-expedia-1')"
   ]
  },
  {
   "cell_type": "code",
   "execution_count": 52,
   "id": "5ed7b539-449a-411a-a990-2fac46f32332",
   "metadata": {
    "tags": []
   },
   "outputs": [
    {
     "data": {
      "application/vnd.jupyter.widget-view+json": {
       "model_id": "a8097474822341f9b1dadde113f51b1a",
       "version_major": 2,
       "version_minor": 0
      },
      "text/plain": [
       "VBox()"
      ]
     },
     "metadata": {},
     "output_type": "display_data"
    },
    {
     "data": {
      "application/vnd.jupyter.widget-view+json": {
       "model_id": "",
       "version_major": 2,
       "version_minor": 0
      },
      "text/plain": [
       "FloatProgress(value=0.0, bar_style='info', description='Progress:', layout=Layout(height='25px', width='50%'),…"
      ]
     },
     "metadata": {},
     "output_type": "display_data"
    },
    {
     "name": "stdout",
     "output_type": "stream",
     "text": [
      "Nº de Observações: 37670293\n",
      "root\n",
      " |-- srch_destination_id: integer (nullable = true)\n",
      " |-- date_time: string (nullable = true)\n",
      " |-- site_name: integer (nullable = true)\n",
      " |-- posa_continent: integer (nullable = true)\n",
      " |-- user_location_country: integer (nullable = true)\n",
      " |-- user_location_region: integer (nullable = true)\n",
      " |-- user_location_city: integer (nullable = true)\n",
      " |-- orig_destination_distance: double (nullable = true)\n",
      " |-- user_id: integer (nullable = true)\n",
      " |-- is_mobile: integer (nullable = true)\n",
      " |-- is_package: integer (nullable = true)\n",
      " |-- channel: integer (nullable = true)\n",
      " |-- srch_ci: string (nullable = true)\n",
      " |-- srch_co: string (nullable = true)\n",
      " |-- srch_adults_cnt: integer (nullable = true)\n",
      " |-- srch_children_cnt: integer (nullable = true)\n",
      " |-- srch_rm_cnt: integer (nullable = true)\n",
      " |-- srch_destination_type_id: integer (nullable = true)\n",
      " |-- is_booking: integer (nullable = true)\n",
      " |-- cnt: integer (nullable = true)\n",
      " |-- hotel_continent: integer (nullable = true)\n",
      " |-- hotel_country: integer (nullable = true)\n",
      " |-- hotel_market: integer (nullable = true)\n",
      " |-- hotel_cluster: integer (nullable = true)\n",
      " |-- pcaFeature_1: double (nullable = true)\n",
      " |-- pcaFeature_2: double (nullable = true)\n",
      " |-- pcaFeature_3: double (nullable = true)"
     ]
    }
   ],
   "source": [
    "# Confirmação do nº de observações e tipos de dados\n",
    "print(\"Nº de Observações:\", df_expedia.count())\n",
    "\n",
    "df_expedia.printSchema()"
   ]
  },
  {
   "cell_type": "markdown",
   "id": "1bfd7e6b-3d9b-4ee4-abdd-8f375264b50a",
   "metadata": {
    "tags": []
   },
   "source": [
    "# 🕝 Adicionar Colunas Úteis \n",
    "\n",
    "Para mais fácil compreensão e visualização dos dados, vamos adicionar colunas úteis relacionadas ao tempo (dados derivados das colunas já existentes)\n",
    "\n",
    "- Começamos por separar a data em dia,mês,ano e dia da semana.\n",
    "\n",
    "Para a última transformação, usaremos a função de SQL `dayofweek` [[1]](https://spark.apache.org/docs/latest/api/python/reference/pyspark.sql/api/pyspark.sql.functions.dayofweek.html) que extrai o dia da semana de uma determinada data como inteiro. \n",
    "\n",
    "- Varia de $1 =$ **Domingo** a $7 =$ **Sábado**\n",
    "\n",
    "    - $1 =$ **Domingo** \n",
    "    - $2 =$ **Segunda**\n",
    "    - $3 =$ **Terça**\n",
    "    - $4 =$ **Quarta**\n",
    "    - $5 =$ **Quinta**\n",
    "    - $6 =$ **Sexta**\n",
    "    - $7 =$ **Sábado**"
   ]
  },
  {
   "cell_type": "code",
   "execution_count": 53,
   "id": "00376d52-d0c3-49e6-b60b-3e798a38e0f5",
   "metadata": {
    "tags": []
   },
   "outputs": [
    {
     "data": {
      "application/vnd.jupyter.widget-view+json": {
       "model_id": "96241943129142f1bf376f66dabc7dac",
       "version_major": 2,
       "version_minor": 0
      },
      "text/plain": [
       "VBox()"
      ]
     },
     "metadata": {},
     "output_type": "display_data"
    },
    {
     "data": {
      "application/vnd.jupyter.widget-view+json": {
       "model_id": "",
       "version_major": 2,
       "version_minor": 0
      },
      "text/plain": [
       "FloatProgress(value=0.0, bar_style='info', description='Progress:', layout=Layout(height='25px', width='50%'),…"
      ]
     },
     "metadata": {},
     "output_type": "display_data"
    },
    {
     "name": "stdout",
     "output_type": "stream",
     "text": [
      "+-------------------+-------------+-------------+-------------+-------------------+\n",
      "|          date_time|date_time_ano|date_time_mes|date_time_dia|date_time_diasemana|\n",
      "+-------------------+-------------+-------------+-------------+-------------------+\n",
      "|2014-11-17 09:40:48|         2014|           11|           17|                  2|\n",
      "|2013-03-03 17:26:40|         2013|            3|            3|                  1|\n",
      "|2013-04-25 21:30:38|         2013|            4|           25|                  5|\n",
      "|2014-12-11 05:23:54|         2014|           12|           11|                  5|\n",
      "|2014-06-04 10:32:08|         2014|            6|            4|                  4|\n",
      "+-------------------+-------------+-------------+-------------+-------------------+\n",
      "only showing top 5 rows"
     ]
    }
   ],
   "source": [
    "# Decompor o timestamp de Date Time em Ano, Mês, Dia e Dia da Semana \n",
    "df_expedia = df_expedia.withColumn('date_time_ano', F.year(df_expedia['date_time']))\n",
    "df_expedia = df_expedia.withColumn('date_time_mes', F.month(df_expedia['date_time']))\n",
    "df_expedia = df_expedia.withColumn('date_time_dia', F.dayofmonth(df_expedia['date_time']))\n",
    "df_expedia = df_expedia.withColumn('date_time_diasemana', F.dayofweek(df_expedia['date_time']))\n",
    "\n",
    "# Visualizar 5 observações aleatórias com as novas colunas\n",
    "df_expedia.select(\n",
    "    F.col(\"date_time\"), \n",
    "    F.col(\"date_time_ano\"), \n",
    "    F.col(\"date_time_mes\"), \n",
    "    F.col(\"date_time_dia\"), \n",
    "    F.col(\"date_time_diasemana\")\n",
    ").sample(fraction=0.001, seed=123).show(5)"
   ]
  },
  {
   "cell_type": "code",
   "execution_count": 54,
   "id": "18f774e1-e26a-4e3b-854e-31ac231854d6",
   "metadata": {
    "tags": []
   },
   "outputs": [
    {
     "data": {
      "application/vnd.jupyter.widget-view+json": {
       "model_id": "e5d72e873809426b8ada233d91da582f",
       "version_major": 2,
       "version_minor": 0
      },
      "text/plain": [
       "VBox()"
      ]
     },
     "metadata": {},
     "output_type": "display_data"
    },
    {
     "data": {
      "application/vnd.jupyter.widget-view+json": {
       "model_id": "",
       "version_major": 2,
       "version_minor": 0
      },
      "text/plain": [
       "FloatProgress(value=0.0, bar_style='info', description='Progress:', layout=Layout(height='25px', width='50%'),…"
      ]
     },
     "metadata": {},
     "output_type": "display_data"
    },
    {
     "name": "stdout",
     "output_type": "stream",
     "text": [
      "  summary            date_time  ...       date_time_dia date_time_diasemana\n",
      "0   count             37670293  ...            37670293            37670293\n",
      "1    mean                 None  ...  15.810066754723676  3.8533551092899647\n",
      "2  stddev                 None  ...    8.76617068906352   1.909801717325027\n",
      "3     min  2013-01-07 00:00:02  ...                   1                   1\n",
      "4     max  2014-12-31 23:59:59  ...                  31                   7\n",
      "\n",
      "[5 rows x 6 columns]"
     ]
    }
   ],
   "source": [
    "# Breve descrição das colunas criadas\n",
    "df_expedia.select(F.col(\"date_time\"), \n",
    "                  F.col(\"date_time_ano\"), \n",
    "                  F.col(\"date_time_mes\"), \n",
    "                  F.col(\"date_time_dia\"), \n",
    "                  F.col(\"date_time_diasemana\")).describe().toPandas()"
   ]
  },
  {
   "cell_type": "markdown",
   "id": "239a10da-a1f8-4521-99f7-0eda24c9b817",
   "metadata": {},
   "source": [
    "---"
   ]
  },
  {
   "cell_type": "code",
   "execution_count": 55,
   "id": "829a2205-841e-454c-8edc-1373966da8c6",
   "metadata": {
    "tags": []
   },
   "outputs": [
    {
     "data": {
      "application/vnd.jupyter.widget-view+json": {
       "model_id": "d794d5b3a4214ff297908037bc78122f",
       "version_major": 2,
       "version_minor": 0
      },
      "text/plain": [
       "VBox()"
      ]
     },
     "metadata": {},
     "output_type": "display_data"
    },
    {
     "data": {
      "application/vnd.jupyter.widget-view+json": {
       "model_id": "",
       "version_major": 2,
       "version_minor": 0
      },
      "text/plain": [
       "FloatProgress(value=0.0, bar_style='info', description='Progress:', layout=Layout(height='25px', width='50%'),…"
      ]
     },
     "metadata": {},
     "output_type": "display_data"
    },
    {
     "name": "stdout",
     "output_type": "stream",
     "text": [
      "+-------------+\n",
      "|hour(srch_ci)|\n",
      "+-------------+\n",
      "|         null|\n",
      "|            0|\n",
      "+-------------+\n",
      "\n",
      "+-------------+\n",
      "|hour(srch_co)|\n",
      "+-------------+\n",
      "|         null|\n",
      "|            0|\n",
      "+-------------+"
     ]
    }
   ],
   "source": [
    "# Extrair as horas distintas de 'srch_ci'\n",
    "df_expedia.select(F.hour(\"srch_ci\")).distinct().show()\n",
    "\n",
    "# Extrair as horas distintas de 'srch_co'\n",
    "df_expedia.select(F.hour(\"srch_co\")).distinct().show()"
   ]
  },
  {
   "cell_type": "markdown",
   "id": "ba4e9cce-186b-45bd-9221-1fe5f6c4e053",
   "metadata": {},
   "source": [
    "> Como podemos ver as horas do **Check-In** e **Check-Out** não foram registadas, pelo que apenas trabalharemos com os dias.\n",
    "\n",
    "> Além de decompor a data, adicionaremos ainda uma coluna com o ***dia da semana*** do **Check-In** e **Check-Out**, pois acreditamos ser algo importante a analisar, dado que estamos a trabalhar com o ramo da hotelaria."
   ]
  },
  {
   "cell_type": "markdown",
   "id": "c534471c-8a44-436a-8625-d628150b2fbe",
   "metadata": {},
   "source": [
    "## Check-In"
   ]
  },
  {
   "cell_type": "code",
   "execution_count": 56,
   "id": "b8a73cf4-bff7-419b-9f21-e059eca624fa",
   "metadata": {
    "tags": []
   },
   "outputs": [
    {
     "data": {
      "application/vnd.jupyter.widget-view+json": {
       "model_id": "eeffffde33c84b7996df50aed0e03369",
       "version_major": 2,
       "version_minor": 0
      },
      "text/plain": [
       "VBox()"
      ]
     },
     "metadata": {},
     "output_type": "display_data"
    },
    {
     "data": {
      "application/vnd.jupyter.widget-view+json": {
       "model_id": "",
       "version_major": 2,
       "version_minor": 0
      },
      "text/plain": [
       "FloatProgress(value=0.0, bar_style='info', description='Progress:', layout=Layout(height='25px', width='50%'),…"
      ]
     },
     "metadata": {},
     "output_type": "display_data"
    },
    {
     "name": "stdout",
     "output_type": "stream",
     "text": [
      "+----------+-----------+-----------+-----------+-----------------+\n",
      "|   srch_ci|srch_ci_ano|srch_ci_mes|srch_ci_dia|srch_ci_diasemana|\n",
      "+----------+-----------+-----------+-----------+-----------------+\n",
      "|2015-03-02|       2015|          3|          2|                2|\n",
      "|2013-03-04|       2013|          3|          4|                2|\n",
      "|2014-02-28|       2014|          2|         28|                6|\n",
      "|2014-12-31|       2014|         12|         31|                4|\n",
      "|2014-06-18|       2014|          6|         18|                4|\n",
      "+----------+-----------+-----------+-----------+-----------------+\n",
      "only showing top 5 rows"
     ]
    }
   ],
   "source": [
    "# Decompor o timestamp de Check-In em Ano, Mês, Dia e Dia da Semana \n",
    "df_expedia = df_expedia.withColumn('srch_ci_ano', F.year(df_expedia['srch_ci']))\n",
    "df_expedia = df_expedia.withColumn('srch_ci_mes', F.month(df_expedia['srch_ci']))\n",
    "df_expedia = df_expedia.withColumn('srch_ci_dia', F.dayofmonth(df_expedia['srch_ci']))\n",
    "df_expedia = df_expedia.withColumn('srch_ci_diasemana', F.dayofweek(df_expedia['srch_ci']))\n",
    "\n",
    "# Visualizar 5 observações aleatórias com as novas colunas\n",
    "df_expedia.select(\n",
    "    F.col(\"srch_ci\"), \n",
    "    F.col(\"srch_ci_ano\"), \n",
    "    F.col(\"srch_ci_mes\"), \n",
    "    F.col(\"srch_ci_dia\"), \n",
    "    F.col(\"srch_ci_diasemana\")\n",
    ").sample(fraction=0.001, seed=123).show(5)"
   ]
  },
  {
   "cell_type": "code",
   "execution_count": 57,
   "id": "187006ab-64b8-41f2-9bb1-7bfc77109ec3",
   "metadata": {
    "tags": []
   },
   "outputs": [
    {
     "data": {
      "application/vnd.jupyter.widget-view+json": {
       "model_id": "476f98ec82b144f9bbd10a22dbc361fe",
       "version_major": 2,
       "version_minor": 0
      },
      "text/plain": [
       "VBox()"
      ]
     },
     "metadata": {},
     "output_type": "display_data"
    },
    {
     "data": {
      "application/vnd.jupyter.widget-view+json": {
       "model_id": "",
       "version_major": 2,
       "version_minor": 0
      },
      "text/plain": [
       "FloatProgress(value=0.0, bar_style='info', description='Progress:', layout=Layout(height='25px', width='50%'),…"
      ]
     },
     "metadata": {},
     "output_type": "display_data"
    },
    {
     "name": "stdout",
     "output_type": "stream",
     "text": [
      "  summary     srch_ci  ...         srch_ci_dia   srch_ci_diasemana\n",
      "0   count    37623210  ...            37623210            37623210\n",
      "1    mean        None  ...  16.168988903392346   4.327379774346739\n",
      "2  stddev        None  ...   8.884140726814955  2.0100689272598213\n",
      "3     min  2012-02-15  ...                   1                   1\n",
      "4     max  2558-03-15  ...                  31                   7\n",
      "\n",
      "[5 rows x 6 columns]"
     ]
    }
   ],
   "source": [
    "# Breve descrição das colunas criadas\n",
    "df_expedia.select(F.col(\"srch_ci\"), \n",
    "                  F.col(\"srch_ci_ano\"), \n",
    "                  F.col(\"srch_ci_mes\"), \n",
    "                  F.col(\"srch_ci_dia\"), \n",
    "                  F.col(\"srch_ci_diasemana\")\n",
    "                  ).describe().toPandas()"
   ]
  },
  {
   "cell_type": "code",
   "execution_count": 58,
   "id": "a8077da1-5e25-4b27-bbf5-9aaa3d259753",
   "metadata": {
    "tags": []
   },
   "outputs": [
    {
     "data": {
      "application/vnd.jupyter.widget-view+json": {
       "model_id": "948ea374737648cda202ab602c9355dc",
       "version_major": 2,
       "version_minor": 0
      },
      "text/plain": [
       "VBox()"
      ]
     },
     "metadata": {},
     "output_type": "display_data"
    },
    {
     "data": {
      "application/vnd.jupyter.widget-view+json": {
       "model_id": "",
       "version_major": 2,
       "version_minor": 0
      },
      "text/plain": [
       "FloatProgress(value=0.0, bar_style='info', description='Progress:', layout=Layout(height='25px', width='50%'),…"
      ]
     },
     "metadata": {},
     "output_type": "display_data"
    },
    {
     "name": "stdout",
     "output_type": "stream",
     "text": [
      "root\n",
      " |-- srch_ci: string (nullable = true)\n",
      " |-- srch_ci_ano: integer (nullable = true)\n",
      " |-- srch_ci_mes: integer (nullable = true)\n",
      " |-- srch_ci_dia: integer (nullable = true)\n",
      " |-- srch_ci_diasemana: integer (nullable = true)"
     ]
    }
   ],
   "source": [
    "# Verificar o Tipo de Dados Associado\n",
    "df_expedia.select(F.col(\"srch_ci\"), \n",
    "                  F.col(\"srch_ci_ano\"), \n",
    "                  F.col(\"srch_ci_mes\"), \n",
    "                  F.col(\"srch_ci_dia\"), \n",
    "                  F.col(\"srch_ci_diasemana\")\n",
    "                  ).printSchema()"
   ]
  },
  {
   "cell_type": "code",
   "execution_count": 59,
   "id": "16f9a55c-ee8d-412d-b08c-b01cafec2d06",
   "metadata": {
    "tags": []
   },
   "outputs": [
    {
     "data": {
      "application/vnd.jupyter.widget-view+json": {
       "model_id": "b8046f452ef34b02b35bda3e327e980b",
       "version_major": 2,
       "version_minor": 0
      },
      "text/plain": [
       "VBox()"
      ]
     },
     "metadata": {},
     "output_type": "display_data"
    },
    {
     "data": {
      "application/vnd.jupyter.widget-view+json": {
       "model_id": "",
       "version_major": 2,
       "version_minor": 0
      },
      "text/plain": [
       "FloatProgress(value=0.0, bar_style='info', description='Progress:', layout=Layout(height='25px', width='50%'),…"
      ]
     },
     "metadata": {},
     "output_type": "display_data"
    },
    {
     "name": "stdout",
     "output_type": "stream",
     "text": [
      "30\n",
      "+----------+\n",
      "|   srch_ci|\n",
      "+----------+\n",
      "|2024-09-13|\n",
      "|2558-03-15|\n",
      "|2557-11-14|\n",
      "|2557-11-14|\n",
      "|2023-06-13|\n",
      "+----------+\n",
      "only showing top 5 rows"
     ]
    }
   ],
   "source": [
    "# Verificar valores de Check-In superiores a 2020 (tendo em consideração que a base de dados é referente a pesquisas/reservas até ao ano de 2016)\n",
    "print(df_expedia.where(df_expedia.srch_ci_ano > 2020).count())\n",
    "\n",
    "df_expedia.where(df_expedia.srch_ci_ano > 2020).select(F.col(\"srch_ci\")).show(5)"
   ]
  },
  {
   "cell_type": "code",
   "execution_count": 60,
   "id": "3a0296df-e57c-49cf-8a60-52763c78de48",
   "metadata": {
    "tags": []
   },
   "outputs": [
    {
     "data": {
      "application/vnd.jupyter.widget-view+json": {
       "model_id": "b7bb25a51bde4730b0bfae2ee4842bdb",
       "version_major": 2,
       "version_minor": 0
      },
      "text/plain": [
       "VBox()"
      ]
     },
     "metadata": {},
     "output_type": "display_data"
    },
    {
     "data": {
      "application/vnd.jupyter.widget-view+json": {
       "model_id": "",
       "version_major": 2,
       "version_minor": 0
      },
      "text/plain": [
       "FloatProgress(value=0.0, bar_style='info', description='Progress:', layout=Layout(height='25px', width='50%'),…"
      ]
     },
     "metadata": {},
     "output_type": "display_data"
    },
    {
     "name": "stdout",
     "output_type": "stream",
     "text": [
      "30"
     ]
    }
   ],
   "source": [
    "# Contar os valores com data do Check-In superior a 2020\n",
    "df_expedia.filter(df_expedia.srch_ci_ano > 2020).count()"
   ]
  },
  {
   "cell_type": "markdown",
   "id": "4d2d2724-2e5e-4c8e-9431-56335e2ebc86",
   "metadata": {},
   "source": [
    "### Comentário\n",
    "\n",
    "> Observámos **30** valores anormais nos anos ($2558$) de **Check-In**.\n",
    "\n",
    "> Assim, e sendo poucas observações ($\\sim 0,000001 \\%$), considerando o total da base de dados ($30M$), retirámos as pesquisas com **Check-In** acima de $2020$ pois como os dados são referentes a, no máximo, $2016$, então não achámos plausível datas acima de 4 anos."
   ]
  },
  {
   "cell_type": "code",
   "execution_count": 61,
   "id": "1f5a07a8-72f1-4e02-bd2c-ad0cc75a1e81",
   "metadata": {
    "tags": []
   },
   "outputs": [
    {
     "data": {
      "application/vnd.jupyter.widget-view+json": {
       "model_id": "e58e4b6ec6ed45c093f138411f98e3ca",
       "version_major": 2,
       "version_minor": 0
      },
      "text/plain": [
       "VBox()"
      ]
     },
     "metadata": {},
     "output_type": "display_data"
    },
    {
     "data": {
      "application/vnd.jupyter.widget-view+json": {
       "model_id": "",
       "version_major": 2,
       "version_minor": 0
      },
      "text/plain": [
       "FloatProgress(value=0.0, bar_style='info', description='Progress:', layout=Layout(height='25px', width='50%'),…"
      ]
     },
     "metadata": {},
     "output_type": "display_data"
    }
   ],
   "source": [
    "# Filtrar as observações que tenham Check-In abaixo de 2020\n",
    "df_expedia = df_expedia.where(df_expedia.srch_ci_ano <= 2020)"
   ]
  },
  {
   "cell_type": "markdown",
   "id": "ebb01b88-d65d-4df0-9ef8-d0f5de6d7bcd",
   "metadata": {},
   "source": [
    "## Check-Out"
   ]
  },
  {
   "cell_type": "code",
   "execution_count": 62,
   "id": "2ce9b1cb-826c-497e-98d7-d000ec5e2afd",
   "metadata": {
    "tags": []
   },
   "outputs": [
    {
     "data": {
      "application/vnd.jupyter.widget-view+json": {
       "model_id": "6dede75256514030b250610b3369c6f2",
       "version_major": 2,
       "version_minor": 0
      },
      "text/plain": [
       "VBox()"
      ]
     },
     "metadata": {},
     "output_type": "display_data"
    },
    {
     "data": {
      "application/vnd.jupyter.widget-view+json": {
       "model_id": "",
       "version_major": 2,
       "version_minor": 0
      },
      "text/plain": [
       "FloatProgress(value=0.0, bar_style='info', description='Progress:', layout=Layout(height='25px', width='50%'),…"
      ]
     },
     "metadata": {},
     "output_type": "display_data"
    },
    {
     "name": "stdout",
     "output_type": "stream",
     "text": [
      "+----------+-----------+-----------+-----------+-----------------+\n",
      "|   srch_co|srch_co_ano|srch_co_mes|srch_co_dia|srch_co_diasemana|\n",
      "+----------+-----------+-----------+-----------+-----------------+\n",
      "|2015-03-03|       2015|          3|          3|                3|\n",
      "|2013-03-05|       2013|          3|          5|                3|\n",
      "|2014-03-04|       2014|          3|          4|                3|\n",
      "|2015-01-01|       2015|          1|          1|                5|\n",
      "|2014-06-19|       2014|          6|         19|                5|\n",
      "+----------+-----------+-----------+-----------+-----------------+\n",
      "only showing top 5 rows"
     ]
    }
   ],
   "source": [
    "# Decompor o timestamp de Check-Out em Ano, Mês, Dia e Dia da Semana \n",
    "df_expedia = df_expedia.withColumn('srch_co_ano', F.year(df_expedia['srch_co']))\n",
    "df_expedia = df_expedia.withColumn('srch_co_mes', F.month(df_expedia['srch_co']))\n",
    "df_expedia = df_expedia.withColumn('srch_co_dia', F.dayofmonth(df_expedia['srch_co']))\n",
    "df_expedia = df_expedia.withColumn('srch_co_diasemana', F.dayofweek(df_expedia['srch_co']))\n",
    "\n",
    "# Visualizar 5 observações aleatórias com as novas colunas\n",
    "df_expedia.select(\n",
    "    F.col(\"srch_co\"), \n",
    "    F.col(\"srch_co_ano\"), \n",
    "    F.col(\"srch_co_mes\"), \n",
    "    F.col(\"srch_co_dia\"), \n",
    "    F.col(\"srch_co_diasemana\")\n",
    ").sample(fraction=0.001, seed=123).show(5)"
   ]
  },
  {
   "cell_type": "code",
   "execution_count": 63,
   "id": "095c5e94-90d2-4f6d-b031-6b17d819cc12",
   "metadata": {
    "tags": []
   },
   "outputs": [
    {
     "data": {
      "application/vnd.jupyter.widget-view+json": {
       "model_id": "9cf15047da5f4cda850f33a83919ecb0",
       "version_major": 2,
       "version_minor": 0
      },
      "text/plain": [
       "VBox()"
      ]
     },
     "metadata": {},
     "output_type": "display_data"
    },
    {
     "data": {
      "application/vnd.jupyter.widget-view+json": {
       "model_id": "",
       "version_major": 2,
       "version_minor": 0
      },
      "text/plain": [
       "FloatProgress(value=0.0, bar_style='info', description='Progress:', layout=Layout(height='25px', width='50%'),…"
      ]
     },
     "metadata": {},
     "output_type": "display_data"
    },
    {
     "name": "stdout",
     "output_type": "stream",
     "text": [
      "  summary     srch_co  ...         srch_co_dia   srch_co_diasemana\n",
      "0   count    37623175  ...            37623175            37623175\n",
      "1    mean        None  ...  15.964209479928263  3.8058251330463206\n",
      "2  stddev        None  ...    9.01269968348727    2.16492601610211\n",
      "3     min  2012-09-04  ...                   1                   1\n",
      "4     max  2020-08-13  ...                  31                   7\n",
      "\n",
      "[5 rows x 6 columns]"
     ]
    }
   ],
   "source": [
    "# Breve descrição das colunas criadas\n",
    "df_expedia.select(F.col(\"srch_co\"), \n",
    "                  F.col(\"srch_co_ano\"), \n",
    "                  F.col(\"srch_co_mes\"), \n",
    "                  F.col(\"srch_co_dia\"), \n",
    "                  F.col(\"srch_co_diasemana\")\n",
    "                  ).describe().toPandas()"
   ]
  },
  {
   "cell_type": "code",
   "execution_count": 64,
   "id": "acfb83c5-3c94-4918-a6fe-db5ddb646b92",
   "metadata": {
    "tags": []
   },
   "outputs": [
    {
     "data": {
      "application/vnd.jupyter.widget-view+json": {
       "model_id": "167b77ce32b343e1b922c6224eebdd32",
       "version_major": 2,
       "version_minor": 0
      },
      "text/plain": [
       "VBox()"
      ]
     },
     "metadata": {},
     "output_type": "display_data"
    },
    {
     "data": {
      "application/vnd.jupyter.widget-view+json": {
       "model_id": "",
       "version_major": 2,
       "version_minor": 0
      },
      "text/plain": [
       "FloatProgress(value=0.0, bar_style='info', description='Progress:', layout=Layout(height='25px', width='50%'),…"
      ]
     },
     "metadata": {},
     "output_type": "display_data"
    },
    {
     "name": "stdout",
     "output_type": "stream",
     "text": [
      "root\n",
      " |-- srch_co: string (nullable = true)\n",
      " |-- srch_co_ano: integer (nullable = true)\n",
      " |-- srch_co_mes: integer (nullable = true)\n",
      " |-- srch_co_dia: integer (nullable = true)\n",
      " |-- srch_co_diasemana: integer (nullable = true)"
     ]
    }
   ],
   "source": [
    "# Verificar o Tipo de Dados associado\n",
    "df_expedia.select(F.col(\"srch_co\"), \n",
    "                  F.col(\"srch_co_ano\"), \n",
    "                  F.col(\"srch_co_mes\"), \n",
    "                  F.col(\"srch_co_dia\"), \n",
    "                  F.col(\"srch_co_diasemana\")\n",
    "                  ).printSchema()"
   ]
  },
  {
   "cell_type": "markdown",
   "id": "cc1becae-9d5c-445e-8010-d01242cd938d",
   "metadata": {},
   "source": [
    "## Tempo de Estadia\n",
    "\n",
    "- Adicionalmente, calculámos o Tempo de Estadia para \n",
    "\n"
   ]
  },
  {
   "cell_type": "code",
   "execution_count": 65,
   "id": "2645fed4-cd50-4fc2-8a8a-513d14a3e76c",
   "metadata": {
    "tags": []
   },
   "outputs": [
    {
     "data": {
      "application/vnd.jupyter.widget-view+json": {
       "model_id": "0ce582fcfeef4fe6926cd1d800729965",
       "version_major": 2,
       "version_minor": 0
      },
      "text/plain": [
       "VBox()"
      ]
     },
     "metadata": {},
     "output_type": "display_data"
    },
    {
     "data": {
      "application/vnd.jupyter.widget-view+json": {
       "model_id": "",
       "version_major": 2,
       "version_minor": 0
      },
      "text/plain": [
       "FloatProgress(value=0.0, bar_style='info', description='Progress:', layout=Layout(height='25px', width='50%'),…"
      ]
     },
     "metadata": {},
     "output_type": "display_data"
    },
    {
     "name": "stdout",
     "output_type": "stream",
     "text": [
      "+----------+----------+-------------+\n",
      "|   srch_ci|   srch_co|tempo_estadia|\n",
      "+----------+----------+-------------+\n",
      "|2015-03-02|2015-03-03|            1|\n",
      "|2013-03-04|2013-03-05|            1|\n",
      "|2014-02-28|2014-03-04|            4|\n",
      "|2014-12-31|2015-01-01|            1|\n",
      "|2014-06-18|2014-06-19|            1|\n",
      "+----------+----------+-------------+\n",
      "only showing top 5 rows"
     ]
    }
   ],
   "source": [
    "# Tempo de Estadia\n",
    "df_expedia = df_expedia.withColumn('tempo_estadia', F.datediff(start = df_expedia['srch_ci'], end = df_expedia['srch_co']))\n",
    "\n",
    "# Visualizar 5 observações aleatórias com a nova coluna\n",
    "df_expedia.select(\n",
    "    F.col(\"srch_ci\"), \n",
    "    F.col(\"srch_co\"), \n",
    "    F.col(\"tempo_estadia\") \n",
    ").sample(fraction=0.001, seed=123).show(5)"
   ]
  },
  {
   "cell_type": "code",
   "execution_count": 66,
   "id": "13a102ca-2b98-48ef-a465-d440c82e956c",
   "metadata": {
    "tags": []
   },
   "outputs": [
    {
     "data": {
      "application/vnd.jupyter.widget-view+json": {
       "model_id": "1ca845883d4c49c8823146c6bf270adb",
       "version_major": 2,
       "version_minor": 0
      },
      "text/plain": [
       "VBox()"
      ]
     },
     "metadata": {},
     "output_type": "display_data"
    },
    {
     "data": {
      "application/vnd.jupyter.widget-view+json": {
       "model_id": "",
       "version_major": 2,
       "version_minor": 0
      },
      "text/plain": [
       "FloatProgress(value=0.0, bar_style='info', description='Progress:', layout=Layout(height='25px', width='50%'),…"
      ]
     },
     "metadata": {},
     "output_type": "display_data"
    },
    {
     "name": "stdout",
     "output_type": "stream",
     "text": [
      "root\n",
      " |-- tempo_estadia: integer (nullable = true)"
     ]
    }
   ],
   "source": [
    "# Verificar o Tipo de Dados associado\n",
    "df_expedia.select(F.col(\"tempo_estadia\")).printSchema()"
   ]
  },
  {
   "cell_type": "code",
   "execution_count": 67,
   "id": "639d0bb7-3204-4043-8691-be2b20820468",
   "metadata": {
    "tags": []
   },
   "outputs": [
    {
     "data": {
      "application/vnd.jupyter.widget-view+json": {
       "model_id": "47ab082f4dc7423c930b4eaff9dd779c",
       "version_major": 2,
       "version_minor": 0
      },
      "text/plain": [
       "VBox()"
      ]
     },
     "metadata": {},
     "output_type": "display_data"
    },
    {
     "data": {
      "application/vnd.jupyter.widget-view+json": {
       "model_id": "",
       "version_major": 2,
       "version_minor": 0
      },
      "text/plain": [
       "FloatProgress(value=0.0, bar_style='info', description='Progress:', layout=Layout(height='25px', width='50%'),…"
      ]
     },
     "metadata": {},
     "output_type": "display_data"
    },
    {
     "name": "stdout",
     "output_type": "stream",
     "text": [
      "  summary       tempo_estadia\n",
      "0   count            37623175\n",
      "1    mean   3.368290581536513\n",
      "2  stddev  3.2600554027275472\n",
      "3     min               -2190\n",
      "4     max                 516"
     ]
    }
   ],
   "source": [
    "# Breve descrição da coluna \"tempo_estadia\" criada\n",
    "df_expedia.select(F.col(\"tempo_estadia\")).describe().toPandas()"
   ]
  },
  {
   "cell_type": "code",
   "execution_count": 68,
   "id": "30aaef97-217e-4d68-b51f-447425e2e502",
   "metadata": {
    "tags": []
   },
   "outputs": [
    {
     "data": {
      "application/vnd.jupyter.widget-view+json": {
       "model_id": "0aef3a228e8f401f969689486faf823b",
       "version_major": 2,
       "version_minor": 0
      },
      "text/plain": [
       "VBox()"
      ]
     },
     "metadata": {},
     "output_type": "display_data"
    },
    {
     "data": {
      "application/vnd.jupyter.widget-view+json": {
       "model_id": "",
       "version_major": 2,
       "version_minor": 0
      },
      "text/plain": [
       "FloatProgress(value=0.0, bar_style='info', description='Progress:', layout=Layout(height='25px', width='50%'),…"
      ]
     },
     "metadata": {},
     "output_type": "display_data"
    },
    {
     "name": "stdout",
     "output_type": "stream",
     "text": [
      "797"
     ]
    }
   ],
   "source": [
    "# Averiguar a situação de valores negativos\n",
    "df_expedia.where(df_expedia.tempo_estadia < 0).count()"
   ]
  },
  {
   "cell_type": "code",
   "execution_count": 69,
   "id": "9dad3d31-b6d2-40e5-aedb-ccaca7f3a769",
   "metadata": {
    "tags": []
   },
   "outputs": [
    {
     "data": {
      "application/vnd.jupyter.widget-view+json": {
       "model_id": "7a7975d8d04f411e95139c2e02cd08c2",
       "version_major": 2,
       "version_minor": 0
      },
      "text/plain": [
       "VBox()"
      ]
     },
     "metadata": {},
     "output_type": "display_data"
    },
    {
     "data": {
      "application/vnd.jupyter.widget-view+json": {
       "model_id": "",
       "version_major": 2,
       "version_minor": 0
      },
      "text/plain": [
       "FloatProgress(value=0.0, bar_style='info', description='Progress:', layout=Layout(height='25px', width='50%'),…"
      ]
     },
     "metadata": {},
     "output_type": "display_data"
    },
    {
     "name": "stdout",
     "output_type": "stream",
     "text": [
      "+----------+----------+-------------+\n",
      "|   srch_ci|   srch_co|tempo_estadia|\n",
      "+----------+----------+-------------+\n",
      "|2015-12-03|2015-03-15|         -263|\n",
      "|2015-05-30|2015-01-06|         -144|\n",
      "|2015-02-01|2014-06-12|         -234|\n",
      "|2013-05-04|2013-04-06|          -28|\n",
      "|2015-11-02|2015-02-17|         -258|\n",
      "|2014-11-30|2014-01-12|         -322|\n",
      "|2014-11-26|2014-03-12|         -259|\n",
      "|2014-10-31|2014-01-11|         -293|\n",
      "|2015-08-02|2015-02-15|         -168|\n",
      "|2014-09-29|2014-09-10|          -19|\n",
      "+----------+----------+-------------+\n",
      "only showing top 10 rows"
     ]
    }
   ],
   "source": [
    "# Visualizar 5 observações aleatórias com a nova coluna\n",
    "df_expedia.select(\n",
    "    F.col(\"srch_ci\"), \n",
    "    F.col(\"srch_co\"), \n",
    "    F.col(\"tempo_estadia\"), \n",
    ").where(df_expedia.tempo_estadia < 0).sample(fraction=0.1, seed=123).show(10)"
   ]
  },
  {
   "cell_type": "markdown",
   "id": "91b5a931-8e2f-4e02-987a-d4082ad1541b",
   "metadata": {},
   "source": [
    "### Comentário\n",
    "\n",
    "> Observámos **797** valores anormais com **Tempo de Estadia** negativo.\n",
    "\n",
    "> Assim, e sendo poucas observações ($\\sim 0,00002657 \\%$), retirámos as observações com **Tempo de Estadia** inferior a 0."
   ]
  },
  {
   "cell_type": "code",
   "execution_count": 70,
   "id": "42ed439c-7561-4039-89d3-c9e03cec30aa",
   "metadata": {
    "tags": []
   },
   "outputs": [
    {
     "data": {
      "application/vnd.jupyter.widget-view+json": {
       "model_id": "9594dce269de458baf35576f8453ba23",
       "version_major": 2,
       "version_minor": 0
      },
      "text/plain": [
       "VBox()"
      ]
     },
     "metadata": {},
     "output_type": "display_data"
    },
    {
     "data": {
      "application/vnd.jupyter.widget-view+json": {
       "model_id": "",
       "version_major": 2,
       "version_minor": 0
      },
      "text/plain": [
       "FloatProgress(value=0.0, bar_style='info', description='Progress:', layout=Layout(height='25px', width='50%'),…"
      ]
     },
     "metadata": {},
     "output_type": "display_data"
    },
    {
     "name": "stdout",
     "output_type": "stream",
     "text": [
      "37622378"
     ]
    }
   ],
   "source": [
    "# Filtrar as observações que tenham Tempo de Estadia maior ou igual a 0\n",
    "df_expedia = df_expedia.filter(df_expedia.tempo_estadia >= 0)\n",
    "df_expedia.count()"
   ]
  },
  {
   "cell_type": "markdown",
   "id": "8d04f091-e2ca-40c0-a696-359643d6fda4",
   "metadata": {},
   "source": [
    "---"
   ]
  },
  {
   "cell_type": "markdown",
   "id": "74d104e0-149b-4fb6-91a1-8670b28cc016",
   "metadata": {
    "tags": []
   },
   "source": [
    "# 🔎 Análise Exploratória de Dados (continuação)"
   ]
  },
  {
   "cell_type": "markdown",
   "id": "8de4b8b3-f079-42c4-9aef-cd7e8fb85246",
   "metadata": {},
   "source": [
    "#### Quantas das pesquisas é que foram realmente reservas?"
   ]
  },
  {
   "cell_type": "code",
   "execution_count": 71,
   "id": "2c5c58f9-fe4d-4916-8ffb-17cd00ba412c",
   "metadata": {
    "tags": []
   },
   "outputs": [
    {
     "data": {
      "application/vnd.jupyter.widget-view+json": {
       "model_id": "e27649c8ee2f46cfa568f45b219095a1",
       "version_major": 2,
       "version_minor": 0
      },
      "text/plain": [
       "VBox()"
      ]
     },
     "metadata": {},
     "output_type": "display_data"
    },
    {
     "data": {
      "application/vnd.jupyter.widget-view+json": {
       "model_id": "",
       "version_major": 2,
       "version_minor": 0
      },
      "text/plain": [
       "FloatProgress(value=0.0, bar_style='info', description='Progress:', layout=Layout(height='25px', width='50%'),…"
      ]
     },
     "metadata": {},
     "output_type": "display_data"
    },
    {
     "name": "stdout",
     "output_type": "stream",
     "text": [
      "No total foram reservadas 3000690 pesquisas ( 7.98 %)"
     ]
    }
   ],
   "source": [
    "# Contagem de \"is_booking == 1\" sabendo que não existem valores omissos, como visto anteriormente\n",
    "is_booking_count = df_expedia.where(df_expedia.is_booking == 1).count()\n",
    "\n",
    "print(\"No total foram reservadas\", is_booking_count, \"pesquisas (\",round(is_booking_count/df_expedia.count()*100, 2),\"%)\")"
   ]
  },
  {
   "cell_type": "markdown",
   "id": "20ad0d44-49f2-463a-ad3e-3d72620f978e",
   "metadata": {},
   "source": [
    "#### Qual a intenção dos utilizadores de adquirir um pacote aquando da procura de hotel?"
   ]
  },
  {
   "cell_type": "code",
   "execution_count": 72,
   "id": "2be6af9d-73b5-4e7d-a218-3cf348e8577f",
   "metadata": {},
   "outputs": [
    {
     "data": {
      "application/vnd.jupyter.widget-view+json": {
       "model_id": "7935124aa3044b5288441c435fa0f32d",
       "version_major": 2,
       "version_minor": 0
      },
      "text/plain": [
       "VBox()"
      ]
     },
     "metadata": {},
     "output_type": "display_data"
    },
    {
     "data": {
      "application/vnd.jupyter.widget-view+json": {
       "model_id": "",
       "version_major": 2,
       "version_minor": 0
      },
      "text/plain": [
       "FloatProgress(value=0.0, bar_style='info', description='Progress:', layout=Layout(height='25px', width='50%'),…"
      ]
     },
     "metadata": {},
     "output_type": "display_data"
    },
    {
     "name": "stdout",
     "output_type": "stream",
     "text": [
      "No total foram procurados 9369344 pesquisas ( 24.9 %)"
     ]
    }
   ],
   "source": [
    "# Contagem do \"is_package == 1\"\n",
    "is_package_count = df_expedia.where(df_expedia.is_package == 1).count()\n",
    "\n",
    "print(\"No total foram procurados\", is_package_count, \"pesquisas (\",round(is_package_count/df_expedia.count()*100, 2),\"%)\")"
   ]
  },
  {
   "cell_type": "markdown",
   "id": "392c1594-45af-4ddb-abcd-4611d0e3357b",
   "metadata": {},
   "source": [
    "#### Qual é a média de Tempo de Estadia por `hotel_continent`?"
   ]
  },
  {
   "cell_type": "code",
   "execution_count": 73,
   "id": "31e3f3b0-81d9-4080-95a8-6b7c99a46b6c",
   "metadata": {},
   "outputs": [
    {
     "data": {
      "application/vnd.jupyter.widget-view+json": {
       "model_id": "9e5bfe18198e4f028da6a54ed61ab457",
       "version_major": 2,
       "version_minor": 0
      },
      "text/plain": [
       "VBox()"
      ]
     },
     "metadata": {},
     "output_type": "display_data"
    },
    {
     "data": {
      "application/vnd.jupyter.widget-view+json": {
       "model_id": "",
       "version_major": 2,
       "version_minor": 0
      },
      "text/plain": [
       "FloatProgress(value=0.0, bar_style='info', description='Progress:', layout=Layout(height='25px', width='50%'),…"
      ]
     },
     "metadata": {},
     "output_type": "display_data"
    },
    {
     "name": "stdout",
     "output_type": "stream",
     "text": [
      "   hotel_continent  avg_tempo_estadia\n",
      "0                4                5.0\n",
      "1                1                5.0\n",
      "2                5                5.0\n",
      "3                3                4.0\n",
      "4                0                4.0\n",
      "5                6                3.0\n",
      "6                2                3.0"
     ]
    }
   ],
   "source": [
    "# Calcular a média de Tempo de Estadia por hotel_continent\n",
    "df_expedia.groupBy(\"hotel_continent\") \\\n",
    "    .agg(F.round(F.avg(\"tempo_estadia\"), 0).alias(\"avg_tempo_estadia\")) \\\n",
    "    .orderBy(\"hotel_continent\") \\\n",
    "    .sort(\"avg_tempo_estadia\",ascending=False) \\\n",
    "    .toPandas()"
   ]
  },
  {
   "cell_type": "markdown",
   "id": "0b146610-3e6e-46d5-9139-d3f142eda30b",
   "metadata": {},
   "source": [
    "#### Qual é a contagem de reservas e não reservas (`is_booking`) por canal de acesso (`channel`)?"
   ]
  },
  {
   "cell_type": "code",
   "execution_count": 74,
   "id": "e6deaaa9-73c1-4dfe-9f88-80989f5551e5",
   "metadata": {},
   "outputs": [
    {
     "data": {
      "application/vnd.jupyter.widget-view+json": {
       "model_id": "c0e5263197de4f8091a0807a8b6d5bc3",
       "version_major": 2,
       "version_minor": 0
      },
      "text/plain": [
       "VBox()"
      ]
     },
     "metadata": {},
     "output_type": "display_data"
    },
    {
     "data": {
      "application/vnd.jupyter.widget-view+json": {
       "model_id": "",
       "version_major": 2,
       "version_minor": 0
      },
      "text/plain": [
       "FloatProgress(value=0.0, bar_style='info', description='Progress:', layout=Layout(height='25px', width='50%'),…"
      ]
     },
     "metadata": {},
     "output_type": "display_data"
    },
    {
     "name": "stdout",
     "output_type": "stream",
     "text": [
      "    channel   is_booking     count\n",
      "0         0  Não Reserva   4325643\n",
      "1         0      Reserva    341357\n",
      "2         1  Não Reserva   3550700\n",
      "3         1      Reserva    262254\n",
      "4         2  Não Reserva   2784436\n",
      "5         2      Reserva    179186\n",
      "6         3  Não Reserva   1580193\n",
      "7         3      Reserva     94925\n",
      "8         4  Não Reserva    712013\n",
      "9         4      Reserva    110461\n",
      "10        5  Não Reserva   2106191\n",
      "11        5      Reserva    218624\n",
      "12        6  Não Reserva     57889\n",
      "13        6      Reserva      2886\n",
      "14        7  Não Reserva    300488\n",
      "15        7      Reserva     12463\n",
      "16        8  Não Reserva    102891\n",
      "17        8      Reserva      9315\n",
      "18        9  Não Reserva  19095477\n",
      "19        9      Reserva   1768783\n",
      "20       10  Não Reserva      5767\n",
      "21       10      Reserva       436"
     ]
    }
   ],
   "source": [
    "# Contar as reservas e não reservas (is_booking) por canal de acesso (channel)\n",
    "df_expedia.groupBy(\"channel\", \"is_booking\") \\\n",
    "    .agg(F.count(\"*\").alias(\"count\")) \\\n",
    "    .withColumn(\"is_booking\", F.when(F.col(\"is_booking\") == 1, \"Reserva\").otherwise(\"Não Reserva\")) \\\n",
    "    .orderBy(\"channel\", \"is_booking\") \\\n",
    "    .toPandas()"
   ]
  },
  {
   "cell_type": "markdown",
   "id": "3f16a9ca-1a2e-4185-a9ff-5758f0803b6d",
   "metadata": {
    "tags": []
   },
   "source": [
    "# 📑 Tabela de Frequências Absolutas e Relativas de Variáveis Categóricas"
   ]
  },
  {
   "cell_type": "markdown",
   "id": "218b778d-927c-4d79-9321-59e4de9ee7fb",
   "metadata": {},
   "source": [
    "## `posa_continent` e `hotel_continent`"
   ]
  },
  {
   "cell_type": "code",
   "execution_count": 75,
   "id": "f8e1da66-3bb9-4289-9e9c-005ab29e81aa",
   "metadata": {
    "tags": []
   },
   "outputs": [
    {
     "data": {
      "application/vnd.jupyter.widget-view+json": {
       "model_id": "73b42f65ef224ee79a74a00aeb903dec",
       "version_major": 2,
       "version_minor": 0
      },
      "text/plain": [
       "VBox()"
      ]
     },
     "metadata": {},
     "output_type": "display_data"
    },
    {
     "data": {
      "application/vnd.jupyter.widget-view+json": {
       "model_id": "",
       "version_major": 2,
       "version_minor": 0
      },
      "text/plain": [
       "FloatProgress(value=0.0, bar_style='info', description='Progress:', layout=Layout(height='25px', width='50%'),…"
      ]
     },
     "metadata": {},
     "output_type": "display_data"
    },
    {
     "name": "stdout",
     "output_type": "stream",
     "text": [
      "                       n      %\n",
      "posa_continent                 \n",
      "0                 264796   0.70\n",
      "1                4451224  11.83\n",
      "2                3506781   9.32\n",
      "3               28210747  74.98\n",
      "4                1188830   3.16"
     ]
    }
   ],
   "source": [
    "# Criar a Tabela de Frequências\n",
    "freq_table_pc = df_expedia.groupBy('posa_continent') \\\n",
    "                          .count() \\\n",
    "                          .sort('posa_continent', ascending=True) \n",
    "\n",
    "# Adicionar a coluna com %\n",
    "total_count = freq_table_pc.select('count').agg({'count': 'sum'}).collect()[0][0]\n",
    "freq_table_pc = freq_table_pc.withColumnRenamed('count', 'n')\n",
    "freq_table_pc = freq_table_pc.withColumn('%', F.round(F.col('n') / total_count * 100, 2))\n",
    "\n",
    "freq_table_pc.toPandas().set_index('posa_continent')"
   ]
  },
  {
   "cell_type": "code",
   "execution_count": 76,
   "id": "ccd904bd-1e35-4f01-9e5a-9124a036db94",
   "metadata": {
    "tags": []
   },
   "outputs": [
    {
     "data": {
      "application/vnd.jupyter.widget-view+json": {
       "model_id": "39e0ecb9462948b6b63665ca429ae881",
       "version_major": 2,
       "version_minor": 0
      },
      "text/plain": [
       "VBox()"
      ]
     },
     "metadata": {},
     "output_type": "display_data"
    },
    {
     "data": {
      "application/vnd.jupyter.widget-view+json": {
       "model_id": "",
       "version_major": 2,
       "version_minor": 0
      },
      "text/plain": [
       "FloatProgress(value=0.0, bar_style='info', description='Progress:', layout=Layout(height='25px', width='50%'),…"
      ]
     },
     "metadata": {},
     "output_type": "display_data"
    },
    {
     "name": "stdout",
     "output_type": "stream",
     "text": [
      "                        n      %\n",
      "hotel_continent                 \n",
      "0                  711048   1.89\n",
      "1                     214   0.00\n",
      "2                19755584  52.51\n",
      "3                 4886366  12.99\n",
      "4                 4333450  11.52\n",
      "5                  373222   0.99\n",
      "6                 7562494  20.10"
     ]
    }
   ],
   "source": [
    "# Criar a Tabela de Frequências\n",
    "freq_table_hc = df_expedia.groupBy('hotel_continent') \\\n",
    "                          .count() \\\n",
    "                          .sort('hotel_continent', ascending=True) \n",
    "\n",
    "# Adicionar a coluna com %\n",
    "total_count = freq_table_hc.select('count').agg({'count': 'sum'}).collect()[0][0]\n",
    "freq_table_hc = freq_table_hc.withColumnRenamed('count', 'n')\n",
    "freq_table_hc = freq_table_hc.withColumn('%', F.round(F.col('n') / total_count * 100, 2))\n",
    "\n",
    "freq_table_hc.toPandas().set_index('hotel_continent')"
   ]
  },
  {
   "cell_type": "markdown",
   "id": "159a31c7-29da-46f9-8e7e-80cc08d77c61",
   "metadata": {},
   "source": [
    "## `is_package`"
   ]
  },
  {
   "cell_type": "code",
   "execution_count": 77,
   "id": "ad6f1596-c968-46df-aed4-1936be8edbce",
   "metadata": {
    "tags": []
   },
   "outputs": [
    {
     "data": {
      "application/vnd.jupyter.widget-view+json": {
       "model_id": "ba83b00e763f4ceab8b6ca09984fcb79",
       "version_major": 2,
       "version_minor": 0
      },
      "text/plain": [
       "VBox()"
      ]
     },
     "metadata": {},
     "output_type": "display_data"
    },
    {
     "data": {
      "application/vnd.jupyter.widget-view+json": {
       "model_id": "",
       "version_major": 2,
       "version_minor": 0
      },
      "text/plain": [
       "FloatProgress(value=0.0, bar_style='info', description='Progress:', layout=Layout(height='25px', width='50%'),…"
      ]
     },
     "metadata": {},
     "output_type": "display_data"
    },
    {
     "name": "stdout",
     "output_type": "stream",
     "text": [
      "                   n     %\n",
      "is_package                \n",
      "0           28253034  75.1\n",
      "1            9369344  24.9"
     ]
    }
   ],
   "source": [
    "# Criar a Tabela de Frequências\n",
    "freq_table_ip = df_expedia.groupBy('is_package') \\\n",
    "                          .count() \\\n",
    "                          .sort('is_package', ascending=True) \n",
    "\n",
    "# Adicionar a coluna com %\n",
    "total_count = freq_table_ip.select('count').agg({'count': 'sum'}).collect()[0][0]\n",
    "freq_table_ip = freq_table_ip.withColumnRenamed('count', 'n')\n",
    "freq_table_ip = freq_table_ip.withColumn('%', F.round(F.col('n') / total_count * 100, 2))\n",
    "\n",
    "freq_table_ip.toPandas().set_index('is_package')"
   ]
  },
  {
   "cell_type": "markdown",
   "id": "ca9d1018-84d7-4627-b810-fdc9609dccfc",
   "metadata": {},
   "source": [
    "## `is_booking` "
   ]
  },
  {
   "cell_type": "code",
   "execution_count": 78,
   "id": "81f376d6-4174-4fae-948d-f351bde5dc2e",
   "metadata": {
    "tags": []
   },
   "outputs": [
    {
     "data": {
      "application/vnd.jupyter.widget-view+json": {
       "model_id": "e9cd03bc45f44e72a9fbe511cdbca81a",
       "version_major": 2,
       "version_minor": 0
      },
      "text/plain": [
       "VBox()"
      ]
     },
     "metadata": {},
     "output_type": "display_data"
    },
    {
     "data": {
      "application/vnd.jupyter.widget-view+json": {
       "model_id": "",
       "version_major": 2,
       "version_minor": 0
      },
      "text/plain": [
       "FloatProgress(value=0.0, bar_style='info', description='Progress:', layout=Layout(height='25px', width='50%'),…"
      ]
     },
     "metadata": {},
     "output_type": "display_data"
    },
    {
     "name": "stdout",
     "output_type": "stream",
     "text": [
      "                   n      %\n",
      "is_booking                 \n",
      "0           34621688  92.02\n",
      "1            3000690   7.98"
     ]
    }
   ],
   "source": [
    "# Criar a Tabela de Frequências\n",
    "freq_table_ib = df_expedia.groupBy('is_booking') \\\n",
    "                          .count() \\\n",
    "                          .sort('is_booking', ascending=True) \n",
    "\n",
    "# Adicionar a coluna com %\n",
    "total_count = freq_table_ib.select('count').agg({'count': 'sum'}).collect()[0][0]\n",
    "freq_table_ib = freq_table_ib.withColumnRenamed('count', 'n')\n",
    "freq_table_ib = freq_table_ib.withColumn('%', F.round(F.col('n') / total_count * 100, 2))\n",
    "\n",
    "freq_table_ib.toPandas().set_index('is_booking')"
   ]
  },
  {
   "cell_type": "markdown",
   "id": "6e1c9724-28d5-4518-aba2-e39b00e25481",
   "metadata": {},
   "source": [
    "## `srch_ci_ano` e `srch_co_ano`"
   ]
  },
  {
   "cell_type": "code",
   "execution_count": 79,
   "id": "7a7683c9-f674-4e5f-bc6f-fdc39a5b0e3b",
   "metadata": {
    "tags": []
   },
   "outputs": [
    {
     "data": {
      "application/vnd.jupyter.widget-view+json": {
       "model_id": "8b02b9cb9239496b91ef389128fa3e77",
       "version_major": 2,
       "version_minor": 0
      },
      "text/plain": [
       "VBox()"
      ]
     },
     "metadata": {},
     "output_type": "display_data"
    },
    {
     "data": {
      "application/vnd.jupyter.widget-view+json": {
       "model_id": "",
       "version_major": 2,
       "version_minor": 0
      },
      "text/plain": [
       "FloatProgress(value=0.0, bar_style='info', description='Progress:', layout=Layout(height='25px', width='50%'),…"
      ]
     },
     "metadata": {},
     "output_type": "display_data"
    },
    {
     "name": "stdout",
     "output_type": "stream",
     "text": [
      "                    n       %\n",
      "srch_ci_ano                  \n",
      "2012               11   0.000\n",
      "2013          9853593  26.191\n",
      "2014         23427545  62.270\n",
      "2015          4338513  11.532\n",
      "2016             2701   0.007\n",
      "2017                4   0.000\n",
      "2018                9   0.000\n",
      "2019                2   0.000"
     ]
    }
   ],
   "source": [
    "# Criar a Tabela de Frequências\n",
    "freq_table_ci_ano = df_expedia.groupBy('srch_ci_ano') \\\n",
    "                          .count() \\\n",
    "                          .sort('srch_ci_ano', ascending=True) \n",
    "\n",
    "# Adicionar a coluna com %\n",
    "total_count = freq_table_ci_ano.select('count').agg({'count': 'sum'}).collect()[0][0]\n",
    "freq_table_ci_ano = freq_table_ci_ano.withColumnRenamed('count', 'n')\n",
    "freq_table_ci_ano = freq_table_ci_ano.withColumn('%', F.round(F.col('n') / total_count * 100, 3))\n",
    "\n",
    "freq_table_ci_ano.toPandas().set_index('srch_ci_ano')"
   ]
  },
  {
   "cell_type": "code",
   "execution_count": 80,
   "id": "e175f36c-1047-4c4c-9d0d-ba4501dc0985",
   "metadata": {
    "tags": []
   },
   "outputs": [
    {
     "data": {
      "application/vnd.jupyter.widget-view+json": {
       "model_id": "1a0acab7a5eb45af8cbc449fa25d30ff",
       "version_major": 2,
       "version_minor": 0
      },
      "text/plain": [
       "VBox()"
      ]
     },
     "metadata": {},
     "output_type": "display_data"
    },
    {
     "data": {
      "application/vnd.jupyter.widget-view+json": {
       "model_id": "",
       "version_major": 2,
       "version_minor": 0
      },
      "text/plain": [
       "FloatProgress(value=0.0, bar_style='info', description='Progress:', layout=Layout(height='25px', width='50%'),…"
      ]
     },
     "metadata": {},
     "output_type": "display_data"
    },
    {
     "name": "stdout",
     "output_type": "stream",
     "text": [
      "                    n       %\n",
      "srch_co_ano                  \n",
      "2012                5   0.000\n",
      "2013          9620494  25.571\n",
      "2014         22968634  61.050\n",
      "2015          5028202  13.365\n",
      "2016             5028   0.013\n",
      "2017                2   0.000\n",
      "2018                2   0.000\n",
      "2019                9   0.000\n",
      "2020                2   0.000"
     ]
    }
   ],
   "source": [
    "# Criar a Tabela de Frequências\n",
    "freq_table_co_ano = df_expedia.groupBy('srch_co_ano') \\\n",
    "                          .count() \\\n",
    "                          .sort('srch_co_ano', ascending=True) \n",
    "\n",
    "# Adicionar a coluna com %\n",
    "total_count = freq_table_co_ano.select('count').agg({'count': 'sum'}).collect()[0][0]\n",
    "freq_table_co_ano = freq_table_co_ano.withColumnRenamed('count', 'n')\n",
    "freq_table_co_ano = freq_table_co_ano.withColumn('%', F.round(F.col('n') / total_count * 100, 3))\n",
    "\n",
    "freq_table_co_ano.toPandas().set_index('srch_co_ano')"
   ]
  },
  {
   "cell_type": "markdown",
   "id": "6cf06d0c-3e52-430e-a082-08ec919ce3c7",
   "metadata": {},
   "source": [
    "<br>\n",
    "\n",
    "---\n",
    "\n",
    "<br>"
   ]
  },
  {
   "cell_type": "markdown",
   "id": "46653f8a-f825-49bd-b951-85bfc1925e8d",
   "metadata": {
    "tags": []
   },
   "source": [
    "# 📊 Gráficos\n",
    " "
   ]
  },
  {
   "cell_type": "markdown",
   "id": "76a4eac4-4164-4c2d-ba5e-7478e500ec03",
   "metadata": {},
   "source": [
    "### Matriz de Correlação"
   ]
  },
  {
   "cell_type": "code",
   "execution_count": 81,
   "id": "13a112c9-9195-468a-a9ff-c646b42ad842",
   "metadata": {
    "tags": []
   },
   "outputs": [
    {
     "data": {
      "application/vnd.jupyter.widget-view+json": {
       "model_id": "db79c3596b944a3e9c35b4c75372a40e",
       "version_major": 2,
       "version_minor": 0
      },
      "text/plain": [
       "VBox()"
      ]
     },
     "metadata": {},
     "output_type": "display_data"
    },
    {
     "data": {
      "application/vnd.jupyter.widget-view+json": {
       "model_id": "",
       "version_major": 2,
       "version_minor": 0
      },
      "text/plain": [
       "FloatProgress(value=0.0, bar_style='info', description='Progress:', layout=Layout(height='25px', width='50%'),…"
      ]
     },
     "metadata": {},
     "output_type": "display_data"
    }
   ],
   "source": [
    "# Preparar o dataset para ver as correlações\n",
    "df_expedia_corr = df_expedia"
   ]
  },
  {
   "cell_type": "code",
   "execution_count": 82,
   "id": "ccdd9bc0-946a-4173-a5ad-75e47b16bac9",
   "metadata": {
    "tags": []
   },
   "outputs": [
    {
     "data": {
      "application/vnd.jupyter.widget-view+json": {
       "model_id": "df072074e054494eaebf40cbab4f5bfb",
       "version_major": 2,
       "version_minor": 0
      },
      "text/plain": [
       "VBox()"
      ]
     },
     "metadata": {},
     "output_type": "display_data"
    },
    {
     "data": {
      "application/vnd.jupyter.widget-view+json": {
       "model_id": "",
       "version_major": 2,
       "version_minor": 0
      },
      "text/plain": [
       "FloatProgress(value=0.0, bar_style='info', description='Progress:', layout=Layout(height='25px', width='50%'),…"
      ]
     },
     "metadata": {},
     "output_type": "display_data"
    }
   ],
   "source": [
    "# Eliminar NAs e variáveis não numéricas\n",
    "df_expedia_corr = df_expedia_corr.drop(\"date_time\", \"srch_ci\", \"srch_co\", \"orig_destination_distance\")\n",
    "df_expedia_corr = df_expedia_corr.dropna(how='any')"
   ]
  },
  {
   "cell_type": "code",
   "execution_count": 83,
   "id": "987025d2-f1ed-4f46-8e37-b60aef14e0fa",
   "metadata": {
    "tags": []
   },
   "outputs": [
    {
     "data": {
      "application/vnd.jupyter.widget-view+json": {
       "model_id": "7657bb4ad5a44141b980fba5e27330db",
       "version_major": 2,
       "version_minor": 0
      },
      "text/plain": [
       "VBox()"
      ]
     },
     "metadata": {},
     "output_type": "display_data"
    },
    {
     "data": {
      "application/vnd.jupyter.widget-view+json": {
       "model_id": "",
       "version_major": 2,
       "version_minor": 0
      },
      "text/plain": [
       "FloatProgress(value=0.0, bar_style='info', description='Progress:', layout=Layout(height='25px', width='50%'),…"
      ]
     },
     "metadata": {},
     "output_type": "display_data"
    },
    {
     "name": "stdout",
     "output_type": "stream",
     "text": [
      "37455577"
     ]
    }
   ],
   "source": [
    "# Verificar o nº de observações após o dropna()\n",
    "df_expedia_corr.count()"
   ]
  },
  {
   "cell_type": "markdown",
   "id": "1f31b05a-4d08-485e-876f-37ef016c6dbf",
   "metadata": {},
   "source": [
    "#### Problema\n",
    "\n",
    "Apesar de já termos removido todas as observações/colunas com `NAs`, para fazer o `VectorAssembler` tivemos de fazer `fillna(0)` para resolver o erro que surgiu. [[2]](https://stackoverflow.com/questions/55536970/failed-to-execute-user-defined-functionvectorassembler)"
   ]
  },
  {
   "cell_type": "code",
   "execution_count": 84,
   "id": "41439d6f-2913-4cdc-a4e1-ecffd9dad5e5",
   "metadata": {
    "tags": []
   },
   "outputs": [
    {
     "data": {
      "application/vnd.jupyter.widget-view+json": {
       "model_id": "dcb9b0c40c7846b48fc5058f60ccc851",
       "version_major": 2,
       "version_minor": 0
      },
      "text/plain": [
       "VBox()"
      ]
     },
     "metadata": {},
     "output_type": "display_data"
    },
    {
     "data": {
      "application/vnd.jupyter.widget-view+json": {
       "model_id": "",
       "version_major": 2,
       "version_minor": 0
      },
      "text/plain": [
       "FloatProgress(value=0.0, bar_style='info', description='Progress:', layout=Layout(height='25px', width='50%'),…"
      ]
     },
     "metadata": {},
     "output_type": "display_data"
    }
   ],
   "source": [
    "df_expedia_corr = df_expedia_corr.fillna(0)"
   ]
  },
  {
   "cell_type": "code",
   "execution_count": 85,
   "id": "79ced560-b76b-49e6-a562-7089e7ace7b5",
   "metadata": {
    "tags": []
   },
   "outputs": [
    {
     "data": {
      "application/vnd.jupyter.widget-view+json": {
       "model_id": "3f99d0effc694cfd809ca93b6e53a114",
       "version_major": 2,
       "version_minor": 0
      },
      "text/plain": [
       "VBox()"
      ]
     },
     "metadata": {},
     "output_type": "display_data"
    },
    {
     "data": {
      "application/vnd.jupyter.widget-view+json": {
       "model_id": "",
       "version_major": 2,
       "version_minor": 0
      },
      "text/plain": [
       "FloatProgress(value=0.0, bar_style='info', description='Progress:', layout=Layout(height='25px', width='50%'),…"
      ]
     },
     "metadata": {},
     "output_type": "display_data"
    }
   ],
   "source": [
    "# Reorganizar as colunas de forma a ficar o target no fim\n",
    "df_expedia_corr = df_expedia_corr.select(df_expedia_corr.columns[0:19] + df_expedia_corr.columns[20:] + ['hotel_cluster'])"
   ]
  },
  {
   "cell_type": "code",
   "execution_count": 86,
   "id": "726055db-a6b8-4059-8a96-b4f39e89d45b",
   "metadata": {
    "tags": []
   },
   "outputs": [
    {
     "data": {
      "application/vnd.jupyter.widget-view+json": {
       "model_id": "58ccf323d84f40a589ea5363c499e912",
       "version_major": 2,
       "version_minor": 0
      },
      "text/plain": [
       "VBox()"
      ]
     },
     "metadata": {},
     "output_type": "display_data"
    },
    {
     "data": {
      "application/vnd.jupyter.widget-view+json": {
       "model_id": "",
       "version_major": 2,
       "version_minor": 0
      },
      "text/plain": [
       "FloatProgress(value=0.0, bar_style='info', description='Progress:', layout=Layout(height='25px', width='50%'),…"
      ]
     },
     "metadata": {},
     "output_type": "display_data"
    },
    {
     "name": "stdout",
     "output_type": "stream",
     "text": [
      "36"
     ]
    }
   ],
   "source": [
    "# Contagem das colunas restantes\n",
    "len(df_expedia_corr.columns) # 40 - 4 (drop das colunas \"date_time\", \"srch_ci\", \"srch_co\" e \"orig_destination_distance\")"
   ]
  },
  {
   "cell_type": "code",
   "execution_count": 87,
   "id": "0a146cbb-dfe0-42f0-9aa9-09d67e14a164",
   "metadata": {
    "tags": []
   },
   "outputs": [
    {
     "data": {
      "application/vnd.jupyter.widget-view+json": {
       "model_id": "f4f9623a480f4b3b97b6e6701e8c354d",
       "version_major": 2,
       "version_minor": 0
      },
      "text/plain": [
       "VBox()"
      ]
     },
     "metadata": {},
     "output_type": "display_data"
    },
    {
     "data": {
      "application/vnd.jupyter.widget-view+json": {
       "model_id": "",
       "version_major": 2,
       "version_minor": 0
      },
      "text/plain": [
       "FloatProgress(value=0.0, bar_style='info', description='Progress:', layout=Layout(height='25px', width='50%'),…"
      ]
     },
     "metadata": {},
     "output_type": "display_data"
    }
   ],
   "source": [
    "from pyspark.ml.feature import VectorAssembler, StringIndexer, OneHotEncoder\n",
    "from pyspark.ml.stat import Correlation\n",
    "\n",
    "# A função \"Correlation\" tem como input um vector, então convertemos primeiro para uma coluna vetorial. (Calcula a Correlação de Pearson por default)\n",
    "assembler = VectorAssembler(inputCols=df_expedia_corr.columns[0:], outputCol=\"corr_features\")\n",
    "df_vector = assembler.transform(df_expedia_corr).select(\"corr_features\")\n",
    "corr_matrix = Correlation.corr(df_vector, \"corr_features\").collect()[0][0].toArray().tolist()"
   ]
  },
  {
   "cell_type": "code",
   "execution_count": 88,
   "id": "4c2ca9c1-97fb-4d24-9367-57a23683135d",
   "metadata": {},
   "outputs": [
    {
     "data": {
      "application/vnd.jupyter.widget-view+json": {
       "model_id": "b5a3a299e41b475b9e3d4f92af9fd681",
       "version_major": 2,
       "version_minor": 0
      },
      "text/plain": [
       "VBox()"
      ]
     },
     "metadata": {},
     "output_type": "display_data"
    },
    {
     "data": {
      "application/vnd.jupyter.widget-view+json": {
       "model_id": "",
       "version_major": 2,
       "version_minor": 0
      },
      "text/plain": [
       "FloatProgress(value=0.0, bar_style='info', description='Progress:', layout=Layout(height='25px', width='50%'),…"
      ]
     },
     "metadata": {},
     "output_type": "display_data"
    }
   ],
   "source": [
    "# Para visualizar a Matriz de Correlação, primeiro precisamos converter o vetor para um dataframe em Pandas\n",
    "df_plot = pd.DataFrame(data = corr_matrix, index=df_expedia_corr.columns[0:], columns=df_expedia_corr.columns[0:])\n",
    "\n",
    "# Visualizar a Matriz de Correlação\n",
    "# plotCorrelationMatrix(df_plot, cmap = sns.diverging_palette(220, 145, as_cmap=True), annot=False)\n",
    "# plt.title('Matriz de Correlações das Features')\n",
    "# plt.show()"
   ]
  },
  {
   "cell_type": "code",
   "execution_count": 89,
   "id": "c73dec65-ecf9-4d3a-82f7-7dc5961e3127",
   "metadata": {},
   "outputs": [
    {
     "data": {
      "application/vnd.jupyter.widget-view+json": {
       "model_id": "bae5be69bdd2490cbc101fb04557e94c",
       "version_major": 2,
       "version_minor": 0
      },
      "text/plain": [
       "VBox()"
      ]
     },
     "metadata": {},
     "output_type": "display_data"
    },
    {
     "data": {
      "application/vnd.jupyter.widget-view+json": {
       "model_id": "",
       "version_major": 2,
       "version_minor": 0
      },
      "text/plain": [
       "FloatProgress(value=0.0, bar_style='info', description='Progress:', layout=Layout(height='25px', width='50%'),…"
      ]
     },
     "metadata": {},
     "output_type": "display_data"
    },
    {
     "name": "stdout",
     "output_type": "stream",
     "text": [
      "srch_destination_id        -0.012047\n",
      "site_name                  -0.022475\n",
      "posa_continent              0.015010\n",
      "user_location_country      -0.010442\n",
      "user_location_region        0.007421\n",
      "user_location_city          0.000822\n",
      "user_id                     0.001043\n",
      "is_mobile                   0.008415\n",
      "is_package                  0.038902\n",
      "channel                     0.000743\n",
      "srch_adults_cnt             0.012333\n",
      "srch_children_cnt           0.016267\n",
      "srch_rm_cnt                -0.005930\n",
      "srch_destination_type_id   -0.033594\n",
      "is_booking                 -0.021557\n",
      "cnt                         0.002990\n",
      "hotel_continent            -0.013947\n",
      "hotel_country              -0.024434\n",
      "hotel_market                0.034179\n",
      "pcaFeature_1                0.013699\n",
      "pcaFeature_2                0.065019\n",
      "pcaFeature_3               -0.031486\n",
      "date_time_ano              -0.000833\n",
      "date_time_mes              -0.000452\n",
      "date_time_dia               0.000037\n",
      "date_time_diasemana        -0.000928\n",
      "srch_ci_ano                 0.006848\n",
      "srch_ci_mes                -0.001542\n",
      "srch_ci_dia                -0.000150\n",
      "srch_ci_diasemana           0.008668\n",
      "srch_co_ano                 0.008060\n",
      "srch_co_mes                -0.003439\n",
      "srch_co_dia                 0.000629\n",
      "srch_co_diasemana           0.000588\n",
      "tempo_estadia               0.038774\n",
      "hotel_cluster               1.000000\n",
      "Name: hotel_cluster, dtype: float64"
     ]
    }
   ],
   "source": [
    "# Valor da correlação de Pearson das várias features com o target 'hotel_cluster'\n",
    "df_plot[\"hotel_cluster\"]"
   ]
  },
  {
   "cell_type": "markdown",
   "id": "3191181e-cc97-4a99-9db7-7854812741e1",
   "metadata": {},
   "source": [
    "> As correlações apresentadas indicam que as *features*/variáveis têm baixa ou nenhuma relação linear com a variável *target* `hotel_cluster`.\n",
    "\n",
    "> Observámos algumas correlações elevadas entre certas *features* preditoras, pelo que teremos isso em consideração quando selecionarmos as que iremos utilizar nos modelos, de modo a evitar **multicolinearidade**, que pode afetar a performance do modelo."
   ]
  },
  {
   "cell_type": "markdown",
   "id": "52c9a5ec-073d-4c5f-aa04-b2115cab4cc8",
   "metadata": {},
   "source": [
    "---"
   ]
  },
  {
   "cell_type": "markdown",
   "id": "f48c11ba-0e24-4dc4-b394-87a6312b5295",
   "metadata": {},
   "source": [
    "\n",
    "### Histograma \n",
    "\n",
    "Análise Gráfica do *target* (`hotel_cluster`)"
   ]
  },
  {
   "cell_type": "code",
   "execution_count": 45,
   "id": "21ae8cd1-62c0-4bc3-8d66-d50d5d5db276",
   "metadata": {
    "tags": []
   },
   "outputs": [
    {
     "data": {
      "image/png": "[encoded data removed]",
      "text/plain": [
       "<Figure size 640x480 with 1 Axes>"
      ]
     },
     "metadata": {},
     "output_type": "display_data"
    }
   ],
   "source": [
    "# Selecionar os dados a representar e converter para um dataframe em Pandas \n",
    "df_hist = df_expedia.sample(fraction=0.2, seed=123) \\\n",
    "                    .select('hotel_cluster').toPandas() # 20% dos dados - ~7M\n",
    "\n",
    "# Representar o Histograma\n",
    "plt.hist(df_hist['hotel_cluster'], bins=50, color= '#000080')\n",
    "\n",
    "# Definir os rótulos dos eixos x e y\n",
    "plt.xlabel('Hotel Cluster')\n",
    "plt.ylabel('Número de Reservas/Clicks')\n",
    "\n",
    "# Definir o Título do Gráfico \n",
    "plt.title('Histograma do Hotel Cluster')\n",
    "\n",
    "# Adicionar linhas verticais e textos respetivos do valor da Média e da Mediana\n",
    "plt.axvline(df_hist['hotel_cluster'].mean(), color='red', linestyle='dashed', linewidth=1)\n",
    "plt.axvline(df_hist['hotel_cluster'].median(), color='#f8f8ff', linestyle='dashed', linewidth=1)\n",
    "plt.text(df_hist['hotel_cluster'].mean()+1, 20000, 'Mean: {:.2f}'.format(df_hist['hotel_cluster'].mean()), color='red')\n",
    "plt.text(df_hist['hotel_cluster'].median()+1, 5000, ' Median: {:.2f}'.format(df_hist['hotel_cluster'].median()), color='#f8f8ff')\n",
    "plt.show()"
   ]
  },
  {
   "cell_type": "markdown",
   "id": "bbd5544b-4e7c-4194-a89a-22f609252890",
   "metadata": {
    "tags": []
   },
   "source": [
    "> Verifica-se uma **distribuição homogénea** da variável target `hotel_cluster`, sendo a Média e Mediana aproximadamente iguais."
   ]
  },
  {
   "cell_type": "markdown",
   "id": "9988e406-0526-4c59-8576-a5359d8ad359",
   "metadata": {},
   "source": [
    "### Gráfico de Barras"
   ]
  },
  {
   "cell_type": "code",
   "execution_count": 46,
   "id": "0d27c61f-245b-4d30-afc2-782b66b29734",
   "metadata": {},
   "outputs": [
    {
     "data": {
      "image/png": "[encoded data removed]",
      "text/plain": [
       "<Figure size 640x480 with 1 Axes>"
      ]
     },
     "metadata": {},
     "output_type": "display_data"
    }
   ],
   "source": [
    "# Filtrar por Tempo de Estadia máximo de 20 dias (20% dos dados)\n",
    "df_plot = df_expedia.sample(fraction=0.2, seed=123) \\\n",
    "                    .groupby('tempo_estadia') \\\n",
    "                    .count() \\\n",
    "                    .sort('tempo_estadia', ascending=True) \\\n",
    "                    .where((df_expedia.tempo_estadia >=0) & (df_expedia.tempo_estadia <= 20)).toPandas()\n",
    "\n",
    "# Representar do Gráfico de Barras\n",
    "sns.barplot(data=df_plot, x='tempo_estadia', y='count', hue=None, palette='crest')\n",
    "            \n",
    "# Definir os rótulos dos eixos x e y\n",
    "plt.xlabel('Tempo (em dias)')\n",
    "plt.ylabel('Número de Reservas/Clicks (em M)')\n",
    "\n",
    "# Definir o Título do Gráfico \n",
    "plt.title('Tempo de Estadia')\n",
    "plt.show();"
   ]
  },
  {
   "cell_type": "markdown",
   "id": "3823d3c2-9f5c-45db-848e-f2a3e3266d8e",
   "metadata": {},
   "source": [
    "> É possível notar que o **Tempo de Estadia** mais procurado é os com a menor duração, excepto os que fazem ***Check-In*** e ***Check-Out*** no próprio dia. "
   ]
  },
  {
   "cell_type": "markdown",
   "id": "12f06ed6-b81b-4bb8-98ed-5eb556b79964",
   "metadata": {},
   "source": [
    "### ScatterPlot"
   ]
  },
  {
   "cell_type": "code",
   "execution_count": 47,
   "id": "63cc7ddd-482f-44a1-9544-b10040a9b9f3",
   "metadata": {
    "tags": []
   },
   "outputs": [
    {
     "data": {
      "image/png": "[encoded data removed]",
      "text/plain": [
       "<Figure size 640x480 with 1 Axes>"
      ]
     },
     "metadata": {},
     "output_type": "display_data"
    }
   ],
   "source": [
    "# Selecionar os dados a representar e converter para um dataframe em Pandas (10% dos dados)\n",
    "df_plot1 = df_expedia.sample(fraction=0.1, seed=123) \\\n",
    "                     .select(\"hotel_continent\", \"hotel_country\", \"hotel_market\").toPandas()\n",
    "\n",
    "# Representar o ScatterPlot\n",
    "sns.scatterplot(x= 'hotel_market', y='hotel_country', hue='hotel_continent', data=df_plot1, palette='crest', legend='full')\n",
    "plt.title('Distribuição dos Hotéis por Países/Continente/Mercado')\n",
    "plt.show()"
   ]
  },
  {
   "cell_type": "markdown",
   "id": "6d8e407c-8090-44ac-bc33-2aec4a37ecc6",
   "metadata": {},
   "source": [
    "> Observa-se que entre o `Hotel_Market` $400$ e $600$ não se apresentam hotéis (como se pode notar pelo espaço vazio nessa área), o que demonstra que os mercados entre estes valores são nichos, situando-se sobretudo pelo país representado pelo $50$.  "
   ]
  },
  {
   "cell_type": "code",
   "execution_count": 48,
   "id": "6e60a2c2-b989-4086-9655-dc31c847f8a4",
   "metadata": {
    "tags": []
   },
   "outputs": [
    {
     "data": {
      "image/png": "[encoded data removed]",
      "text/plain": [
       "<Figure size 640x480 with 1 Axes>"
      ]
     },
     "metadata": {},
     "output_type": "display_data"
    }
   ],
   "source": [
    "# Selecionar os dados a representar e converter para um dataframe em Pandas (10% dos dados)\n",
    "df_plot2 = df_expedia.sample(fraction=0.1, seed=123) \\\n",
    "                      .select(F.col(\"cnt\"), F.col(\"tempo_estadia\")).toPandas()\n",
    "\n",
    "# Representar o ScatterPlot\n",
    "sns.scatterplot(x='tempo_estadia', y='cnt', data=df_plot2, palette='crest')\n",
    "plt.xlim(0,150) # Para melhor visualização fizemos o gráfico com limite de x e y 150\n",
    "plt.ylim(0,150)\n",
    "plt.show()"
   ]
  },
  {
   "cell_type": "markdown",
   "id": "105d7618-4cd5-4464-a2e6-47ba25477726",
   "metadata": {},
   "source": [
    "> Com base na análise do **ScatterPlot**, podemos inferir que a maioria dos *users* prefere pesquisar hotéis por um curto período de tempo em vez de estadias mais longas."
   ]
  },
  {
   "cell_type": "markdown",
   "id": "6261367a-53a8-4719-bc03-2f34b9ec49b0",
   "metadata": {},
   "source": [
    "### BoxPlot"
   ]
  },
  {
   "cell_type": "code",
   "execution_count": 49,
   "id": "f2b8cc4a-6c7b-4b79-a191-dd9bde2c3317",
   "metadata": {
    "tags": []
   },
   "outputs": [
    {
     "data": {
      "image/png": "[encoded data removed]",
      "text/plain": [
       "<Figure size 640x480 with 1 Axes>"
      ]
     },
     "metadata": {},
     "output_type": "display_data"
    }
   ],
   "source": [
    "# Converter a variável date_time_diasemana em categórica indicando se é ou não fim de semana (20%)\n",
    "df_plot3 = df_expedia.sample(fraction=0.2, seed=123) \\\n",
    "                     .withColumn(\"is_weekend\", \n",
    "                                 F.when((df_expedia.date_time_diasemana == 1) | (df_expedia.date_time_diasemana == 7), \"Fim de Semana\") \\\n",
    "                                 .otherwise(\"Dia de Semana\")) \\\n",
    "                     .select(\"srch_destination_id\", \"is_weekend\").toPandas().astype({'srch_destination_id': 'int', 'is_weekend':'category'})\n",
    "\n",
    "# Representação do Boxplot\n",
    "sns.boxplot(x=\"is_weekend\", y=\"srch_destination_id\", data=df_plot3, palette='crest')\n",
    "plt.title('Boxplot is_weekend pelo srch_destination_id')\n",
    "plt.show()"
   ]
  },
  {
   "cell_type": "markdown",
   "id": "7e527a79-49a8-48bd-a9fe-eb427cd400d7",
   "metadata": {},
   "source": [
    "> Sejam procuras durante a semana ou ao fim de semana, a maior concentração de destinos é entre o id $90000$ e $180000$."
   ]
  },
  {
   "cell_type": "code",
   "execution_count": 50,
   "id": "2835619d-363f-4f5f-973c-78e94d1929b9",
   "metadata": {
    "tags": []
   },
   "outputs": [
    {
     "data": {
      "image/png": "[encoded data removed]",
      "text/plain": [
       "<Figure size 640x480 with 1 Axes>"
      ]
     },
     "metadata": {},
     "output_type": "display_data"
    }
   ],
   "source": [
    "# Selecionar os dados a representar e converter para um dataframe em Pandas (20% dos dados)\n",
    "df_plot4 = df_expedia.sample(fraction=0.2, seed=123) \\\n",
    "                     .select(\"date_time_dia\", \"is_booking\").toPandas()\n",
    "\n",
    "# Representação do Boxplot\n",
    "sns.boxplot(x=\"is_booking\", y=\"date_time_dia\", data=df_plot4, palette='crest')\n",
    "plt.show()"
   ]
  },
  {
   "cell_type": "markdown",
   "id": "f1864720-de55-4243-9b1e-051a326aa829",
   "metadata": {},
   "source": [
    "> Sejam reservas ou apenas cliques, a dispersão é semelhante nos dias dos meses."
   ]
  },
  {
   "cell_type": "markdown",
   "id": "3887b465-dd6f-4673-a0d6-493043c7394a",
   "metadata": {},
   "source": [
    "### Série Temporal"
   ]
  },
  {
   "cell_type": "code",
   "execution_count": 51,
   "id": "75c7683d-e3da-4035-afef-714ce8b0e532",
   "metadata": {
    "tags": []
   },
   "outputs": [
    {
     "name": "stderr",
     "output_type": "stream",
     "text": [
      "                                                                                \r"
     ]
    }
   ],
   "source": [
    "# Converter a coluna srch_ci em formato de data\n",
    "date_bookings_clicks = df_expedia.withColumn(\"Date\", F.to_date(\"srch_ci\", \"yyyy-MM-dd\"))\n",
    "\n",
    "# Contar as observações por classes (Contagem dos 0 e 1 do is_booking agrupados por data)\n",
    "date_bookings_clicks = date_bookings_clicks.groupby(\"Date\") \\\n",
    "                                           .agg(F.count(\"is_booking\").alias(\"Clicks\"), \n",
    "                                                F.sum(\"is_booking\").alias(\"Bookings\")) \\\n",
    "                                           .withColumn(\"Clicks\", F.col(\"Clicks\") - F.col(\"Bookings\")).toPandas().set_index(\"Date\")\n",
    "\n",
    "# Converter o índice para o formato datetime e definir a unidade de tempo para mês\n",
    "date_bookings_clicks.index = pd.to_datetime(date_bookings_clicks.index)\n",
    "date_bookings_clicks_monthly = date_bookings_clicks.resample('M').sum()"
   ]
  },
  {
   "cell_type": "code",
   "execution_count": 52,
   "id": "6f8da518-8efc-430a-b302-5434169ee6c1",
   "metadata": {
    "tags": []
   },
   "outputs": [
    {
     "data": {
      "image/png": "[encoded data removed]",
      "text/plain": [
       "<Figure size 1500x600 with 2 Axes>"
      ]
     },
     "metadata": {},
     "output_type": "display_data"
    }
   ],
   "source": [
    "# Representação Gráfica da Série Temporal\n",
    "fig, ax1 = plt.subplots(figsize=(15,6))\n",
    "\n",
    "# Definir o Título do Gráfico e os rótulos dos eixos x e y\n",
    "ax1.set_title(\"Total Bookings\")\n",
    "ax1.set_ylabel(\"Bookings\")\n",
    "ax2 = ax1.twinx()\n",
    "ax2.set_ylabel(\"Clicks\")\n",
    "\n",
    "# Representar as linhas temporais\n",
    "date_bookings_clicks_monthly[\"Bookings\"].plot(legend=True, marker='o', color='#000080', ax=ax1)\n",
    "date_bookings_clicks_monthly[\"Clicks\"].plot(legend=True, marker='o', color='#008080', ax=ax2)\n",
    "\n",
    "# Definir as Legendas\n",
    "ax1.legend([\"Bookings\"],loc=\"upper left\")\n",
    "ax2.legend([\"Clicks\"])\n",
    "ax1.set_xlim(pd.Timestamp(\"2012-10-31\"), pd.Timestamp(\"2016-02-28\"))\n",
    "ax1.xaxis\n",
    "plt.show()"
   ]
  },
  {
   "cell_type": "markdown",
   "id": "6c6cfa2e-8c39-440d-b4ad-26dff0f7e560",
   "metadata": {},
   "source": [
    "> Apesar de serem em unidades diferentes, tanto as *Reservas* como os *Clicks* seguem uma mesma tendência na Série Temporal, verificando-se uma elevada procura na época sazonal de **Verão** e meses subsequentes até à **Época Natalícia**."
   ]
  },
  {
   "cell_type": "markdown",
   "id": "b4960125-80d8-4d52-9334-b892c783d214",
   "metadata": {},
   "source": [
    "---"
   ]
  },
  {
   "cell_type": "markdown",
   "id": "baa51b1e-740c-4867-8862-137ca923b616",
   "metadata": {},
   "source": [
    "# 💾 Guardar os dados"
   ]
  },
  {
   "cell_type": "code",
   "execution_count": 90,
   "id": "994b559c-7517-4ea9-bc68-df63c27a2159",
   "metadata": {
    "tags": []
   },
   "outputs": [
    {
     "data": {
      "application/vnd.jupyter.widget-view+json": {
       "model_id": "0387f5d1d61945fa8687ec8f03ad7396",
       "version_major": 2,
       "version_minor": 0
      },
      "text/plain": [
       "VBox()"
      ]
     },
     "metadata": {},
     "output_type": "display_data"
    },
    {
     "data": {
      "application/vnd.jupyter.widget-view+json": {
       "model_id": "",
       "version_major": 2,
       "version_minor": 0
      },
      "text/plain": [
       "FloatProgress(value=0.0, bar_style='info', description='Progress:', layout=Layout(height='25px', width='50%'),…"
      ]
     },
     "metadata": {},
     "output_type": "display_data"
    },
    {
     "name": "stdout",
     "output_type": "stream",
     "text": [
      "37622378\n",
      "root\n",
      " |-- srch_destination_id: integer (nullable = true)\n",
      " |-- date_time: string (nullable = true)\n",
      " |-- site_name: integer (nullable = true)\n",
      " |-- posa_continent: integer (nullable = true)\n",
      " |-- user_location_country: integer (nullable = true)\n",
      " |-- user_location_region: integer (nullable = true)\n",
      " |-- user_location_city: integer (nullable = true)\n",
      " |-- orig_destination_distance: double (nullable = true)\n",
      " |-- user_id: integer (nullable = true)\n",
      " |-- is_mobile: integer (nullable = true)\n",
      " |-- is_package: integer (nullable = true)\n",
      " |-- channel: integer (nullable = true)\n",
      " |-- srch_ci: string (nullable = true)\n",
      " |-- srch_co: string (nullable = true)\n",
      " |-- srch_adults_cnt: integer (nullable = true)\n",
      " |-- srch_children_cnt: integer (nullable = true)\n",
      " |-- srch_rm_cnt: integer (nullable = true)\n",
      " |-- srch_destination_type_id: integer (nullable = true)\n",
      " |-- is_booking: integer (nullable = true)\n",
      " |-- cnt: integer (nullable = true)\n",
      " |-- hotel_continent: integer (nullable = true)\n",
      " |-- hotel_country: integer (nullable = true)\n",
      " |-- hotel_market: integer (nullable = true)\n",
      " |-- hotel_cluster: integer (nullable = true)\n",
      " |-- pcaFeature_1: double (nullable = true)\n",
      " |-- pcaFeature_2: double (nullable = true)\n",
      " |-- pcaFeature_3: double (nullable = true)\n",
      " |-- date_time_ano: integer (nullable = true)\n",
      " |-- date_time_mes: integer (nullable = true)\n",
      " |-- date_time_dia: integer (nullable = true)\n",
      " |-- date_time_diasemana: integer (nullable = true)\n",
      " |-- srch_ci_ano: integer (nullable = true)\n",
      " |-- srch_ci_mes: integer (nullable = true)\n",
      " |-- srch_ci_dia: integer (nullable = true)\n",
      " |-- srch_ci_diasemana: integer (nullable = true)\n",
      " |-- srch_co_ano: integer (nullable = true)\n",
      " |-- srch_co_mes: integer (nullable = true)\n",
      " |-- srch_co_dia: integer (nullable = true)\n",
      " |-- srch_co_diasemana: integer (nullable = true)\n",
      " |-- tempo_estadia: integer (nullable = true)"
     ]
    }
   ],
   "source": [
    "# Confirmar o nº de observações e tipos de dados\n",
    "print(df_expedia.count())\n",
    "df_expedia.printSchema()"
   ]
  },
  {
   "cell_type": "code",
   "execution_count": 91,
   "id": "17179ad0-dd86-4c42-a6b8-51a7d0fe7612",
   "metadata": {
    "tags": []
   },
   "outputs": [
    {
     "data": {
      "application/vnd.jupyter.widget-view+json": {
       "model_id": "0fa87a06d77e4488adef2f96b4ce8399",
       "version_major": 2,
       "version_minor": 0
      },
      "text/plain": [
       "VBox()"
      ]
     },
     "metadata": {},
     "output_type": "display_data"
    },
    {
     "data": {
      "application/vnd.jupyter.widget-view+json": {
       "model_id": "",
       "version_major": 2,
       "version_minor": 0
      },
      "text/plain": [
       "FloatProgress(value=0.0, bar_style='info', description='Progress:', layout=Layout(height='25px', width='50%'),…"
      ]
     },
     "metadata": {},
     "output_type": "display_data"
    }
   ],
   "source": [
    "# Guardar o dataset com as variáveis transformadas/adicionadas\n",
    "df_expedia.write.mode(\"overwrite\").parquet(\"df-expedia-2\")\n",
    "# df_expedia.write.mode(\"overwrite\").parquet(\"s3://pdb-grupo17-bucket-as/df-expedia-2\")"
   ]
  },
  {
   "cell_type": "markdown",
   "id": "1e1dd5a0-2be5-47ad-a062-59289e576679",
   "metadata": {},
   "source": [
    "---"
   ]
  },
  {
   "cell_type": "markdown",
   "id": "75c3e72c-9d40-4563-8efb-2720e8e8a2d1",
   "metadata": {},
   "source": [
    "# 🔗 Referencias Bibliográficas\n",
    "\n",
    "**[1]** Apache Spark. (n.d.-c). pyspark.sql.functions.dayofweek — PySpark 3.3.2 documentation. Spark.apache.org. https://spark.apache.org/docs/latest/api/python/reference/pyspark.sql/api/pyspark.sql.functions.dayofweek.html\n",
    "\n",
    "**[2]** Rahal, A. (2019, April 5). scala - Failed to execute user defined function(VectorAssembler. Stack Overflow. https://stackoverflow.com/questions/55536970/failed-to-execute-user-defined-functionvectorassembler"
   ]
  }
 ],
 "metadata": {
  "kernelspec": {
   "display_name": "PySpark",
   "language": "",
   "name": "pysparkkernel"
  },
  "language_info": {
   "codemirror_mode": {
    "name": "python",
    "version": 3
   },
   "mimetype": "text/x-python",
   "name": "pyspark",
   "pygments_lexer": "python3"
  },
  "toc-autonumbering": false,
  "toc-showmarkdowntxt": false
 },
 "nbformat": 4,
 "nbformat_minor": 5
}
