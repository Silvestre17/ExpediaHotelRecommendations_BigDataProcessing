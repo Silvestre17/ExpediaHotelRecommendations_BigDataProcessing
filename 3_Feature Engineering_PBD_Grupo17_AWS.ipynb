{
 "cells": [
  {
   "cell_type": "markdown",
   "id": "7a4dde15-e329-49ef-81eb-95edfa8fa138",
   "metadata": {},
   "source": [
    "<center><br> <img src=\"https://www.iscte-iul.pt/assets/images/logo_iscte_detailed.svg\" style=\"width: 300px;\"></center><br>"
   ]
  },
  {
   "cell_type": "markdown",
   "id": "f3d06cd4-453e-45f5-ab64-a35319fc0d0c",
   "metadata": {},
   "source": [
    "<img src=\"https://logos-world.net/wp-content/uploads/2021/02/Expedia-Emblem.png\" style=\"width: 300px;margin-top: 30px;\" align=\"left\">\n",
    "   <div><center><h1>Projeto: Expedia Hotel Recommendations</h1></center></div>\n",
    "   <div><center><h4>Processamento de Big Data  -   2º Semestre | 2022/23</h4></center></div>\n",
    "   <div><center><b>Docentes:</b> João Oliveira <b>|</b> Adriano Lopes</center></div>\n",
    " <br>\n",
    "    <div><center><h4>Grupo 17</h4></center> </div>\n",
    "    <div><center> André Silvestre Nº104532 <b>|</b> Rita Matos Nº104936 <b>CDB1</b></center> </div>\n",
    " <br>    \n",
    " <br>\n",
    " <br>\n",
    " <br>"
   ]
  },
  {
   "cell_type": "markdown",
   "id": "6f7a11a6-4e9a-4ca0-9591-84541a32be57",
   "metadata": {},
   "source": [
    "<style>\n",
    "@import url('https://fonts.cdnfonts.com/css/avenir-next-lt-pro?styles=29974');\n",
    "</style>\n",
    "\n",
    "<div style=\"background: linear-gradient(to right, #075924, #067572, #0371B1, #001D45); \n",
    "            padding: 15px; color: white; border-radius: 30000px; text-align: center;\">\n",
    "    <center><h1 style=\"color: white;font-size: 30px; font-family: 'Avenir Next LT Pro', sans-serif;\"><b>3 | Feature Engineering</b></h1></center>\n",
    "</div>"
   ]
  },
  {
   "cell_type": "markdown",
   "id": "9314dd44-a468-4f89-a172-e0af62b809d5",
   "metadata": {},
   "source": [
    "Nesta parte iremos ter em atenção a:\n",
    "\n",
    "- Tipos de Dados corretamente atribuidos\n",
    "- Valores Omissos\n",
    "- Possíveis *Outliers* \n",
    "- Remover valores discrepantes"
   ]
  },
  {
   "cell_type": "markdown",
   "id": "19988344-c542-4a00-9678-f454b9c1ce0a",
   "metadata": {},
   "source": [
    "### PySpark Session"
   ]
  },
  {
   "cell_type": "code",
   "execution_count": 1,
   "id": "c9cd869e-c975-424a-89ab-e9a9f124500b",
   "metadata": {
    "tags": []
   },
   "outputs": [
    {
     "data": {
      "application/vnd.jupyter.widget-view+json": {
       "model_id": "07cc90c383884bf0ba7a72fc871179bf",
       "version_major": 2,
       "version_minor": 0
      },
      "text/plain": [
       "VBox()"
      ]
     },
     "metadata": {},
     "output_type": "display_data"
    },
    {
     "name": "stdout",
     "output_type": "stream",
     "text": [
      "Starting Spark application\n"
     ]
    },
    {
     "data": {
      "text/html": [
       "<table>\n",
       "<tr><th>ID</th><th>YARN Application ID</th><th>Kind</th><th>State</th><th>Spark UI</th><th>Driver log</th><th>Current session?</th></tr><tr><td>2</td><td>application_1680809728276_0003</td><td>pyspark</td><td>idle</td><td><a target=\"_blank\" href=\"http://ip-172-31-55-147.ec2.internal:20888/proxy/application_1680809728276_0003/\" class=\"emr-proxy-link\" emr-resource=\"j-1V45SU2H96K6S\n",
       "\" application-id=\"application_1680809728276_0003\">Link</a></td><td><a target=\"_blank\" href=\"http://ip-172-31-49-5.ec2.internal:8042/node/containerlogs/container_1680809728276_0003_01_000001/livy\" >Link</a></td><td>✔</td></tr></table>"
      ],
      "text/plain": [
       "<IPython.core.display.HTML object>"
      ]
     },
     "metadata": {},
     "output_type": "display_data"
    },
    {
     "data": {
      "application/vnd.jupyter.widget-view+json": {
       "model_id": "",
       "version_major": 2,
       "version_minor": 0
      },
      "text/plain": [
       "FloatProgress(value=0.0, bar_style='info', description='Progress:', layout=Layout(height='25px', width='50%'),…"
      ]
     },
     "metadata": {},
     "output_type": "display_data"
    },
    {
     "name": "stdout",
     "output_type": "stream",
     "text": [
      "SparkSession available as 'spark'.\n"
     ]
    },
    {
     "data": {
      "application/vnd.jupyter.widget-view+json": {
       "model_id": "",
       "version_major": 2,
       "version_minor": 0
      },
      "text/plain": [
       "FloatProgress(value=0.0, bar_style='info', description='Progress:', layout=Layout(height='25px', width='50%'),…"
      ]
     },
     "metadata": {},
     "output_type": "display_data"
    }
   ],
   "source": [
    "from pyspark.sql import SparkSession\n",
    "\n",
    "spark = SparkSession.builder.appName('Expedia Project') \\\n",
    "    .config(\"spark.driver.memory\", \"10g\") \\\n",
    "    .config(\"spark.executor.memory\", \"10g\") \\\n",
    "    .config(\"spark.driver.host\", \"127.0.0.1\") \\\n",
    "    .config(\"spark.sql.debug.maxToStringFields\", \"1000\") \\\n",
    "    .getOrCreate()"
   ]
  },
  {
   "cell_type": "markdown",
   "id": "a1f6c4d1-a795-4503-adcc-3ad4c326d9ae",
   "metadata": {
    "tags": []
   },
   "source": [
    "# 📚 Import das Bibliotecas"
   ]
  },
  {
   "cell_type": "code",
   "execution_count": 2,
   "id": "585033e8-b36f-4a67-9fab-32f42f711cc5",
   "metadata": {
    "tags": []
   },
   "outputs": [
    {
     "data": {
      "application/vnd.jupyter.widget-view+json": {
       "model_id": "6b96ea67d7a14bcc979deea103f7db6a",
       "version_major": 2,
       "version_minor": 0
      },
      "text/plain": [
       "VBox()"
      ]
     },
     "metadata": {},
     "output_type": "display_data"
    },
    {
     "data": {
      "application/vnd.jupyter.widget-view+json": {
       "model_id": "",
       "version_major": 2,
       "version_minor": 0
      },
      "text/plain": [
       "FloatProgress(value=0.0, bar_style='info', description='Progress:', layout=Layout(height='25px', width='50%'),…"
      ]
     },
     "metadata": {},
     "output_type": "display_data"
    }
   ],
   "source": [
    "# Imports Gerais\n",
    "import os\n",
    "import sys\n",
    "\n",
    "# Imports Python\n",
    "import numpy as np\n",
    "import pandas as pd  \n",
    "import warnings\n",
    "warnings.filterwarnings(\"ignore\")\n",
    "\n",
    "# Imports PySpark\n",
    "import pyspark.sql.functions as F\n",
    "from pyspark.sql.types import *"
   ]
  },
  {
   "cell_type": "markdown",
   "id": "160f766e-5a50-4803-b867-7ca454aaa74d",
   "metadata": {
    "tags": []
   },
   "source": [
    "# 🧮 Importar Bases de Dados (parquet)"
   ]
  },
  {
   "cell_type": "code",
   "execution_count": 3,
   "id": "1a5badd1-93d5-4b4c-86e8-7f0826f67a85",
   "metadata": {
    "tags": []
   },
   "outputs": [
    {
     "data": {
      "application/vnd.jupyter.widget-view+json": {
       "model_id": "dab34062987543109fd7d208183413b2",
       "version_major": 2,
       "version_minor": 0
      },
      "text/plain": [
       "VBox()"
      ]
     },
     "metadata": {},
     "output_type": "display_data"
    },
    {
     "data": {
      "application/vnd.jupyter.widget-view+json": {
       "model_id": "",
       "version_major": 2,
       "version_minor": 0
      },
      "text/plain": [
       "FloatProgress(value=0.0, bar_style='info', description='Progress:', layout=Layout(height='25px', width='50%'),…"
      ]
     },
     "metadata": {},
     "output_type": "display_data"
    }
   ],
   "source": [
    "# Leitura da base de dados \"df-expedia-2\" guardada anteriormente\n",
    "# df_expedia = spark.read.parquet('df-expedia-2')\n",
    "df_expedia = spark.read.parquet('s3://pdb-grupo17-bucket-as/df-expedia-2')  #AWS"
   ]
  },
  {
   "cell_type": "code",
   "execution_count": 4,
   "id": "532ae17f-f34b-4850-b0ea-0cfa199b4f01",
   "metadata": {
    "tags": []
   },
   "outputs": [
    {
     "data": {
      "application/vnd.jupyter.widget-view+json": {
       "model_id": "8b0677ed6e464dfe9735fe84ce128258",
       "version_major": 2,
       "version_minor": 0
      },
      "text/plain": [
       "VBox()"
      ]
     },
     "metadata": {},
     "output_type": "display_data"
    },
    {
     "data": {
      "application/vnd.jupyter.widget-view+json": {
       "model_id": "",
       "version_major": 2,
       "version_minor": 0
      },
      "text/plain": [
       "FloatProgress(value=0.0, bar_style='info', description='Progress:', layout=Layout(height='25px', width='50%'),…"
      ]
     },
     "metadata": {},
     "output_type": "display_data"
    },
    {
     "name": "stdout",
     "output_type": "stream",
     "text": [
      "Nº de Observações: 37622378\n",
      "root\n",
      " |-- srch_destination_id: integer (nullable = true)\n",
      " |-- date_time: string (nullable = true)\n",
      " |-- site_name: integer (nullable = true)\n",
      " |-- posa_continent: integer (nullable = true)\n",
      " |-- user_location_country: integer (nullable = true)\n",
      " |-- user_location_region: integer (nullable = true)\n",
      " |-- user_location_city: integer (nullable = true)\n",
      " |-- orig_destination_distance: double (nullable = true)\n",
      " |-- user_id: integer (nullable = true)\n",
      " |-- is_mobile: integer (nullable = true)\n",
      " |-- is_package: integer (nullable = true)\n",
      " |-- channel: integer (nullable = true)\n",
      " |-- srch_ci: string (nullable = true)\n",
      " |-- srch_co: string (nullable = true)\n",
      " |-- srch_adults_cnt: integer (nullable = true)\n",
      " |-- srch_children_cnt: integer (nullable = true)\n",
      " |-- srch_rm_cnt: integer (nullable = true)\n",
      " |-- srch_destination_type_id: integer (nullable = true)\n",
      " |-- is_booking: integer (nullable = true)\n",
      " |-- cnt: integer (nullable = true)\n",
      " |-- hotel_continent: integer (nullable = true)\n",
      " |-- hotel_country: integer (nullable = true)\n",
      " |-- hotel_market: integer (nullable = true)\n",
      " |-- hotel_cluster: integer (nullable = true)\n",
      " |-- pcaFeature_1: double (nullable = true)\n",
      " |-- pcaFeature_2: double (nullable = true)\n",
      " |-- pcaFeature_3: double (nullable = true)\n",
      " |-- date_time_ano: integer (nullable = true)\n",
      " |-- date_time_mes: integer (nullable = true)\n",
      " |-- date_time_dia: integer (nullable = true)\n",
      " |-- date_time_diasemana: integer (nullable = true)\n",
      " |-- srch_ci_ano: integer (nullable = true)\n",
      " |-- srch_ci_mes: integer (nullable = true)\n",
      " |-- srch_ci_dia: integer (nullable = true)\n",
      " |-- srch_ci_diasemana: integer (nullable = true)\n",
      " |-- srch_co_ano: integer (nullable = true)\n",
      " |-- srch_co_mes: integer (nullable = true)\n",
      " |-- srch_co_dia: integer (nullable = true)\n",
      " |-- srch_co_diasemana: integer (nullable = true)\n",
      " |-- tempo_estadia: integer (nullable = true)"
     ]
    }
   ],
   "source": [
    "# Confirmar o nº de observações e tipos de dados\n",
    "print(\"Nº de Observações:\", df_expedia.count())\n",
    "df_expedia.printSchema()"
   ]
  },
  {
   "cell_type": "markdown",
   "id": "881c0b10-f015-485b-a16b-28eb3fc67780",
   "metadata": {},
   "source": [
    "---"
   ]
  },
  {
   "cell_type": "markdown",
   "id": "433225b7-b49b-4786-94d1-8732562ea73a",
   "metadata": {},
   "source": [
    "# 🧹 Limpeza dos Dados"
   ]
  },
  {
   "cell_type": "markdown",
   "id": "f2e071b5-76b0-47fa-9282-c362c70857d7",
   "metadata": {},
   "source": [
    "### Valores Omissos\n",
    "\n",
    "- Depois da Adição/Transformação de Variáveis, vamos voltar a verificar a existência de **valores omissos**."
   ]
  },
  {
   "cell_type": "code",
   "execution_count": 5,
   "id": "b425c44e-0f62-4184-9f68-48b8b53ac9d3",
   "metadata": {
    "tags": []
   },
   "outputs": [
    {
     "data": {
      "application/vnd.jupyter.widget-view+json": {
       "model_id": "5e8de1a032f7486cb6b17e0e2c3c86a7",
       "version_major": 2,
       "version_minor": 0
      },
      "text/plain": [
       "VBox()"
      ]
     },
     "metadata": {},
     "output_type": "display_data"
    },
    {
     "data": {
      "application/vnd.jupyter.widget-view+json": {
       "model_id": "",
       "version_major": 2,
       "version_minor": 0
      },
      "text/plain": [
       "FloatProgress(value=0.0, bar_style='info', description='Progress:', layout=Layout(height='25px', width='50%'),…"
      ]
     },
     "metadata": {},
     "output_type": "display_data"
    },
    {
     "name": "stdout",
     "output_type": "stream",
     "text": [
      "Coluna orig_destination_distance  ->  13504882 valores nulos [NaN] (35.90%)\n",
      "Coluna pcaFeature_1  ->  166801 valores nulos [NaN] (0.44%)\n",
      "Coluna pcaFeature_2  ->  166801 valores nulos [NaN] (0.44%)\n",
      "Coluna pcaFeature_3  ->  166801 valores nulos [NaN] (0.44%)"
     ]
    }
   ],
   "source": [
    "# Ciclo for para os Valores Nulos por coluna\n",
    "count_obs = df_expedia.count()\n",
    "col_date = ['date_time', 'srch_ci', 'srch_co']\n",
    "cols_interest = [x for x in df_expedia.columns if x not in col_date]\n",
    "\n",
    "for cl in cols_interest:\n",
    "    k = df_expedia.select(cl).filter(F.col(cl).isNull() | F.isnan(cl)).count()\n",
    "    if k > 0:\n",
    "        print(f'Coluna {cl}  ->  {k} valores nulos [NaN] ({k*100/count_obs:.2f}%)')"
   ]
  },
  {
   "cell_type": "markdown",
   "id": "bc8f10a2-8e1a-4f1a-98dd-3690eb20ca9b",
   "metadata": {},
   "source": [
    "### Possíveis *outliers*\n",
    "\n",
    "- Verificamos ainda possíveis valores ***outliers***."
   ]
  },
  {
   "cell_type": "code",
   "execution_count": 6,
   "id": "95f170c9-a4eb-47f7-a60d-f16e2d66d628",
   "metadata": {
    "tags": []
   },
   "outputs": [
    {
     "data": {
      "application/vnd.jupyter.widget-view+json": {
       "model_id": "cbe7a5e1822e4038a39ad591648e7613",
       "version_major": 2,
       "version_minor": 0
      },
      "text/plain": [
       "VBox()"
      ]
     },
     "metadata": {},
     "output_type": "display_data"
    },
    {
     "data": {
      "application/vnd.jupyter.widget-view+json": {
       "model_id": "",
       "version_major": 2,
       "version_minor": 0
      },
      "text/plain": [
       "FloatProgress(value=0.0, bar_style='info', description='Progress:', layout=Layout(height='25px', width='50%'),…"
      ]
     },
     "metadata": {},
     "output_type": "display_data"
    },
    {
     "name": "stdout",
     "output_type": "stream",
     "text": [
      "  summary srch_destination_id  ...  srch_co_diasemana      tempo_estadia\n",
      "0   count            37622378  ...           37622378           37622378\n",
      "1    mean  14440.970450219813  ...  3.805820328528941  3.372074859276572\n",
      "2  stddev  11065.372374915481  ...  2.164926564385831  3.092224757855745\n",
      "3     min                   0  ...                  1                  0\n",
      "4     max               65107  ...                  7                516\n",
      "\n",
      "[5 rows x 41 columns]"
     ]
    }
   ],
   "source": [
    "df_expedia.describe().toPandas()"
   ]
  },
  {
   "cell_type": "markdown",
   "id": "0b569ec3-12fa-4e9c-a3d5-ac382927e4e2",
   "metadata": {},
   "source": [
    "> Após observar as medidas estatísticas, não observámos nenhum possível *outlier*.\n",
    "\n",
    "----"
   ]
  },
  {
   "cell_type": "markdown",
   "id": "04eb3bd1-5844-4ec6-a6d2-a3e21ca3f8b2",
   "metadata": {},
   "source": [
    "#### Eliminar a *feature* `orig_destination_distance`"
   ]
  },
  {
   "cell_type": "markdown",
   "id": "af617244-353b-488a-8247-79d6169a9bfb",
   "metadata": {},
   "source": [
    "> Após alguma pesquisa relativa aos valores omissos na *feature* `orig_destination_distance` deparámo-nos com a confirmação do *host* da competição para esta situação. [[1]](https://www.kaggle.com/competitions/expedia-hotel-recommendations/discussion/20345)\n",
    "\n",
    "> Assim, considerámos que deveríamos proceder à eliminação desta coluna, dado que a proporção de dados omissos é de um terço e não faria sentido eliminarmos $\\sim 13.5M$ de observações do *dataset*."
   ]
  },
  {
   "cell_type": "code",
   "execution_count": 7,
   "id": "54c4d2da-be57-4fb4-b586-ceb358980a9d",
   "metadata": {},
   "outputs": [
    {
     "data": {
      "application/vnd.jupyter.widget-view+json": {
       "model_id": "758242e8f6a741519de739005eb88616",
       "version_major": 2,
       "version_minor": 0
      },
      "text/plain": [
       "VBox()"
      ]
     },
     "metadata": {},
     "output_type": "display_data"
    },
    {
     "data": {
      "application/vnd.jupyter.widget-view+json": {
       "model_id": "",
       "version_major": 2,
       "version_minor": 0
      },
      "text/plain": [
       "FloatProgress(value=0.0, bar_style='info', description='Progress:', layout=Layout(height='25px', width='50%'),…"
      ]
     },
     "metadata": {},
     "output_type": "display_data"
    }
   ],
   "source": [
    "# Eliminar a coluna orig_destination_distance\n",
    "df_expedia = df_expedia.drop('orig_destination_distance')"
   ]
  },
  {
   "cell_type": "markdown",
   "id": "6cf7fa2b-b598-493a-a844-d589ac890d7c",
   "metadata": {},
   "source": [
    "#### Eliminar as observações com valores omissos de `pcaFeature_1`, `pcaFeature_2` e `pcaFeature_3`"
   ]
  },
  {
   "cell_type": "code",
   "execution_count": 8,
   "id": "a435e6dc-1767-46f2-9566-1731cb5921b9",
   "metadata": {
    "tags": []
   },
   "outputs": [
    {
     "data": {
      "application/vnd.jupyter.widget-view+json": {
       "model_id": "1f570206cad94f1f94efb13b5f7bb77a",
       "version_major": 2,
       "version_minor": 0
      },
      "text/plain": [
       "VBox()"
      ]
     },
     "metadata": {},
     "output_type": "display_data"
    },
    {
     "data": {
      "application/vnd.jupyter.widget-view+json": {
       "model_id": "",
       "version_major": 2,
       "version_minor": 0
      },
      "text/plain": [
       "FloatProgress(value=0.0, bar_style='info', description='Progress:', layout=Layout(height='25px', width='50%'),…"
      ]
     },
     "metadata": {},
     "output_type": "display_data"
    }
   ],
   "source": [
    "# Filtrar as observações que não tenham NAs nas features pcaFeature_1, pcaFeature_2 e pcaFeature_3\n",
    "df_expedia = df_expedia.filter(~(df_expedia.pcaFeature_1).isNull() & \n",
    "                               ~(df_expedia.pcaFeature_2).isNull() & \n",
    "                               ~(df_expedia.pcaFeature_3).isNull())     # Nota: '~' é usado para fazer a negação"
   ]
  },
  {
   "cell_type": "code",
   "execution_count": 9,
   "id": "792eab3f-5fdb-4e96-bfc3-7e8b29623046",
   "metadata": {
    "tags": []
   },
   "outputs": [
    {
     "data": {
      "application/vnd.jupyter.widget-view+json": {
       "model_id": "644aaeb5e84848399058ec03d9af5607",
       "version_major": 2,
       "version_minor": 0
      },
      "text/plain": [
       "VBox()"
      ]
     },
     "metadata": {},
     "output_type": "display_data"
    },
    {
     "data": {
      "application/vnd.jupyter.widget-view+json": {
       "model_id": "",
       "version_major": 2,
       "version_minor": 0
      },
      "text/plain": [
       "FloatProgress(value=0.0, bar_style='info', description='Progress:', layout=Layout(height='25px', width='50%'),…"
      ]
     },
     "metadata": {},
     "output_type": "display_data"
    },
    {
     "name": "stdout",
     "output_type": "stream",
     "text": [
      "37455577"
     ]
    }
   ],
   "source": [
    "# Recontagem das observações 37 622 378 - 37 455 577 = 166 801 obs. (0.44% das observações)\n",
    "df_expedia.count()"
   ]
  },
  {
   "cell_type": "markdown",
   "id": "9efea39c-12d5-46ec-9338-adb90e9744d7",
   "metadata": {},
   "source": [
    "---"
   ]
  },
  {
   "cell_type": "markdown",
   "id": "90784021-c116-48b3-99c7-c86f10291100",
   "metadata": {
    "tags": []
   },
   "source": [
    "# 🧩 Escolha das Variáveis para os Modelos"
   ]
  },
  {
   "cell_type": "markdown",
   "id": "036f2571-2522-4854-b091-a2a641a068a7",
   "metadata": {},
   "source": [
    "> Aqui considerámos as **Correlações de Pearson**, realizadas na AED dos dados, com valores acima de $0.01$ porque neste contexto são as que apresentam os valores mais elevados"
   ]
  },
  {
   "cell_type": "code",
   "execution_count": 10,
   "id": "a5d6c22c-c3bd-4a26-b59d-dcdf2d069ed7",
   "metadata": {
    "tags": []
   },
   "outputs": [
    {
     "data": {
      "application/vnd.jupyter.widget-view+json": {
       "model_id": "2dd5898da4a2425a94bba2a7f68b3d0e",
       "version_major": 2,
       "version_minor": 0
      },
      "text/plain": [
       "VBox()"
      ]
     },
     "metadata": {},
     "output_type": "display_data"
    },
    {
     "data": {
      "application/vnd.jupyter.widget-view+json": {
       "model_id": "",
       "version_major": 2,
       "version_minor": 0
      },
      "text/plain": [
       "FloatProgress(value=0.0, bar_style='info', description='Progress:', layout=Layout(height='25px', width='50%'),…"
      ]
     },
     "metadata": {},
     "output_type": "display_data"
    }
   ],
   "source": [
    "# Lista das features a usar\n",
    "features_list = ['srch_destination_id', 'site_name', 'posa_continent','user_location_country', \n",
    "                 'is_package', 'srch_adults_cnt','srch_children_cnt', 'srch_destination_type_id', \n",
    "                 'is_booking','hotel_continent', 'hotel_country', 'hotel_market',\n",
    "                 'pcaFeature_1', 'pcaFeature_2', 'pcaFeature_3','tempo_estadia']"
   ]
  },
  {
   "cell_type": "code",
   "execution_count": 11,
   "id": "7c5dfc91-ccb6-4810-b6e5-167b16fdb79d",
   "metadata": {},
   "outputs": [
    {
     "data": {
      "application/vnd.jupyter.widget-view+json": {
       "model_id": "3958a0e1ba9249359fa28bd953ac75e0",
       "version_major": 2,
       "version_minor": 0
      },
      "text/plain": [
       "VBox()"
      ]
     },
     "metadata": {},
     "output_type": "display_data"
    },
    {
     "data": {
      "application/vnd.jupyter.widget-view+json": {
       "model_id": "",
       "version_major": 2,
       "version_minor": 0
      },
      "text/plain": [
       "FloatProgress(value=0.0, bar_style='info', description='Progress:', layout=Layout(height='25px', width='50%'),…"
      ]
     },
     "metadata": {},
     "output_type": "display_data"
    }
   ],
   "source": [
    "# Selecionar as Features\n",
    "df_expedia = df_expedia.select(*features_list, 'hotel_cluster')"
   ]
  },
  {
   "cell_type": "markdown",
   "id": "7a44d442-a873-461a-bf8b-403e32777801",
   "metadata": {},
   "source": [
    "---"
   ]
  },
  {
   "cell_type": "markdown",
   "id": "7104685a-00b6-45f8-8d15-ae85ef3e4fc5",
   "metadata": {},
   "source": [
    "## ✂️ Reduzir a Dimensão do Dataset\n",
    "\n",
    "Diminuímos a dimensão do *dataset* para **30%** do seu tamanho original por questões de produtividade, tal como mencionado em aula."
   ]
  },
  {
   "cell_type": "code",
   "execution_count": 12,
   "id": "24e05d26-4b0a-4672-8812-f8d204a37161",
   "metadata": {},
   "outputs": [
    {
     "data": {
      "application/vnd.jupyter.widget-view+json": {
       "model_id": "e935b5f58db4447dad7f075351d09273",
       "version_major": 2,
       "version_minor": 0
      },
      "text/plain": [
       "VBox()"
      ]
     },
     "metadata": {},
     "output_type": "display_data"
    },
    {
     "data": {
      "application/vnd.jupyter.widget-view+json": {
       "model_id": "",
       "version_major": 2,
       "version_minor": 0
      },
      "text/plain": [
       "FloatProgress(value=0.0, bar_style='info', description='Progress:', layout=Layout(height='25px', width='50%'),…"
      ]
     },
     "metadata": {},
     "output_type": "display_data"
    },
    {
     "name": "stdout",
     "output_type": "stream",
     "text": [
      "11236139"
     ]
    }
   ],
   "source": [
    "# Total do Dataset Orignal = 37 622 378, ~ 4GB  |  Redução de 30% = 11 286 657  ~ 1,20GB\n",
    "small_df_expedia = df_expedia.sample(withReplacement = False, fraction=0.3, seed=123)\n",
    "small_df_expedia.count()"
   ]
  },
  {
   "cell_type": "markdown",
   "id": "b3affc72-ed56-4637-b524-92008da02dcc",
   "metadata": {},
   "source": [
    "# 💾 Guardar os dados"
   ]
  },
  {
   "cell_type": "code",
   "execution_count": 13,
   "id": "e6feb3d4-34a5-4f27-8cde-528ae7b8877d",
   "metadata": {
    "tags": []
   },
   "outputs": [
    {
     "data": {
      "application/vnd.jupyter.widget-view+json": {
       "model_id": "5a957c8478434e16bfb27b0215859bc5",
       "version_major": 2,
       "version_minor": 0
      },
      "text/plain": [
       "VBox()"
      ]
     },
     "metadata": {},
     "output_type": "display_data"
    },
    {
     "data": {
      "application/vnd.jupyter.widget-view+json": {
       "model_id": "",
       "version_major": 2,
       "version_minor": 0
      },
      "text/plain": [
       "FloatProgress(value=0.0, bar_style='info', description='Progress:', layout=Layout(height='25px', width='50%'),…"
      ]
     },
     "metadata": {},
     "output_type": "display_data"
    }
   ],
   "source": [
    "# Guardar o notebook de menor dimensão para utilização futura\n",
    "# small_df_expedia.write.mode(\"overwrite\").parquet(\"small-df-expedia\")\n",
    "small_df_expedia.write.mode(\"overwrite\").parquet(\"s3://pdb-grupo17-bucket-as/small-df-expedia\")"
   ]
  },
  {
   "cell_type": "code",
   "execution_count": 14,
   "id": "a04cae27-c373-4bcf-818f-6ac2b6e585fd",
   "metadata": {},
   "outputs": [
    {
     "data": {
      "application/vnd.jupyter.widget-view+json": {
       "model_id": "19a01af903e04dababff2c70b1905934",
       "version_major": 2,
       "version_minor": 0
      },
      "text/plain": [
       "VBox()"
      ]
     },
     "metadata": {},
     "output_type": "display_data"
    },
    {
     "data": {
      "application/vnd.jupyter.widget-view+json": {
       "model_id": "",
       "version_major": 2,
       "version_minor": 0
      },
      "text/plain": [
       "FloatProgress(value=0.0, bar_style='info', description='Progress:', layout=Layout(height='25px', width='50%'),…"
      ]
     },
     "metadata": {},
     "output_type": "display_data"
    },
    {
     "name": "stdout",
     "output_type": "stream",
     "text": [
      "root\n",
      " |-- srch_destination_id: integer (nullable = true)\n",
      " |-- site_name: integer (nullable = true)\n",
      " |-- posa_continent: integer (nullable = true)\n",
      " |-- user_location_country: integer (nullable = true)\n",
      " |-- is_package: integer (nullable = true)\n",
      " |-- srch_adults_cnt: integer (nullable = true)\n",
      " |-- srch_children_cnt: integer (nullable = true)\n",
      " |-- srch_destination_type_id: integer (nullable = true)\n",
      " |-- is_booking: integer (nullable = true)\n",
      " |-- hotel_continent: integer (nullable = true)\n",
      " |-- hotel_country: integer (nullable = true)\n",
      " |-- hotel_market: integer (nullable = true)\n",
      " |-- pcaFeature_1: double (nullable = true)\n",
      " |-- pcaFeature_2: double (nullable = true)\n",
      " |-- pcaFeature_3: double (nullable = true)\n",
      " |-- tempo_estadia: integer (nullable = true)\n",
      " |-- hotel_cluster: integer (nullable = true)"
     ]
    }
   ],
   "source": [
    "df_expedia.printSchema()"
   ]
  },
  {
   "cell_type": "code",
   "execution_count": 15,
   "id": "d0ac9ea9-bf09-4ede-922d-d4de7edd4643",
   "metadata": {
    "tags": []
   },
   "outputs": [
    {
     "data": {
      "application/vnd.jupyter.widget-view+json": {
       "model_id": "145ca25e7ec94dc7a992ff8b6a7fc4c6",
       "version_major": 2,
       "version_minor": 0
      },
      "text/plain": [
       "VBox()"
      ]
     },
     "metadata": {},
     "output_type": "display_data"
    },
    {
     "data": {
      "application/vnd.jupyter.widget-view+json": {
       "model_id": "",
       "version_major": 2,
       "version_minor": 0
      },
      "text/plain": [
       "FloatProgress(value=0.0, bar_style='info', description='Progress:', layout=Layout(height='25px', width='50%'),…"
      ]
     },
     "metadata": {},
     "output_type": "display_data"
    }
   ],
   "source": [
    "# Guardar o dataset após a limpeza efetuada\n",
    "# df_expedia.write.mode(\"overwrite\").parquet(\"df-expedia-3\")\n",
    "df_expedia.write.mode(\"overwrite\").parquet(\"s3://pdb-grupo17-bucket-as/df-expedia-3\")"
   ]
  },
  {
   "cell_type": "markdown",
   "id": "f00bac83-6a22-4cad-a078-b09360644c3a",
   "metadata": {},
   "source": [
    "---"
   ]
  },
  {
   "cell_type": "markdown",
   "id": "909fc344-9e5b-4224-bdb9-471c85061e1d",
   "metadata": {},
   "source": [
    "# 🔗 Referencias Bibliográficas\n",
    "\n",
    "**[1]** Woznica, A. (2016). Expedia Hotel Recommendations - Discussion | Data leak. Kaggle.com. https://www.kaggle.com/competitions/expedia-hotel-recommendations/discussion/20345"
   ]
  }
 ],
 "metadata": {
  "kernelspec": {
   "display_name": "PySpark",
   "language": "",
   "name": "pysparkkernel"
  },
  "language_info": {
   "codemirror_mode": {
    "name": "python",
    "version": 3
   },
   "mimetype": "text/x-python",
   "name": "pyspark",
   "pygments_lexer": "python3"
  }
 },
 "nbformat": 4,
 "nbformat_minor": 5
}
